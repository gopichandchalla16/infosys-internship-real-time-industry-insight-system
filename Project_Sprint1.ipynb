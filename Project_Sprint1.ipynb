{
  "nbformat": 4,
  "nbformat_minor": 0,
  "metadata": {
    "colab": {
      "provenance": [],
      "authorship_tag": "ABX9TyO2xVxbZAthdASMCw9IsYkz",
      "include_colab_link": true
    },
    "kernelspec": {
      "name": "python3",
      "display_name": "Python 3"
    },
    "language_info": {
      "name": "python"
    }
  },
  "cells": [
    {
      "cell_type": "markdown",
      "metadata": {
        "id": "view-in-github",
        "colab_type": "text"
      },
      "source": [
        "<a href=\"https://colab.research.google.com/github/gopichandchalla16/infosys-internship-real-time-industry-insight-system/blob/main/Project_Sprint1.ipynb\" target=\"_parent\"><img src=\"https://colab.research.google.com/assets/colab-badge.svg\" alt=\"Open In Colab\"/></a>"
      ]
    },
    {
      "cell_type": "markdown",
      "source": [
        "# Infosys Springboard Internship Project\n",
        "## Real-Time Industry Insight & Strategic Intelligence System\n",
        "### Sprint 1 – Data Sourcing & Handling\n",
        "**Team Members:** Gopichand, Anshika, Janmejay,\n",
        "\n",
        "**Objective:** Collect, clean, and visualize real-time company or market data from external open sources.\n"
      ],
      "metadata": {
        "id": "Dscw95TZwYI2"
      }
    },
    {
      "cell_type": "markdown",
      "source": [
        "## Step 1: Interactive User Input\n",
        "We allow users to enter a **company or asset name** to fetch relevant data dynamically.\n"
      ],
      "metadata": {
        "id": "QF9p0po90C-y"
      }
    },
    {
      "cell_type": "code",
      "source": [
        "# User input for asset/company\n",
        "company_name = input(\"Enter the company name (e.g., Infosys, Rakuten, Netflix, TCS): \")\n",
        "print(f\"\\nData analysis will be performed for: {company_name}\")"
      ],
      "metadata": {
        "colab": {
          "base_uri": "https://localhost:8080/"
        },
        "id": "U6S50TEP0AQZ",
        "outputId": "73324854-818b-4192-9007-1faa15e263cb"
      },
      "execution_count": 36,
      "outputs": [
        {
          "output_type": "stream",
          "name": "stdout",
          "text": [
            "Enter the company name (e.g., Infosys, Rakuten, Netflix, TCS): Netflix\n",
            "\n",
            "Data analysis will be performed for: Netflix\n"
          ]
        }
      ]
    },
    {
      "cell_type": "markdown",
      "source": [
        "##  Step 2: Import Required Libraries\n",
        "We use the following Python libraries:\n",
        "- `requests` & `BeautifulSoup` for scraping web data\n",
        "- `pandas` for data manipulation\n",
        "- `matplotlib` & `seaborn` for visualization\n",
        "- `textblob` for sentiment analysis\n",
        "- `yfinance` for market data\n",
        "- `wikipedia` for Wikipedia summaries\n"
      ],
      "metadata": {
        "id": "y9M4Ib1k0VEQ"
      }
    },
    {
      "cell_type": "code",
      "source": [
        "# Install required libraries (run once)\n",
        "!pip install yfinance textblob beautifulsoup4 lxml wikipedia feedparser faker\n",
        "\n",
        "# Import libraries\n",
        "import requests\n",
        "import pandas as pd\n",
        "import matplotlib.pyplot as plt\n",
        "import seaborn as sns\n",
        "from textblob import TextBlob\n",
        "import yfinance as yf\n",
        "import wikipedia\n",
        "from bs4 import BeautifulSoup\n",
        "import feedparser\n",
        "from faker import Faker\n",
        "import random\n",
        "import datetime\n",
        "\n",
        "# Set seaborn style\n",
        "sns.set(style=\"whitegrid\")"
      ],
      "metadata": {
        "colab": {
          "base_uri": "https://localhost:8080/"
        },
        "id": "5avNj5qJ0pob",
        "outputId": "d8b17a43-9e18-4cad-83f0-f96f0fa55d73"
      },
      "execution_count": 37,
      "outputs": [
        {
          "output_type": "stream",
          "name": "stdout",
          "text": [
            "Requirement already satisfied: yfinance in /usr/local/lib/python3.12/dist-packages (0.2.66)\n",
            "Requirement already satisfied: textblob in /usr/local/lib/python3.12/dist-packages (0.19.0)\n",
            "Requirement already satisfied: beautifulsoup4 in /usr/local/lib/python3.12/dist-packages (4.13.5)\n",
            "Requirement already satisfied: lxml in /usr/local/lib/python3.12/dist-packages (5.4.0)\n",
            "Requirement already satisfied: wikipedia in /usr/local/lib/python3.12/dist-packages (1.4.0)\n",
            "Requirement already satisfied: feedparser in /usr/local/lib/python3.12/dist-packages (6.0.12)\n",
            "Requirement already satisfied: faker in /usr/local/lib/python3.12/dist-packages (37.12.0)\n",
            "Requirement already satisfied: pandas>=1.3.0 in /usr/local/lib/python3.12/dist-packages (from yfinance) (2.2.2)\n",
            "Requirement already satisfied: numpy>=1.16.5 in /usr/local/lib/python3.12/dist-packages (from yfinance) (2.0.2)\n",
            "Requirement already satisfied: requests>=2.31 in /usr/local/lib/python3.12/dist-packages (from yfinance) (2.32.4)\n",
            "Requirement already satisfied: multitasking>=0.0.7 in /usr/local/lib/python3.12/dist-packages (from yfinance) (0.0.12)\n",
            "Requirement already satisfied: platformdirs>=2.0.0 in /usr/local/lib/python3.12/dist-packages (from yfinance) (4.5.0)\n",
            "Requirement already satisfied: pytz>=2022.5 in /usr/local/lib/python3.12/dist-packages (from yfinance) (2025.2)\n",
            "Requirement already satisfied: frozendict>=2.3.4 in /usr/local/lib/python3.12/dist-packages (from yfinance) (2.4.6)\n",
            "Requirement already satisfied: peewee>=3.16.2 in /usr/local/lib/python3.12/dist-packages (from yfinance) (3.18.2)\n",
            "Requirement already satisfied: curl_cffi>=0.7 in /usr/local/lib/python3.12/dist-packages (from yfinance) (0.13.0)\n",
            "Requirement already satisfied: protobuf>=3.19.0 in /usr/local/lib/python3.12/dist-packages (from yfinance) (5.29.5)\n",
            "Requirement already satisfied: websockets>=13.0 in /usr/local/lib/python3.12/dist-packages (from yfinance) (15.0.1)\n",
            "Requirement already satisfied: nltk>=3.9 in /usr/local/lib/python3.12/dist-packages (from textblob) (3.9.1)\n",
            "Requirement already satisfied: soupsieve>1.2 in /usr/local/lib/python3.12/dist-packages (from beautifulsoup4) (2.8)\n",
            "Requirement already satisfied: typing-extensions>=4.0.0 in /usr/local/lib/python3.12/dist-packages (from beautifulsoup4) (4.15.0)\n",
            "Requirement already satisfied: sgmllib3k in /usr/local/lib/python3.12/dist-packages (from feedparser) (1.0.0)\n",
            "Requirement already satisfied: tzdata in /usr/local/lib/python3.12/dist-packages (from faker) (2025.2)\n",
            "Requirement already satisfied: cffi>=1.12.0 in /usr/local/lib/python3.12/dist-packages (from curl_cffi>=0.7->yfinance) (2.0.0)\n",
            "Requirement already satisfied: certifi>=2024.2.2 in /usr/local/lib/python3.12/dist-packages (from curl_cffi>=0.7->yfinance) (2025.10.5)\n",
            "Requirement already satisfied: click in /usr/local/lib/python3.12/dist-packages (from nltk>=3.9->textblob) (8.3.0)\n",
            "Requirement already satisfied: joblib in /usr/local/lib/python3.12/dist-packages (from nltk>=3.9->textblob) (1.5.2)\n",
            "Requirement already satisfied: regex>=2021.8.3 in /usr/local/lib/python3.12/dist-packages (from nltk>=3.9->textblob) (2024.11.6)\n",
            "Requirement already satisfied: tqdm in /usr/local/lib/python3.12/dist-packages (from nltk>=3.9->textblob) (4.67.1)\n",
            "Requirement already satisfied: python-dateutil>=2.8.2 in /usr/local/lib/python3.12/dist-packages (from pandas>=1.3.0->yfinance) (2.9.0.post0)\n",
            "Requirement already satisfied: charset_normalizer<4,>=2 in /usr/local/lib/python3.12/dist-packages (from requests>=2.31->yfinance) (3.4.4)\n",
            "Requirement already satisfied: idna<4,>=2.5 in /usr/local/lib/python3.12/dist-packages (from requests>=2.31->yfinance) (3.11)\n",
            "Requirement already satisfied: urllib3<3,>=1.21.1 in /usr/local/lib/python3.12/dist-packages (from requests>=2.31->yfinance) (2.5.0)\n",
            "Requirement already satisfied: pycparser in /usr/local/lib/python3.12/dist-packages (from cffi>=1.12.0->curl_cffi>=0.7->yfinance) (2.23)\n",
            "Requirement already satisfied: six>=1.5 in /usr/local/lib/python3.12/dist-packages (from python-dateutil>=2.8.2->pandas>=1.3.0->yfinance) (1.17.0)\n"
          ]
        }
      ]
    },
    {
      "cell_type": "markdown",
      "source": [
        "## Step 3: Fetch Wikipedia Summary\n",
        "We fetch a **short summary** of the asset/company from Wikipedia for context.\n"
      ],
      "metadata": {
        "id": "4kQZ9tSe1Ibv"
      }
    },
    {
      "cell_type": "code",
      "source": [
        "try:\n",
        "    # Attempt to fetch summary by appending ' company' to the asset name\n",
        "    try:\n",
        "        wiki_summary = wikipedia.summary(f\"{company_name} company\", sentences=10) # Increased sentences to 10\n",
        "        print(\" Wikipedia Summary:\\n\")\n",
        "        print(wiki_summary)\n",
        "    except wikipedia.exceptions.PageError:\n",
        "        # If appending ' company' doesn't work, try the original asset name\n",
        "        wiki_summary = wikipedia.summary(company_name, sentences=10) # Increased sentences to 10\n",
        "        print(\" Wikipedia Summary:\\n\")\n",
        "        print(wiki_summary)\n",
        "except Exception as e:\n",
        "    print(f\"Could not fetch Wikipedia summary: {e}\")"
      ],
      "metadata": {
        "colab": {
          "base_uri": "https://localhost:8080/"
        },
        "id": "YF20qBl-1Lt9",
        "outputId": "295fae23-f055-4188-8b02-2ec3d939cd3b"
      },
      "execution_count": 38,
      "outputs": [
        {
          "output_type": "stream",
          "name": "stdout",
          "text": [
            " Wikipedia Summary:\n",
            "\n",
            "Netflix, Inc. is an American media company founded on August 29, 1997 by Reed Hastings and Marc Randolph in Scotts Valley, California, and currently based in Los Gatos, California, with production offices and stages at the Los Angeles-based Hollywood studios (formerly old Warner Brothers studios) and the Albuquerque Studios (formerly ABQ studios). It owns and operates an eponymous over-the-top subscription video on-demand service, which showcases acquired and original programming as well as third-party content licensed from other production companies and distributors. Netflix is also the first streaming media company to be a member of the Motion Picture Association.\n",
            "Netflix initially both sold and rented DVDs by mail, but the sales were eliminated within a year to focus on the DVD rental business. In 2007, Netflix introduced streaming media and video on demand. The company expanded to Canada in 2010, followed by Latin America and the Caribbean. In 2011, the service began to acquire and produce original content, beginning with the crime drama Lilyhammer.\n",
            "The company is ranked 117th on the Fortune 500 and 219th on the Forbes Global 2000. It is the second largest entertainment/media company by market capitalization as of February 2022.\n"
          ]
        }
      ]
    },
    {
      "cell_type": "markdown",
      "source": [
        "## Step 4: Fetch Yahoo Finance Data\n",
        "We fetch **historical market data** (last 30 days) for the asset using Yahoo Finance."
      ],
      "metadata": {
        "id": "UfegcSB31gDF"
      }
    },
    {
      "cell_type": "code",
      "source": [
        "try:\n",
        "    ticker = yf.Ticker(company_name if company_name.upper() in [\"BTC-USD\",\"TSLA\",\"AAPL\"] else \"BTC-USD\")\n",
        "    market_data = ticker.history(period=\"1mo\", interval=\"1d\")\n",
        "    market_data.reset_index(inplace=True)\n",
        "    print(f\"\\n Market Data Sample for {company_name}:\")\n",
        "    display(market_data.head())\n",
        "except Exception as e:\n",
        "    print(f\"Could not fetch Yahoo Finance data: {e}\")"
      ],
      "metadata": {
        "colab": {
          "base_uri": "https://localhost:8080/",
          "height": 241
        },
        "id": "X_mH55WX1kZk",
        "outputId": "a8b973d8-ad3d-4470-fa22-d7bf6ae6d6c3"
      },
      "execution_count": 39,
      "outputs": [
        {
          "output_type": "stream",
          "name": "stdout",
          "text": [
            "\n",
            " Market Data Sample for Netflix:\n"
          ]
        },
        {
          "output_type": "display_data",
          "data": {
            "text/plain": [
              "                       Date           Open           High            Low  \\\n",
              "0 2025-09-28 00:00:00+00:00  109681.945312  112375.484375  109236.945312   \n",
              "1 2025-09-29 00:00:00+00:00  112117.875000  114473.570312  111589.953125   \n",
              "2 2025-09-30 00:00:00+00:00  114396.523438  114836.617188  112740.562500   \n",
              "3 2025-10-01 00:00:00+00:00  114057.593750  118648.929688  113981.398438   \n",
              "4 2025-10-02 00:00:00+00:00  118652.382812  121086.406250  118383.156250   \n",
              "\n",
              "           Close       Volume  Dividends  Stock Splits  \n",
              "0  112122.640625  33371048505        0.0           0.0  \n",
              "1  114400.382812  60000147466        0.0           0.0  \n",
              "2  114056.085938  58986330258        0.0           0.0  \n",
              "3  118648.929688  71328680132        0.0           0.0  \n",
              "4  120681.257812  71415163912        0.0           0.0  "
            ],
            "text/html": [
              "\n",
              "  <div id=\"df-97995571-0df7-4058-9c68-d2480682a48c\" class=\"colab-df-container\">\n",
              "    <div>\n",
              "<style scoped>\n",
              "    .dataframe tbody tr th:only-of-type {\n",
              "        vertical-align: middle;\n",
              "    }\n",
              "\n",
              "    .dataframe tbody tr th {\n",
              "        vertical-align: top;\n",
              "    }\n",
              "\n",
              "    .dataframe thead th {\n",
              "        text-align: right;\n",
              "    }\n",
              "</style>\n",
              "<table border=\"1\" class=\"dataframe\">\n",
              "  <thead>\n",
              "    <tr style=\"text-align: right;\">\n",
              "      <th></th>\n",
              "      <th>Date</th>\n",
              "      <th>Open</th>\n",
              "      <th>High</th>\n",
              "      <th>Low</th>\n",
              "      <th>Close</th>\n",
              "      <th>Volume</th>\n",
              "      <th>Dividends</th>\n",
              "      <th>Stock Splits</th>\n",
              "    </tr>\n",
              "  </thead>\n",
              "  <tbody>\n",
              "    <tr>\n",
              "      <th>0</th>\n",
              "      <td>2025-09-28 00:00:00+00:00</td>\n",
              "      <td>109681.945312</td>\n",
              "      <td>112375.484375</td>\n",
              "      <td>109236.945312</td>\n",
              "      <td>112122.640625</td>\n",
              "      <td>33371048505</td>\n",
              "      <td>0.0</td>\n",
              "      <td>0.0</td>\n",
              "    </tr>\n",
              "    <tr>\n",
              "      <th>1</th>\n",
              "      <td>2025-09-29 00:00:00+00:00</td>\n",
              "      <td>112117.875000</td>\n",
              "      <td>114473.570312</td>\n",
              "      <td>111589.953125</td>\n",
              "      <td>114400.382812</td>\n",
              "      <td>60000147466</td>\n",
              "      <td>0.0</td>\n",
              "      <td>0.0</td>\n",
              "    </tr>\n",
              "    <tr>\n",
              "      <th>2</th>\n",
              "      <td>2025-09-30 00:00:00+00:00</td>\n",
              "      <td>114396.523438</td>\n",
              "      <td>114836.617188</td>\n",
              "      <td>112740.562500</td>\n",
              "      <td>114056.085938</td>\n",
              "      <td>58986330258</td>\n",
              "      <td>0.0</td>\n",
              "      <td>0.0</td>\n",
              "    </tr>\n",
              "    <tr>\n",
              "      <th>3</th>\n",
              "      <td>2025-10-01 00:00:00+00:00</td>\n",
              "      <td>114057.593750</td>\n",
              "      <td>118648.929688</td>\n",
              "      <td>113981.398438</td>\n",
              "      <td>118648.929688</td>\n",
              "      <td>71328680132</td>\n",
              "      <td>0.0</td>\n",
              "      <td>0.0</td>\n",
              "    </tr>\n",
              "    <tr>\n",
              "      <th>4</th>\n",
              "      <td>2025-10-02 00:00:00+00:00</td>\n",
              "      <td>118652.382812</td>\n",
              "      <td>121086.406250</td>\n",
              "      <td>118383.156250</td>\n",
              "      <td>120681.257812</td>\n",
              "      <td>71415163912</td>\n",
              "      <td>0.0</td>\n",
              "      <td>0.0</td>\n",
              "    </tr>\n",
              "  </tbody>\n",
              "</table>\n",
              "</div>\n",
              "    <div class=\"colab-df-buttons\">\n",
              "\n",
              "  <div class=\"colab-df-container\">\n",
              "    <button class=\"colab-df-convert\" onclick=\"convertToInteractive('df-97995571-0df7-4058-9c68-d2480682a48c')\"\n",
              "            title=\"Convert this dataframe to an interactive table.\"\n",
              "            style=\"display:none;\">\n",
              "\n",
              "  <svg xmlns=\"http://www.w3.org/2000/svg\" height=\"24px\" viewBox=\"0 -960 960 960\">\n",
              "    <path d=\"M120-120v-720h720v720H120Zm60-500h600v-160H180v160Zm220 220h160v-160H400v160Zm0 220h160v-160H400v160ZM180-400h160v-160H180v160Zm440 0h160v-160H620v160ZM180-180h160v-160H180v160Zm440 0h160v-160H620v160Z\"/>\n",
              "  </svg>\n",
              "    </button>\n",
              "\n",
              "  <style>\n",
              "    .colab-df-container {\n",
              "      display:flex;\n",
              "      gap: 12px;\n",
              "    }\n",
              "\n",
              "    .colab-df-convert {\n",
              "      background-color: #E8F0FE;\n",
              "      border: none;\n",
              "      border-radius: 50%;\n",
              "      cursor: pointer;\n",
              "      display: none;\n",
              "      fill: #1967D2;\n",
              "      height: 32px;\n",
              "      padding: 0 0 0 0;\n",
              "      width: 32px;\n",
              "    }\n",
              "\n",
              "    .colab-df-convert:hover {\n",
              "      background-color: #E2EBFA;\n",
              "      box-shadow: 0px 1px 2px rgba(60, 64, 67, 0.3), 0px 1px 3px 1px rgba(60, 64, 67, 0.15);\n",
              "      fill: #174EA6;\n",
              "    }\n",
              "\n",
              "    .colab-df-buttons div {\n",
              "      margin-bottom: 4px;\n",
              "    }\n",
              "\n",
              "    [theme=dark] .colab-df-convert {\n",
              "      background-color: #3B4455;\n",
              "      fill: #D2E3FC;\n",
              "    }\n",
              "\n",
              "    [theme=dark] .colab-df-convert:hover {\n",
              "      background-color: #434B5C;\n",
              "      box-shadow: 0px 1px 3px 1px rgba(0, 0, 0, 0.15);\n",
              "      filter: drop-shadow(0px 1px 2px rgba(0, 0, 0, 0.3));\n",
              "      fill: #FFFFFF;\n",
              "    }\n",
              "  </style>\n",
              "\n",
              "    <script>\n",
              "      const buttonEl =\n",
              "        document.querySelector('#df-97995571-0df7-4058-9c68-d2480682a48c button.colab-df-convert');\n",
              "      buttonEl.style.display =\n",
              "        google.colab.kernel.accessAllowed ? 'block' : 'none';\n",
              "\n",
              "      async function convertToInteractive(key) {\n",
              "        const element = document.querySelector('#df-97995571-0df7-4058-9c68-d2480682a48c');\n",
              "        const dataTable =\n",
              "          await google.colab.kernel.invokeFunction('convertToInteractive',\n",
              "                                                    [key], {});\n",
              "        if (!dataTable) return;\n",
              "\n",
              "        const docLinkHtml = 'Like what you see? Visit the ' +\n",
              "          '<a target=\"_blank\" href=https://colab.research.google.com/notebooks/data_table.ipynb>data table notebook</a>'\n",
              "          + ' to learn more about interactive tables.';\n",
              "        element.innerHTML = '';\n",
              "        dataTable['output_type'] = 'display_data';\n",
              "        await google.colab.output.renderOutput(dataTable, element);\n",
              "        const docLink = document.createElement('div');\n",
              "        docLink.innerHTML = docLinkHtml;\n",
              "        element.appendChild(docLink);\n",
              "      }\n",
              "    </script>\n",
              "  </div>\n",
              "\n",
              "\n",
              "    <div id=\"df-9061e5d4-ae17-43c8-96f5-ea4a2be9af37\">\n",
              "      <button class=\"colab-df-quickchart\" onclick=\"quickchart('df-9061e5d4-ae17-43c8-96f5-ea4a2be9af37')\"\n",
              "                title=\"Suggest charts\"\n",
              "                style=\"display:none;\">\n",
              "\n",
              "<svg xmlns=\"http://www.w3.org/2000/svg\" height=\"24px\"viewBox=\"0 0 24 24\"\n",
              "     width=\"24px\">\n",
              "    <g>\n",
              "        <path d=\"M19 3H5c-1.1 0-2 .9-2 2v14c0 1.1.9 2 2 2h14c1.1 0 2-.9 2-2V5c0-1.1-.9-2-2-2zM9 17H7v-7h2v7zm4 0h-2V7h2v10zm4 0h-2v-4h2v4z\"/>\n",
              "    </g>\n",
              "</svg>\n",
              "      </button>\n",
              "\n",
              "<style>\n",
              "  .colab-df-quickchart {\n",
              "      --bg-color: #E8F0FE;\n",
              "      --fill-color: #1967D2;\n",
              "      --hover-bg-color: #E2EBFA;\n",
              "      --hover-fill-color: #174EA6;\n",
              "      --disabled-fill-color: #AAA;\n",
              "      --disabled-bg-color: #DDD;\n",
              "  }\n",
              "\n",
              "  [theme=dark] .colab-df-quickchart {\n",
              "      --bg-color: #3B4455;\n",
              "      --fill-color: #D2E3FC;\n",
              "      --hover-bg-color: #434B5C;\n",
              "      --hover-fill-color: #FFFFFF;\n",
              "      --disabled-bg-color: #3B4455;\n",
              "      --disabled-fill-color: #666;\n",
              "  }\n",
              "\n",
              "  .colab-df-quickchart {\n",
              "    background-color: var(--bg-color);\n",
              "    border: none;\n",
              "    border-radius: 50%;\n",
              "    cursor: pointer;\n",
              "    display: none;\n",
              "    fill: var(--fill-color);\n",
              "    height: 32px;\n",
              "    padding: 0;\n",
              "    width: 32px;\n",
              "  }\n",
              "\n",
              "  .colab-df-quickchart:hover {\n",
              "    background-color: var(--hover-bg-color);\n",
              "    box-shadow: 0 1px 2px rgba(60, 64, 67, 0.3), 0 1px 3px 1px rgba(60, 64, 67, 0.15);\n",
              "    fill: var(--button-hover-fill-color);\n",
              "  }\n",
              "\n",
              "  .colab-df-quickchart-complete:disabled,\n",
              "  .colab-df-quickchart-complete:disabled:hover {\n",
              "    background-color: var(--disabled-bg-color);\n",
              "    fill: var(--disabled-fill-color);\n",
              "    box-shadow: none;\n",
              "  }\n",
              "\n",
              "  .colab-df-spinner {\n",
              "    border: 2px solid var(--fill-color);\n",
              "    border-color: transparent;\n",
              "    border-bottom-color: var(--fill-color);\n",
              "    animation:\n",
              "      spin 1s steps(1) infinite;\n",
              "  }\n",
              "\n",
              "  @keyframes spin {\n",
              "    0% {\n",
              "      border-color: transparent;\n",
              "      border-bottom-color: var(--fill-color);\n",
              "      border-left-color: var(--fill-color);\n",
              "    }\n",
              "    20% {\n",
              "      border-color: transparent;\n",
              "      border-left-color: var(--fill-color);\n",
              "      border-top-color: var(--fill-color);\n",
              "    }\n",
              "    30% {\n",
              "      border-color: transparent;\n",
              "      border-left-color: var(--fill-color);\n",
              "      border-top-color: var(--fill-color);\n",
              "      border-right-color: var(--fill-color);\n",
              "    }\n",
              "    40% {\n",
              "      border-color: transparent;\n",
              "      border-right-color: var(--fill-color);\n",
              "      border-top-color: var(--fill-color);\n",
              "    }\n",
              "    60% {\n",
              "      border-color: transparent;\n",
              "      border-right-color: var(--fill-color);\n",
              "    }\n",
              "    80% {\n",
              "      border-color: transparent;\n",
              "      border-right-color: var(--fill-color);\n",
              "      border-bottom-color: var(--fill-color);\n",
              "    }\n",
              "    90% {\n",
              "      border-color: transparent;\n",
              "      border-bottom-color: var(--fill-color);\n",
              "    }\n",
              "  }\n",
              "</style>\n",
              "\n",
              "      <script>\n",
              "        async function quickchart(key) {\n",
              "          const quickchartButtonEl =\n",
              "            document.querySelector('#' + key + ' button');\n",
              "          quickchartButtonEl.disabled = true;  // To prevent multiple clicks.\n",
              "          quickchartButtonEl.classList.add('colab-df-spinner');\n",
              "          try {\n",
              "            const charts = await google.colab.kernel.invokeFunction(\n",
              "                'suggestCharts', [key], {});\n",
              "          } catch (error) {\n",
              "            console.error('Error during call to suggestCharts:', error);\n",
              "          }\n",
              "          quickchartButtonEl.classList.remove('colab-df-spinner');\n",
              "          quickchartButtonEl.classList.add('colab-df-quickchart-complete');\n",
              "        }\n",
              "        (() => {\n",
              "          let quickchartButtonEl =\n",
              "            document.querySelector('#df-9061e5d4-ae17-43c8-96f5-ea4a2be9af37 button');\n",
              "          quickchartButtonEl.style.display =\n",
              "            google.colab.kernel.accessAllowed ? 'block' : 'none';\n",
              "        })();\n",
              "      </script>\n",
              "    </div>\n",
              "\n",
              "    </div>\n",
              "  </div>\n"
            ],
            "application/vnd.google.colaboratory.intrinsic+json": {
              "type": "dataframe",
              "summary": "{\n  \"name\": \"    print(f\\\"Could not fetch Yahoo Finance data: {e}\\\")\",\n  \"rows\": 5,\n  \"fields\": [\n    {\n      \"column\": \"Date\",\n      \"properties\": {\n        \"dtype\": \"date\",\n        \"min\": \"2025-09-28 00:00:00+00:00\",\n        \"max\": \"2025-10-02 00:00:00+00:00\",\n        \"num_unique_values\": 5,\n        \"samples\": [\n          \"2025-09-29 00:00:00+00:00\",\n          \"2025-10-02 00:00:00+00:00\",\n          \"2025-09-30 00:00:00+00:00\"\n        ],\n        \"semantic_type\": \"\",\n        \"description\": \"\"\n      }\n    },\n    {\n      \"column\": \"Open\",\n      \"properties\": {\n        \"dtype\": \"number\",\n        \"std\": 3307.339469220955,\n        \"min\": 109681.9453125,\n        \"max\": 118652.3828125,\n        \"num_unique_values\": 5,\n        \"samples\": [\n          112117.875,\n          118652.3828125,\n          114396.5234375\n        ],\n        \"semantic_type\": \"\",\n        \"description\": \"\"\n      }\n    },\n    {\n      \"column\": \"High\",\n      \"properties\": {\n        \"dtype\": \"number\",\n        \"std\": 3510.8782755847433,\n        \"min\": 112375.484375,\n        \"max\": 121086.40625,\n        \"num_unique_values\": 5,\n        \"samples\": [\n          114473.5703125,\n          121086.40625,\n          114836.6171875\n        ],\n        \"semantic_type\": \"\",\n        \"description\": \"\"\n      }\n    },\n    {\n      \"column\": \"Low\",\n      \"properties\": {\n        \"dtype\": \"number\",\n        \"std\": 3390.571635698467,\n        \"min\": 109236.9453125,\n        \"max\": 118383.15625,\n        \"num_unique_values\": 5,\n        \"samples\": [\n          111589.953125,\n          118383.15625,\n          112740.5625\n        ],\n        \"semantic_type\": \"\",\n        \"description\": \"\"\n      }\n    },\n    {\n      \"column\": \"Close\",\n      \"properties\": {\n        \"dtype\": \"number\",\n        \"std\": 3546.1546263828245,\n        \"min\": 112122.640625,\n        \"max\": 120681.2578125,\n        \"num_unique_values\": 5,\n        \"samples\": [\n          114400.3828125,\n          120681.2578125,\n          114056.0859375\n        ],\n        \"semantic_type\": \"\",\n        \"description\": \"\"\n      }\n    },\n    {\n      \"column\": \"Volume\",\n      \"properties\": {\n        \"dtype\": \"number\",\n        \"std\": 15523967196,\n        \"min\": 33371048505,\n        \"max\": 71415163912,\n        \"num_unique_values\": 5,\n        \"samples\": [\n          60000147466,\n          71415163912,\n          58986330258\n        ],\n        \"semantic_type\": \"\",\n        \"description\": \"\"\n      }\n    },\n    {\n      \"column\": \"Dividends\",\n      \"properties\": {\n        \"dtype\": \"number\",\n        \"std\": 0.0,\n        \"min\": 0.0,\n        \"max\": 0.0,\n        \"num_unique_values\": 1,\n        \"samples\": [\n          0.0\n        ],\n        \"semantic_type\": \"\",\n        \"description\": \"\"\n      }\n    },\n    {\n      \"column\": \"Stock Splits\",\n      \"properties\": {\n        \"dtype\": \"number\",\n        \"std\": 0.0,\n        \"min\": 0.0,\n        \"max\": 0.0,\n        \"num_unique_values\": 1,\n        \"samples\": [\n          0.0\n        ],\n        \"semantic_type\": \"\",\n        \"description\": \"\"\n      }\n    }\n  ]\n}"
            }
          },
          "metadata": {}
        }
      ]
    },
    {
      "cell_type": "code",
      "source": [
        "from IPython.display import display, HTML\n",
        "import feedparser\n",
        "\n",
        "# Construct RSS feed URL for Google News\n",
        "news_url = f\"https://news.google.com/rss/search?q={company_name}&hl=en-US&gl=US&ceid=US:en\"\n",
        "\n",
        "feed = feedparser.parse(news_url)\n",
        "\n",
        "print(f\"\\n Recent News Headlines for {company_name}:\")\n",
        "\n",
        "# Iterate through the first 10 news items (or fewer if less than 10)\n",
        "for entry in feed.entries[:10]:\n",
        "    display(HTML(f'<a href=\"{entry.link}\">{entry.title}</a>'))\n",
        "    # Display summary and source if available\n",
        "    summary = getattr(entry, 'summary', 'N/A')\n",
        "    source = getattr(entry, 'source', 'N/A')\n",
        "    print(f\"Summary: {summary}\\nSource: {source.get('title', 'N/A')}\\n\")"
      ],
      "metadata": {
        "colab": {
          "base_uri": "https://localhost:8080/",
          "height": 766
        },
        "id": "BjIE9XSbztmz",
        "outputId": "301f98f0-cdfa-45d2-f861-5113fdb6c016"
      },
      "execution_count": 40,
      "outputs": [
        {
          "output_type": "stream",
          "name": "stdout",
          "text": [
            "\n",
            " Recent News Headlines for Netflix:\n"
          ]
        },
        {
          "output_type": "display_data",
          "data": {
            "text/plain": [
              "<IPython.core.display.HTML object>"
            ],
            "text/html": [
              "<a href=\"https://news.google.com/rss/articles/CBMihwFBVV95cUxNWTdxcURCbFdBTkg0SDFoM19OWXA1cEJXZThfRWZsQ3pQUXBWZDRiT2JPVFZybVlqaHFQSEs5VGpxaXZ4Wko0MDlZVmtWRHh3eUkwNXg2b1BGbzg5ZkFpTEFCaDM2S3lteFh4UVdVNVRQYzIteW9KN1dPZmxnMTlZUjlYSm9WN28?oc=5\">'One Piece' Gets Season 2 Release Date At Netflix; First Photos - Deadline</a>"
            ]
          },
          "metadata": {}
        },
        {
          "output_type": "stream",
          "name": "stdout",
          "text": [
            "Summary: <a href=\"https://news.google.com/rss/articles/CBMihwFBVV95cUxNWTdxcURCbFdBTkg0SDFoM19OWXA1cEJXZThfRWZsQ3pQUXBWZDRiT2JPVFZybVlqaHFQSEs5VGpxaXZ4Wko0MDlZVmtWRHh3eUkwNXg2b1BGbzg5ZkFpTEFCaDM2S3lteFh4UVdVNVRQYzIteW9KN1dPZmxnMTlZUjlYSm9WN28?oc=5\" target=\"_blank\">'One Piece' Gets Season 2 Release Date At Netflix; First Photos</a>&nbsp;&nbsp;<font color=\"#6f6f6f\">Deadline</font>\n",
            "Source: Deadline\n",
            "\n"
          ]
        },
        {
          "output_type": "display_data",
          "data": {
            "text/plain": [
              "<IPython.core.display.HTML object>"
            ],
            "text/html": [
              "<a href=\"https://news.google.com/rss/articles/CBMiggFBVV95cUxPanNUekZHYnVsUFNJVkFUZExVanZub2l2SHJubnREb2p4Y2xEaURpSnpwcTJkWlpDNXhkaTBpWjFKY2hmR2RpcXpSLV9rbkhqQTl4dEJIUTVpc3NXVWlPd3NyY1VRWG1IQVZJellGdUtiNjRfcmhBV2N2ZDFUR21KU05R?oc=5\">Netflix's One Piece series gets a release date - Polygon</a>"
            ]
          },
          "metadata": {}
        },
        {
          "output_type": "stream",
          "name": "stdout",
          "text": [
            "Summary: <a href=\"https://news.google.com/rss/articles/CBMiggFBVV95cUxPanNUekZHYnVsUFNJVkFUZExVanZub2l2SHJubnREb2p4Y2xEaURpSnpwcTJkWlpDNXhkaTBpWjFKY2hmR2RpcXpSLV9rbkhqQTl4dEJIUTVpc3NXVWlPd3NyY1VRWG1IQVZJellGdUtiNjRfcmhBV2N2ZDFUR21KU05R?oc=5\" target=\"_blank\">Netflix's One Piece series gets a release date</a>&nbsp;&nbsp;<font color=\"#6f6f6f\">Polygon</font>\n",
            "Source: Polygon\n",
            "\n"
          ]
        },
        {
          "output_type": "display_data",
          "data": {
            "text/plain": [
              "<IPython.core.display.HTML object>"
            ],
            "text/html": [
              "<a href=\"https://news.google.com/rss/articles/CBMijwFBVV95cUxQaTdvdmdlV0RtX3hYRGhCQzh3MVhIZWtqVEEyVVlkRFR4b0FnQkQ5MTlGVW1McmpRMGVYbmRHZnN1UVhuRDVkMFFFeWtDSUtZd29LSm9veHo4RndiYTZ2cS1YZ0dvYUQ3TUFmNThnSjVvM0VLLWlnMmZNMnk2aXpEdDZsQ1RXNDhJb0R2cDF5RQ?oc=5\">'One Piece' gets season 2 release date at Netflix - Yahoo</a>"
            ]
          },
          "metadata": {}
        },
        {
          "output_type": "stream",
          "name": "stdout",
          "text": [
            "Summary: <a href=\"https://news.google.com/rss/articles/CBMijwFBVV95cUxQaTdvdmdlV0RtX3hYRGhCQzh3MVhIZWtqVEEyVVlkRFR4b0FnQkQ5MTlGVW1McmpRMGVYbmRHZnN1UVhuRDVkMFFFeWtDSUtZd29LSm9veHo4RndiYTZ2cS1YZ0dvYUQ3TUFmNThnSjVvM0VLLWlnMmZNMnk2aXpEdDZsQ1RXNDhJb0R2cDF5RQ?oc=5\" target=\"_blank\">'One Piece' gets season 2 release date at Netflix</a>&nbsp;&nbsp;<font color=\"#6f6f6f\">Yahoo</font>\n",
            "Source: Yahoo\n",
            "\n"
          ]
        },
        {
          "output_type": "display_data",
          "data": {
            "text/plain": [
              "<IPython.core.display.HTML object>"
            ],
            "text/html": [
              "<a href=\"https://news.google.com/rss/articles/CBMipgFBVV95cUxOWVROX3BOVTI1aWRaNUotajJwdkNHdFd5SlhmaTJ5SFdHOTZhU3JyNFFLZmctbUVuWUZ2ZzQyZnhYakJac3dEVkc3bjdXR1VUZ3dmWkl4X0pRMkk2M1MteFBvTkxmYU15X01qNmVpYzhjdVE5MnJXOGlva1JxeGZ2bkhXUUVBTWdPWGI4OWVPWTZBNDJoclZKS092NXI0V3ZremFaejBB?oc=5\">Netflix Latin America Bets Big on Philip K. Dick Adaptation ‘The Future Is Ours’ (EXCLUSIVE) - Variety</a>"
            ]
          },
          "metadata": {}
        },
        {
          "output_type": "stream",
          "name": "stdout",
          "text": [
            "Summary: <a href=\"https://news.google.com/rss/articles/CBMipgFBVV95cUxOWVROX3BOVTI1aWRaNUotajJwdkNHdFd5SlhmaTJ5SFdHOTZhU3JyNFFLZmctbUVuWUZ2ZzQyZnhYakJac3dEVkc3bjdXR1VUZ3dmWkl4X0pRMkk2M1MteFBvTkxmYU15X01qNmVpYzhjdVE5MnJXOGlva1JxeGZ2bkhXUUVBTWdPWGI4OWVPWTZBNDJoclZKS092NXI0V3ZremFaejBB?oc=5\" target=\"_blank\">Netflix Latin America Bets Big on Philip K. Dick Adaptation ‘The Future Is Ours’ (EXCLUSIVE)</a>&nbsp;&nbsp;<font color=\"#6f6f6f\">Variety</font>\n",
            "Source: Variety\n",
            "\n"
          ]
        },
        {
          "output_type": "display_data",
          "data": {
            "text/plain": [
              "<IPython.core.display.HTML object>"
            ],
            "text/html": [
              "<a href=\"https://news.google.com/rss/articles/CBMilgFBVV95cUxOejNCODRCbjlzRTZ6TnF0TmpBQ0JYSjVCVmFPdjY2VVpTRU5WNC1LQTFubWlhclFyZ21DOEhzTlBlVm9jOE9YdXllR3lBeXB6LXh5TS02VmRZdmdDaVhtSzB3YXBtLUd0RUhjZVEyWHVIUjQxblY1am15ZS13YTZUTmczekxvMERQRTVPRHV0eHhmQ2RfSUE?oc=5\">All's Fair to Stranger Things: 10 of the best TV shows to watch this November - BBC</a>"
            ]
          },
          "metadata": {}
        },
        {
          "output_type": "stream",
          "name": "stdout",
          "text": [
            "Summary: <a href=\"https://news.google.com/rss/articles/CBMilgFBVV95cUxOejNCODRCbjlzRTZ6TnF0TmpBQ0JYSjVCVmFPdjY2VVpTRU5WNC1LQTFubWlhclFyZ21DOEhzTlBlVm9jOE9YdXllR3lBeXB6LXh5TS02VmRZdmdDaVhtSzB3YXBtLUd0RUhjZVEyWHVIUjQxblY1am15ZS13YTZUTmczekxvMERQRTVPRHV0eHhmQ2RfSUE?oc=5\" target=\"_blank\">All's Fair to Stranger Things: 10 of the best TV shows to watch this November</a>&nbsp;&nbsp;<font color=\"#6f6f6f\">BBC</font>\n",
            "Source: BBC\n",
            "\n"
          ]
        },
        {
          "output_type": "display_data",
          "data": {
            "text/plain": [
              "<IPython.core.display.HTML object>"
            ],
            "text/html": [
              "<a href=\"https://news.google.com/rss/articles/CBMihwFBVV95cUxObFJFcnBrZEFUb211SE9FTFhLNldVYVpiaTI1OGg2VVZENkFxbDhabzVwSWZXcmlKYm1qSHJCS3dJaVdnQlI3TXpyVkxnaDZXMFhEM2xVN283c2pkQ0ZYY0MtR2ZvaFY4Yl9ITS1oZGZHbUFQNzJDdlJNVmlVSnhSa0x3bjRpX3M?oc=5\">“A masterclass in crime dramas”: City of Shadows is the “addictive” new Netflix series where every clue counts - Good Housekeeping</a>"
            ]
          },
          "metadata": {}
        },
        {
          "output_type": "stream",
          "name": "stdout",
          "text": [
            "Summary: <a href=\"https://news.google.com/rss/articles/CBMihwFBVV95cUxObFJFcnBrZEFUb211SE9FTFhLNldVYVpiaTI1OGg2VVZENkFxbDhabzVwSWZXcmlKYm1qSHJCS3dJaVdnQlI3TXpyVkxnaDZXMFhEM2xVN283c2pkQ0ZYY0MtR2ZvaFY4Yl9ITS1oZGZHbUFQNzJDdlJNVmlVSnhSa0x3bjRpX3M?oc=5\" target=\"_blank\">“A masterclass in crime dramas”: City of Shadows is the “addictive” new Netflix series where every clue counts</a>&nbsp;&nbsp;<font color=\"#6f6f6f\">Good Housekeeping</font>\n",
            "Source: Good Housekeeping\n",
            "\n"
          ]
        },
        {
          "output_type": "display_data",
          "data": {
            "text/plain": [
              "<IPython.core.display.HTML object>"
            ],
            "text/html": [
              "<a href=\"https://news.google.com/rss/articles/CBMikAFBVV95cUxPdlhKNHBIemhOVGllblFSM3pqVEpzVm9HYTIzLWVlekhyMnpIQTBvNzk2dFUxMFF2MjNCblFQaFdOcFQxMWxZbzREX3hyRDlCV2d2bENKLWJvQm9UTlY2UWlNZ0lCa18xZ2Jld2tJZHpUbEUxYXNEeU1tV05EOHpHNUthWGJDY3c0VGJ6RGZBLU0?oc=5\">Crash Bandicoot Set to Return — as a Netflix Animated Series - IGN</a>"
            ]
          },
          "metadata": {}
        },
        {
          "output_type": "stream",
          "name": "stdout",
          "text": [
            "Summary: <a href=\"https://news.google.com/rss/articles/CBMikAFBVV95cUxPdlhKNHBIemhOVGllblFSM3pqVEpzVm9HYTIzLWVlekhyMnpIQTBvNzk2dFUxMFF2MjNCblFQaFdOcFQxMWxZbzREX3hyRDlCV2d2bENKLWJvQm9UTlY2UWlNZ0lCa18xZ2Jld2tJZHpUbEUxYXNEeU1tV05EOHpHNUthWGJDY3c0VGJ6RGZBLU0?oc=5\" target=\"_blank\">Crash Bandicoot Set to Return — as a Netflix Animated Series</a>&nbsp;&nbsp;<font color=\"#6f6f6f\">IGN</font>\n",
            "Source: IGN\n",
            "\n"
          ]
        },
        {
          "output_type": "display_data",
          "data": {
            "text/plain": [
              "<IPython.core.display.HTML object>"
            ],
            "text/html": [
              "<a href=\"https://news.google.com/rss/articles/CBMickFVX3lxTFAyYU1xT2psMU9iNE1YY1BoMUdFb3l4OERvWGhRbDFXeXdjUnBBLUY0YnpTbmFtWDFkeVdHNklCSVhxc0ZNa256Y1VyakR5cTBrVkN5Y1NwWEhpZ0JpSi1iazlWeDJLRktTbG5rNWtVZVZ3dw?oc=5\">Netflix reportedly developing a Crash Bandicoot animated series - Polygon</a>"
            ]
          },
          "metadata": {}
        },
        {
          "output_type": "stream",
          "name": "stdout",
          "text": [
            "Summary: <a href=\"https://news.google.com/rss/articles/CBMickFVX3lxTFAyYU1xT2psMU9iNE1YY1BoMUdFb3l4OERvWGhRbDFXeXdjUnBBLUY0YnpTbmFtWDFkeVdHNklCSVhxc0ZNa256Y1VyakR5cTBrVkN5Y1NwWEhpZ0JpSi1iazlWeDJLRktTbG5rNWtVZVZ3dw?oc=5\" target=\"_blank\">Netflix reportedly developing a Crash Bandicoot animated series</a>&nbsp;&nbsp;<font color=\"#6f6f6f\">Polygon</font>\n",
            "Source: Polygon\n",
            "\n"
          ]
        },
        {
          "output_type": "display_data",
          "data": {
            "text/plain": [
              "<IPython.core.display.HTML object>"
            ],
            "text/html": [
              "<a href=\"https://news.google.com/rss/articles/CBMimgFBVV95cUxNVC1vSGxfbDROdU54UlBnOXZ3cmJrMFZwOHRMNGRxVm1NQTdPQ1Z1OTk1Z19sM2p1aFd2VlVjdmJ1M0gxNjYtN2F0TmVuQl8zdVZMVmxIOFB4cDhtUGp0Njl3VUw0b0U2b1p6bXpJUXFqQkNQV2stREZPMDZTczlyYzhLZ1dqR2NLV1k3dzJJY2RqYjNqN2k4d1RR?oc=5\">Crash Bandicoot Animated Series in the Works at Netflix - What's on Netflix</a>"
            ]
          },
          "metadata": {}
        },
        {
          "output_type": "stream",
          "name": "stdout",
          "text": [
            "Summary: <a href=\"https://news.google.com/rss/articles/CBMimgFBVV95cUxNVC1vSGxfbDROdU54UlBnOXZ3cmJrMFZwOHRMNGRxVm1NQTdPQ1Z1OTk1Z19sM2p1aFd2VlVjdmJ1M0gxNjYtN2F0TmVuQl8zdVZMVmxIOFB4cDhtUGp0Njl3VUw0b0U2b1p6bXpJUXFqQkNQV2stREZPMDZTczlyYzhLZ1dqR2NLV1k3dzJJY2RqYjNqN2k4d1RR?oc=5\" target=\"_blank\">Crash Bandicoot Animated Series in the Works at Netflix</a>&nbsp;&nbsp;<font color=\"#6f6f6f\">What's on Netflix</font>\n",
            "Source: What's on Netflix\n",
            "\n"
          ]
        },
        {
          "output_type": "display_data",
          "data": {
            "text/plain": [
              "<IPython.core.display.HTML object>"
            ],
            "text/html": [
              "<a href=\"https://news.google.com/rss/articles/CBMiiAFBVV95cUxNYTgwM0dzOUhRTi11ZWxsNzNDWTVNQmtXbjJmOXM0ckYxTG1jSW9FY1Y2VU4tVXl4NGl1RnNfNktsWXk1UXlZRzA0dTlkVU9DZjlqRjNGUHRIZk1McHJZVjlRNlNERDhCb2JfT3lNa3F6VHQyQUw1ZDN2S1JmWG0ySmpjRnZzclRj?oc=5\">Netflix Investors Didn't Get a Stock Split in the Latest Quarterly Report. They Got Something Better. - Yahoo Finance</a>"
            ]
          },
          "metadata": {}
        },
        {
          "output_type": "stream",
          "name": "stdout",
          "text": [
            "Summary: <a href=\"https://news.google.com/rss/articles/CBMiiAFBVV95cUxNYTgwM0dzOUhRTi11ZWxsNzNDWTVNQmtXbjJmOXM0ckYxTG1jSW9FY1Y2VU4tVXl4NGl1RnNfNktsWXk1UXlZRzA0dTlkVU9DZjlqRjNGUHRIZk1McHJZVjlRNlNERDhCb2JfT3lNa3F6VHQyQUw1ZDN2S1JmWG0ySmpjRnZzclRj?oc=5\" target=\"_blank\">Netflix Investors Didn't Get a Stock Split in the Latest Quarterly Report. They Got Something Better.</a>&nbsp;&nbsp;<font color=\"#6f6f6f\">Yahoo Finance</font>\n",
            "Source: Yahoo Finance\n",
            "\n"
          ]
        }
      ]
    },
    {
      "cell_type": "markdown",
      "source": [
        "## Step 5: Fetch Google News Headlines via RSS\n",
        "We fetch **recent news headlines** about the asset using Google News RSS.\n"
      ],
      "metadata": {
        "id": "aOinNzcb1zK_"
      }
    },
    {
      "cell_type": "code",
      "source": [
        "# Construct RSS feed URL for Google News\n",
        "rss_url = f\"https://news.google.com/rss/search?q={company_name}&hl=en-US&gl=US&ceid=US:en\"\n",
        "\n",
        "feed = feedparser.parse(rss_url)\n",
        "news_items = [{\"Title\": entry.title, \"Link\": entry.link, \"Published\": entry.published} for entry in feed.entries[:10]]\n",
        "news_df = pd.DataFrame(news_items)\n",
        "print(f\"\\n Top 10 News Headlines for {company_name}:\")\n",
        "display(news_df)"
      ],
      "metadata": {
        "colab": {
          "base_uri": "https://localhost:8080/",
          "height": 397
        },
        "id": "qBTGWxPx14LQ",
        "outputId": "46eac4ce-0f2e-4d2e-ed2c-a960f0f5fbd9"
      },
      "execution_count": 41,
      "outputs": [
        {
          "output_type": "stream",
          "name": "stdout",
          "text": [
            "\n",
            " Top 10 News Headlines for Netflix:\n"
          ]
        },
        {
          "output_type": "display_data",
          "data": {
            "text/plain": [
              "                                               Title  \\\n",
              "0  'One Piece' Gets Season 2 Release Date At Netf...   \n",
              "1  Netflix's One Piece series gets a release date...   \n",
              "2  'One Piece' gets season 2 release date at Netf...   \n",
              "3  Netflix Latin America Bets Big on Philip K. Di...   \n",
              "4  All's Fair to Stranger Things: 10 of the best ...   \n",
              "5  “A masterclass in crime dramas”: City of Shado...   \n",
              "6  Crash Bandicoot Set to Return — as a Netflix A...   \n",
              "7  Netflix reportedly developing a Crash Bandicoo...   \n",
              "8  Crash Bandicoot Animated Series in the Works a...   \n",
              "9  Netflix Investors Didn't Get a Stock Split in ...   \n",
              "\n",
              "                                                Link  \\\n",
              "0  https://news.google.com/rss/articles/CBMihwFBV...   \n",
              "1  https://news.google.com/rss/articles/CBMiggFBV...   \n",
              "2  https://news.google.com/rss/articles/CBMijwFBV...   \n",
              "3  https://news.google.com/rss/articles/CBMipgFBV...   \n",
              "4  https://news.google.com/rss/articles/CBMilgFBV...   \n",
              "5  https://news.google.com/rss/articles/CBMihwFBV...   \n",
              "6  https://news.google.com/rss/articles/CBMikAFBV...   \n",
              "7  https://news.google.com/rss/articles/CBMickFVX...   \n",
              "8  https://news.google.com/rss/articles/CBMimgFBV...   \n",
              "9  https://news.google.com/rss/articles/CBMiiAFBV...   \n",
              "\n",
              "                       Published  \n",
              "0  Tue, 28 Oct 2025 14:01:00 GMT  \n",
              "1  Tue, 28 Oct 2025 14:55:00 GMT  \n",
              "2  Tue, 28 Oct 2025 15:45:00 GMT  \n",
              "3  Tue, 28 Oct 2025 13:30:00 GMT  \n",
              "4  Tue, 28 Oct 2025 11:00:00 GMT  \n",
              "5  Tue, 28 Oct 2025 11:16:28 GMT  \n",
              "6  Tue, 28 Oct 2025 09:24:39 GMT  \n",
              "7  Mon, 27 Oct 2025 21:22:00 GMT  \n",
              "8  Mon, 27 Oct 2025 19:04:37 GMT  \n",
              "9  Sun, 26 Oct 2025 23:49:00 GMT  "
            ],
            "text/html": [
              "\n",
              "  <div id=\"df-22a5db03-5923-4b53-9c59-67d0a94608b4\" class=\"colab-df-container\">\n",
              "    <div>\n",
              "<style scoped>\n",
              "    .dataframe tbody tr th:only-of-type {\n",
              "        vertical-align: middle;\n",
              "    }\n",
              "\n",
              "    .dataframe tbody tr th {\n",
              "        vertical-align: top;\n",
              "    }\n",
              "\n",
              "    .dataframe thead th {\n",
              "        text-align: right;\n",
              "    }\n",
              "</style>\n",
              "<table border=\"1\" class=\"dataframe\">\n",
              "  <thead>\n",
              "    <tr style=\"text-align: right;\">\n",
              "      <th></th>\n",
              "      <th>Title</th>\n",
              "      <th>Link</th>\n",
              "      <th>Published</th>\n",
              "    </tr>\n",
              "  </thead>\n",
              "  <tbody>\n",
              "    <tr>\n",
              "      <th>0</th>\n",
              "      <td>'One Piece' Gets Season 2 Release Date At Netf...</td>\n",
              "      <td>https://news.google.com/rss/articles/CBMihwFBV...</td>\n",
              "      <td>Tue, 28 Oct 2025 14:01:00 GMT</td>\n",
              "    </tr>\n",
              "    <tr>\n",
              "      <th>1</th>\n",
              "      <td>Netflix's One Piece series gets a release date...</td>\n",
              "      <td>https://news.google.com/rss/articles/CBMiggFBV...</td>\n",
              "      <td>Tue, 28 Oct 2025 14:55:00 GMT</td>\n",
              "    </tr>\n",
              "    <tr>\n",
              "      <th>2</th>\n",
              "      <td>'One Piece' gets season 2 release date at Netf...</td>\n",
              "      <td>https://news.google.com/rss/articles/CBMijwFBV...</td>\n",
              "      <td>Tue, 28 Oct 2025 15:45:00 GMT</td>\n",
              "    </tr>\n",
              "    <tr>\n",
              "      <th>3</th>\n",
              "      <td>Netflix Latin America Bets Big on Philip K. Di...</td>\n",
              "      <td>https://news.google.com/rss/articles/CBMipgFBV...</td>\n",
              "      <td>Tue, 28 Oct 2025 13:30:00 GMT</td>\n",
              "    </tr>\n",
              "    <tr>\n",
              "      <th>4</th>\n",
              "      <td>All's Fair to Stranger Things: 10 of the best ...</td>\n",
              "      <td>https://news.google.com/rss/articles/CBMilgFBV...</td>\n",
              "      <td>Tue, 28 Oct 2025 11:00:00 GMT</td>\n",
              "    </tr>\n",
              "    <tr>\n",
              "      <th>5</th>\n",
              "      <td>“A masterclass in crime dramas”: City of Shado...</td>\n",
              "      <td>https://news.google.com/rss/articles/CBMihwFBV...</td>\n",
              "      <td>Tue, 28 Oct 2025 11:16:28 GMT</td>\n",
              "    </tr>\n",
              "    <tr>\n",
              "      <th>6</th>\n",
              "      <td>Crash Bandicoot Set to Return — as a Netflix A...</td>\n",
              "      <td>https://news.google.com/rss/articles/CBMikAFBV...</td>\n",
              "      <td>Tue, 28 Oct 2025 09:24:39 GMT</td>\n",
              "    </tr>\n",
              "    <tr>\n",
              "      <th>7</th>\n",
              "      <td>Netflix reportedly developing a Crash Bandicoo...</td>\n",
              "      <td>https://news.google.com/rss/articles/CBMickFVX...</td>\n",
              "      <td>Mon, 27 Oct 2025 21:22:00 GMT</td>\n",
              "    </tr>\n",
              "    <tr>\n",
              "      <th>8</th>\n",
              "      <td>Crash Bandicoot Animated Series in the Works a...</td>\n",
              "      <td>https://news.google.com/rss/articles/CBMimgFBV...</td>\n",
              "      <td>Mon, 27 Oct 2025 19:04:37 GMT</td>\n",
              "    </tr>\n",
              "    <tr>\n",
              "      <th>9</th>\n",
              "      <td>Netflix Investors Didn't Get a Stock Split in ...</td>\n",
              "      <td>https://news.google.com/rss/articles/CBMiiAFBV...</td>\n",
              "      <td>Sun, 26 Oct 2025 23:49:00 GMT</td>\n",
              "    </tr>\n",
              "  </tbody>\n",
              "</table>\n",
              "</div>\n",
              "    <div class=\"colab-df-buttons\">\n",
              "\n",
              "  <div class=\"colab-df-container\">\n",
              "    <button class=\"colab-df-convert\" onclick=\"convertToInteractive('df-22a5db03-5923-4b53-9c59-67d0a94608b4')\"\n",
              "            title=\"Convert this dataframe to an interactive table.\"\n",
              "            style=\"display:none;\">\n",
              "\n",
              "  <svg xmlns=\"http://www.w3.org/2000/svg\" height=\"24px\" viewBox=\"0 -960 960 960\">\n",
              "    <path d=\"M120-120v-720h720v720H120Zm60-500h600v-160H180v160Zm220 220h160v-160H400v160Zm0 220h160v-160H400v160ZM180-400h160v-160H180v160Zm440 0h160v-160H620v160ZM180-180h160v-160H180v160Zm440 0h160v-160H620v160Z\"/>\n",
              "  </svg>\n",
              "    </button>\n",
              "\n",
              "  <style>\n",
              "    .colab-df-container {\n",
              "      display:flex;\n",
              "      gap: 12px;\n",
              "    }\n",
              "\n",
              "    .colab-df-convert {\n",
              "      background-color: #E8F0FE;\n",
              "      border: none;\n",
              "      border-radius: 50%;\n",
              "      cursor: pointer;\n",
              "      display: none;\n",
              "      fill: #1967D2;\n",
              "      height: 32px;\n",
              "      padding: 0 0 0 0;\n",
              "      width: 32px;\n",
              "    }\n",
              "\n",
              "    .colab-df-convert:hover {\n",
              "      background-color: #E2EBFA;\n",
              "      box-shadow: 0px 1px 2px rgba(60, 64, 67, 0.3), 0px 1px 3px 1px rgba(60, 64, 67, 0.15);\n",
              "      fill: #174EA6;\n",
              "    }\n",
              "\n",
              "    .colab-df-buttons div {\n",
              "      margin-bottom: 4px;\n",
              "    }\n",
              "\n",
              "    [theme=dark] .colab-df-convert {\n",
              "      background-color: #3B4455;\n",
              "      fill: #D2E3FC;\n",
              "    }\n",
              "\n",
              "    [theme=dark] .colab-df-convert:hover {\n",
              "      background-color: #434B5C;\n",
              "      box-shadow: 0px 1px 3px 1px rgba(0, 0, 0, 0.15);\n",
              "      filter: drop-shadow(0px 1px 2px rgba(0, 0, 0, 0.3));\n",
              "      fill: #FFFFFF;\n",
              "    }\n",
              "  </style>\n",
              "\n",
              "    <script>\n",
              "      const buttonEl =\n",
              "        document.querySelector('#df-22a5db03-5923-4b53-9c59-67d0a94608b4 button.colab-df-convert');\n",
              "      buttonEl.style.display =\n",
              "        google.colab.kernel.accessAllowed ? 'block' : 'none';\n",
              "\n",
              "      async function convertToInteractive(key) {\n",
              "        const element = document.querySelector('#df-22a5db03-5923-4b53-9c59-67d0a94608b4');\n",
              "        const dataTable =\n",
              "          await google.colab.kernel.invokeFunction('convertToInteractive',\n",
              "                                                    [key], {});\n",
              "        if (!dataTable) return;\n",
              "\n",
              "        const docLinkHtml = 'Like what you see? Visit the ' +\n",
              "          '<a target=\"_blank\" href=https://colab.research.google.com/notebooks/data_table.ipynb>data table notebook</a>'\n",
              "          + ' to learn more about interactive tables.';\n",
              "        element.innerHTML = '';\n",
              "        dataTable['output_type'] = 'display_data';\n",
              "        await google.colab.output.renderOutput(dataTable, element);\n",
              "        const docLink = document.createElement('div');\n",
              "        docLink.innerHTML = docLinkHtml;\n",
              "        element.appendChild(docLink);\n",
              "      }\n",
              "    </script>\n",
              "  </div>\n",
              "\n",
              "\n",
              "    <div id=\"df-f6f7a521-3768-4738-b2b4-539c280d446a\">\n",
              "      <button class=\"colab-df-quickchart\" onclick=\"quickchart('df-f6f7a521-3768-4738-b2b4-539c280d446a')\"\n",
              "                title=\"Suggest charts\"\n",
              "                style=\"display:none;\">\n",
              "\n",
              "<svg xmlns=\"http://www.w3.org/2000/svg\" height=\"24px\"viewBox=\"0 0 24 24\"\n",
              "     width=\"24px\">\n",
              "    <g>\n",
              "        <path d=\"M19 3H5c-1.1 0-2 .9-2 2v14c0 1.1.9 2 2 2h14c1.1 0 2-.9 2-2V5c0-1.1-.9-2-2-2zM9 17H7v-7h2v7zm4 0h-2V7h2v10zm4 0h-2v-4h2v4z\"/>\n",
              "    </g>\n",
              "</svg>\n",
              "      </button>\n",
              "\n",
              "<style>\n",
              "  .colab-df-quickchart {\n",
              "      --bg-color: #E8F0FE;\n",
              "      --fill-color: #1967D2;\n",
              "      --hover-bg-color: #E2EBFA;\n",
              "      --hover-fill-color: #174EA6;\n",
              "      --disabled-fill-color: #AAA;\n",
              "      --disabled-bg-color: #DDD;\n",
              "  }\n",
              "\n",
              "  [theme=dark] .colab-df-quickchart {\n",
              "      --bg-color: #3B4455;\n",
              "      --fill-color: #D2E3FC;\n",
              "      --hover-bg-color: #434B5C;\n",
              "      --hover-fill-color: #FFFFFF;\n",
              "      --disabled-bg-color: #3B4455;\n",
              "      --disabled-fill-color: #666;\n",
              "  }\n",
              "\n",
              "  .colab-df-quickchart {\n",
              "    background-color: var(--bg-color);\n",
              "    border: none;\n",
              "    border-radius: 50%;\n",
              "    cursor: pointer;\n",
              "    display: none;\n",
              "    fill: var(--fill-color);\n",
              "    height: 32px;\n",
              "    padding: 0;\n",
              "    width: 32px;\n",
              "  }\n",
              "\n",
              "  .colab-df-quickchart:hover {\n",
              "    background-color: var(--hover-bg-color);\n",
              "    box-shadow: 0 1px 2px rgba(60, 64, 67, 0.3), 0 1px 3px 1px rgba(60, 64, 67, 0.15);\n",
              "    fill: var(--button-hover-fill-color);\n",
              "  }\n",
              "\n",
              "  .colab-df-quickchart-complete:disabled,\n",
              "  .colab-df-quickchart-complete:disabled:hover {\n",
              "    background-color: var(--disabled-bg-color);\n",
              "    fill: var(--disabled-fill-color);\n",
              "    box-shadow: none;\n",
              "  }\n",
              "\n",
              "  .colab-df-spinner {\n",
              "    border: 2px solid var(--fill-color);\n",
              "    border-color: transparent;\n",
              "    border-bottom-color: var(--fill-color);\n",
              "    animation:\n",
              "      spin 1s steps(1) infinite;\n",
              "  }\n",
              "\n",
              "  @keyframes spin {\n",
              "    0% {\n",
              "      border-color: transparent;\n",
              "      border-bottom-color: var(--fill-color);\n",
              "      border-left-color: var(--fill-color);\n",
              "    }\n",
              "    20% {\n",
              "      border-color: transparent;\n",
              "      border-left-color: var(--fill-color);\n",
              "      border-top-color: var(--fill-color);\n",
              "    }\n",
              "    30% {\n",
              "      border-color: transparent;\n",
              "      border-left-color: var(--fill-color);\n",
              "      border-top-color: var(--fill-color);\n",
              "      border-right-color: var(--fill-color);\n",
              "    }\n",
              "    40% {\n",
              "      border-color: transparent;\n",
              "      border-right-color: var(--fill-color);\n",
              "      border-top-color: var(--fill-color);\n",
              "    }\n",
              "    60% {\n",
              "      border-color: transparent;\n",
              "      border-right-color: var(--fill-color);\n",
              "    }\n",
              "    80% {\n",
              "      border-color: transparent;\n",
              "      border-right-color: var(--fill-color);\n",
              "      border-bottom-color: var(--fill-color);\n",
              "    }\n",
              "    90% {\n",
              "      border-color: transparent;\n",
              "      border-bottom-color: var(--fill-color);\n",
              "    }\n",
              "  }\n",
              "</style>\n",
              "\n",
              "      <script>\n",
              "        async function quickchart(key) {\n",
              "          const quickchartButtonEl =\n",
              "            document.querySelector('#' + key + ' button');\n",
              "          quickchartButtonEl.disabled = true;  // To prevent multiple clicks.\n",
              "          quickchartButtonEl.classList.add('colab-df-spinner');\n",
              "          try {\n",
              "            const charts = await google.colab.kernel.invokeFunction(\n",
              "                'suggestCharts', [key], {});\n",
              "          } catch (error) {\n",
              "            console.error('Error during call to suggestCharts:', error);\n",
              "          }\n",
              "          quickchartButtonEl.classList.remove('colab-df-spinner');\n",
              "          quickchartButtonEl.classList.add('colab-df-quickchart-complete');\n",
              "        }\n",
              "        (() => {\n",
              "          let quickchartButtonEl =\n",
              "            document.querySelector('#df-f6f7a521-3768-4738-b2b4-539c280d446a button');\n",
              "          quickchartButtonEl.style.display =\n",
              "            google.colab.kernel.accessAllowed ? 'block' : 'none';\n",
              "        })();\n",
              "      </script>\n",
              "    </div>\n",
              "\n",
              "  <div id=\"id_d5917fc7-c483-4fe9-bb3a-014825c2dc9f\">\n",
              "    <style>\n",
              "      .colab-df-generate {\n",
              "        background-color: #E8F0FE;\n",
              "        border: none;\n",
              "        border-radius: 50%;\n",
              "        cursor: pointer;\n",
              "        display: none;\n",
              "        fill: #1967D2;\n",
              "        height: 32px;\n",
              "        padding: 0 0 0 0;\n",
              "        width: 32px;\n",
              "      }\n",
              "\n",
              "      .colab-df-generate:hover {\n",
              "        background-color: #E2EBFA;\n",
              "        box-shadow: 0px 1px 2px rgba(60, 64, 67, 0.3), 0px 1px 3px 1px rgba(60, 64, 67, 0.15);\n",
              "        fill: #174EA6;\n",
              "      }\n",
              "\n",
              "      [theme=dark] .colab-df-generate {\n",
              "        background-color: #3B4455;\n",
              "        fill: #D2E3FC;\n",
              "      }\n",
              "\n",
              "      [theme=dark] .colab-df-generate:hover {\n",
              "        background-color: #434B5C;\n",
              "        box-shadow: 0px 1px 3px 1px rgba(0, 0, 0, 0.15);\n",
              "        filter: drop-shadow(0px 1px 2px rgba(0, 0, 0, 0.3));\n",
              "        fill: #FFFFFF;\n",
              "      }\n",
              "    </style>\n",
              "    <button class=\"colab-df-generate\" onclick=\"generateWithVariable('news_df')\"\n",
              "            title=\"Generate code using this dataframe.\"\n",
              "            style=\"display:none;\">\n",
              "\n",
              "  <svg xmlns=\"http://www.w3.org/2000/svg\" height=\"24px\"viewBox=\"0 0 24 24\"\n",
              "       width=\"24px\">\n",
              "    <path d=\"M7,19H8.4L18.45,9,17,7.55,7,17.6ZM5,21V16.75L18.45,3.32a2,2,0,0,1,2.83,0l1.4,1.43a1.91,1.91,0,0,1,.58,1.4,1.91,1.91,0,0,1-.58,1.4L9.25,21ZM18.45,9,17,7.55Zm-12,3A5.31,5.31,0,0,0,4.9,8.1,5.31,5.31,0,0,0,1,6.5,5.31,5.31,0,0,0,4.9,4.9,5.31,5.31,0,0,0,6.5,1,5.31,5.31,0,0,0,8.1,4.9,5.31,5.31,0,0,0,12,6.5,5.46,5.46,0,0,0,6.5,12Z\"/>\n",
              "  </svg>\n",
              "    </button>\n",
              "    <script>\n",
              "      (() => {\n",
              "      const buttonEl =\n",
              "        document.querySelector('#id_d5917fc7-c483-4fe9-bb3a-014825c2dc9f button.colab-df-generate');\n",
              "      buttonEl.style.display =\n",
              "        google.colab.kernel.accessAllowed ? 'block' : 'none';\n",
              "\n",
              "      buttonEl.onclick = () => {\n",
              "        google.colab.notebook.generateWithVariable('news_df');\n",
              "      }\n",
              "      })();\n",
              "    </script>\n",
              "  </div>\n",
              "\n",
              "    </div>\n",
              "  </div>\n"
            ],
            "application/vnd.google.colaboratory.intrinsic+json": {
              "type": "dataframe",
              "variable_name": "news_df",
              "summary": "{\n  \"name\": \"news_df\",\n  \"rows\": 10,\n  \"fields\": [\n    {\n      \"column\": \"Title\",\n      \"properties\": {\n        \"dtype\": \"string\",\n        \"num_unique_values\": 10,\n        \"samples\": [\n          \"Crash Bandicoot Animated Series in the Works at Netflix - What's on Netflix\",\n          \"Netflix's One Piece series gets a release date - Polygon\",\n          \"\\u201cA masterclass in crime dramas\\u201d: City of Shadows is the \\u201caddictive\\u201d new Netflix series where every clue counts - Good Housekeeping\"\n        ],\n        \"semantic_type\": \"\",\n        \"description\": \"\"\n      }\n    },\n    {\n      \"column\": \"Link\",\n      \"properties\": {\n        \"dtype\": \"string\",\n        \"num_unique_values\": 10,\n        \"samples\": [\n          \"https://news.google.com/rss/articles/CBMimgFBVV95cUxNVC1vSGxfbDROdU54UlBnOXZ3cmJrMFZwOHRMNGRxVm1NQTdPQ1Z1OTk1Z19sM2p1aFd2VlVjdmJ1M0gxNjYtN2F0TmVuQl8zdVZMVmxIOFB4cDhtUGp0Njl3VUw0b0U2b1p6bXpJUXFqQkNQV2stREZPMDZTczlyYzhLZ1dqR2NLV1k3dzJJY2RqYjNqN2k4d1RR?oc=5\",\n          \"https://news.google.com/rss/articles/CBMiggFBVV95cUxPanNUekZHYnVsUFNJVkFUZExVanZub2l2SHJubnREb2p4Y2xEaURpSnpwcTJkWlpDNXhkaTBpWjFKY2hmR2RpcXpSLV9rbkhqQTl4dEJIUTVpc3NXVWlPd3NyY1VRWG1IQVZJellGdUtiNjRfcmhBV2N2ZDFUR21KU05R?oc=5\",\n          \"https://news.google.com/rss/articles/CBMihwFBVV95cUxObFJFcnBrZEFUb211SE9FTFhLNldVYVpiaTI1OGg2VVZENkFxbDhabzVwSWZXcmlKYm1qSHJCS3dJaVdnQlI3TXpyVkxnaDZXMFhEM2xVN283c2pkQ0ZYY0MtR2ZvaFY4Yl9ITS1oZGZHbUFQNzJDdlJNVmlVSnhSa0x3bjRpX3M?oc=5\"\n        ],\n        \"semantic_type\": \"\",\n        \"description\": \"\"\n      }\n    },\n    {\n      \"column\": \"Published\",\n      \"properties\": {\n        \"dtype\": \"object\",\n        \"num_unique_values\": 10,\n        \"samples\": [\n          \"Mon, 27 Oct 2025 19:04:37 GMT\",\n          \"Tue, 28 Oct 2025 14:55:00 GMT\",\n          \"Tue, 28 Oct 2025 11:16:28 GMT\"\n        ],\n        \"semantic_type\": \"\",\n        \"description\": \"\"\n      }\n    }\n  ]\n}"
            }
          },
          "metadata": {}
        }
      ]
    },
    {
      "cell_type": "markdown",
      "source": [
        "## Step 6: Generate Synthetic Tweets\n",
        "We generate **50 realistic tweets** using `Faker` and random sentiment phrases for demonstration.\n"
      ],
      "metadata": {
        "id": "uIVaKJAh2Msm"
      }
    },
    {
      "cell_type": "code",
      "source": [
        "fake = Faker()\n",
        "positive_phrases = [\n",
        "    f\"{company_name} is surging!\",\n",
        "    f\"Profits from {company_name} are amazing!\",\n",
        "    f\"Holding {company_name} long-term, confident.\",\n",
        "    f\"{company_name} adoption is growing worldwide!\",\n",
        "    f\"Investors are optimistic about {company_name}.\"\n",
        "]\n",
        "\n",
        "negative_phrases = [\n",
        "    f\"Worried about {company_name} volatility.\",\n",
        "    f\"{company_name} might crash soon.\",\n",
        "    f\"{company_name}'s future is uncertain.\",\n",
        "    f\"High risks in {company_name} investments.\",\n",
        "    f\"{company_name} energy consumption is concerning.\"\n",
        "]\n",
        "\n",
        "neutral_phrases = [\n",
        "    f\"{company_name} price remains stable today.\",\n",
        "    f\"Market watching {company_name} closely.\",\n",
        "    f\"{company_name} updates coming soon.\",\n",
        "    f\"{company_name} performance unchanged.\",\n",
        "    f\"Analysts report on {company_name} today.\"\n",
        "]\n",
        "\n",
        "tweets = []\n",
        "for _ in range(50):\n",
        "    sentiment_choice = random.choices(\n",
        "        [\"positive\", \"negative\", \"neutral\"], weights=[0.4, 0.3, 0.3]\n",
        "    )[0]\n",
        "    if sentiment_choice == \"positive\":\n",
        "        tweets.append(random.choice(positive_phrases))\n",
        "    elif sentiment_choice == \"negative\":\n",
        "        tweets.append(random.choice(negative_phrases))\n",
        "    else:\n",
        "        tweets.append(random.choice(neutral_phrases))\n",
        "\n",
        "tweets_df = pd.DataFrame(tweets, columns=[\"Tweet\"])\n",
        "tweets_df.head()"
      ],
      "metadata": {
        "colab": {
          "base_uri": "https://localhost:8080/",
          "height": 206
        },
        "id": "dMPq-_Ds2R7a",
        "outputId": "8984d06f-7fa3-4468-9b20-f8d5c7f18e1f"
      },
      "execution_count": 42,
      "outputs": [
        {
          "output_type": "execute_result",
          "data": {
            "text/plain": [
              "                                       Tweet\n",
              "0             Netflix's future is uncertain.\n",
              "1             Netflix performance unchanged.\n",
              "2  Netflix energy consumption is concerning.\n",
              "3                        Netflix is surging!\n",
              "4         High risks in Netflix investments."
            ],
            "text/html": [
              "\n",
              "  <div id=\"df-3c606e5f-21bc-4eb2-993a-5a43c01835f8\" class=\"colab-df-container\">\n",
              "    <div>\n",
              "<style scoped>\n",
              "    .dataframe tbody tr th:only-of-type {\n",
              "        vertical-align: middle;\n",
              "    }\n",
              "\n",
              "    .dataframe tbody tr th {\n",
              "        vertical-align: top;\n",
              "    }\n",
              "\n",
              "    .dataframe thead th {\n",
              "        text-align: right;\n",
              "    }\n",
              "</style>\n",
              "<table border=\"1\" class=\"dataframe\">\n",
              "  <thead>\n",
              "    <tr style=\"text-align: right;\">\n",
              "      <th></th>\n",
              "      <th>Tweet</th>\n",
              "    </tr>\n",
              "  </thead>\n",
              "  <tbody>\n",
              "    <tr>\n",
              "      <th>0</th>\n",
              "      <td>Netflix's future is uncertain.</td>\n",
              "    </tr>\n",
              "    <tr>\n",
              "      <th>1</th>\n",
              "      <td>Netflix performance unchanged.</td>\n",
              "    </tr>\n",
              "    <tr>\n",
              "      <th>2</th>\n",
              "      <td>Netflix energy consumption is concerning.</td>\n",
              "    </tr>\n",
              "    <tr>\n",
              "      <th>3</th>\n",
              "      <td>Netflix is surging!</td>\n",
              "    </tr>\n",
              "    <tr>\n",
              "      <th>4</th>\n",
              "      <td>High risks in Netflix investments.</td>\n",
              "    </tr>\n",
              "  </tbody>\n",
              "</table>\n",
              "</div>\n",
              "    <div class=\"colab-df-buttons\">\n",
              "\n",
              "  <div class=\"colab-df-container\">\n",
              "    <button class=\"colab-df-convert\" onclick=\"convertToInteractive('df-3c606e5f-21bc-4eb2-993a-5a43c01835f8')\"\n",
              "            title=\"Convert this dataframe to an interactive table.\"\n",
              "            style=\"display:none;\">\n",
              "\n",
              "  <svg xmlns=\"http://www.w3.org/2000/svg\" height=\"24px\" viewBox=\"0 -960 960 960\">\n",
              "    <path d=\"M120-120v-720h720v720H120Zm60-500h600v-160H180v160Zm220 220h160v-160H400v160Zm0 220h160v-160H400v160ZM180-400h160v-160H180v160Zm440 0h160v-160H620v160ZM180-180h160v-160H180v160Zm440 0h160v-160H620v160Z\"/>\n",
              "  </svg>\n",
              "    </button>\n",
              "\n",
              "  <style>\n",
              "    .colab-df-container {\n",
              "      display:flex;\n",
              "      gap: 12px;\n",
              "    }\n",
              "\n",
              "    .colab-df-convert {\n",
              "      background-color: #E8F0FE;\n",
              "      border: none;\n",
              "      border-radius: 50%;\n",
              "      cursor: pointer;\n",
              "      display: none;\n",
              "      fill: #1967D2;\n",
              "      height: 32px;\n",
              "      padding: 0 0 0 0;\n",
              "      width: 32px;\n",
              "    }\n",
              "\n",
              "    .colab-df-convert:hover {\n",
              "      background-color: #E2EBFA;\n",
              "      box-shadow: 0px 1px 2px rgba(60, 64, 67, 0.3), 0px 1px 3px 1px rgba(60, 64, 67, 0.15);\n",
              "      fill: #174EA6;\n",
              "    }\n",
              "\n",
              "    .colab-df-buttons div {\n",
              "      margin-bottom: 4px;\n",
              "    }\n",
              "\n",
              "    [theme=dark] .colab-df-convert {\n",
              "      background-color: #3B4455;\n",
              "      fill: #D2E3FC;\n",
              "    }\n",
              "\n",
              "    [theme=dark] .colab-df-convert:hover {\n",
              "      background-color: #434B5C;\n",
              "      box-shadow: 0px 1px 3px 1px rgba(0, 0, 0, 0.15);\n",
              "      filter: drop-shadow(0px 1px 2px rgba(0, 0, 0, 0.3));\n",
              "      fill: #FFFFFF;\n",
              "    }\n",
              "  </style>\n",
              "\n",
              "    <script>\n",
              "      const buttonEl =\n",
              "        document.querySelector('#df-3c606e5f-21bc-4eb2-993a-5a43c01835f8 button.colab-df-convert');\n",
              "      buttonEl.style.display =\n",
              "        google.colab.kernel.accessAllowed ? 'block' : 'none';\n",
              "\n",
              "      async function convertToInteractive(key) {\n",
              "        const element = document.querySelector('#df-3c606e5f-21bc-4eb2-993a-5a43c01835f8');\n",
              "        const dataTable =\n",
              "          await google.colab.kernel.invokeFunction('convertToInteractive',\n",
              "                                                    [key], {});\n",
              "        if (!dataTable) return;\n",
              "\n",
              "        const docLinkHtml = 'Like what you see? Visit the ' +\n",
              "          '<a target=\"_blank\" href=https://colab.research.google.com/notebooks/data_table.ipynb>data table notebook</a>'\n",
              "          + ' to learn more about interactive tables.';\n",
              "        element.innerHTML = '';\n",
              "        dataTable['output_type'] = 'display_data';\n",
              "        await google.colab.output.renderOutput(dataTable, element);\n",
              "        const docLink = document.createElement('div');\n",
              "        docLink.innerHTML = docLinkHtml;\n",
              "        element.appendChild(docLink);\n",
              "      }\n",
              "    </script>\n",
              "  </div>\n",
              "\n",
              "\n",
              "    <div id=\"df-ec4edb48-9e06-4bc6-b2a8-d26a8e2513f2\">\n",
              "      <button class=\"colab-df-quickchart\" onclick=\"quickchart('df-ec4edb48-9e06-4bc6-b2a8-d26a8e2513f2')\"\n",
              "                title=\"Suggest charts\"\n",
              "                style=\"display:none;\">\n",
              "\n",
              "<svg xmlns=\"http://www.w3.org/2000/svg\" height=\"24px\"viewBox=\"0 0 24 24\"\n",
              "     width=\"24px\">\n",
              "    <g>\n",
              "        <path d=\"M19 3H5c-1.1 0-2 .9-2 2v14c0 1.1.9 2 2 2h14c1.1 0 2-.9 2-2V5c0-1.1-.9-2-2-2zM9 17H7v-7h2v7zm4 0h-2V7h2v10zm4 0h-2v-4h2v4z\"/>\n",
              "    </g>\n",
              "</svg>\n",
              "      </button>\n",
              "\n",
              "<style>\n",
              "  .colab-df-quickchart {\n",
              "      --bg-color: #E8F0FE;\n",
              "      --fill-color: #1967D2;\n",
              "      --hover-bg-color: #E2EBFA;\n",
              "      --hover-fill-color: #174EA6;\n",
              "      --disabled-fill-color: #AAA;\n",
              "      --disabled-bg-color: #DDD;\n",
              "  }\n",
              "\n",
              "  [theme=dark] .colab-df-quickchart {\n",
              "      --bg-color: #3B4455;\n",
              "      --fill-color: #D2E3FC;\n",
              "      --hover-bg-color: #434B5C;\n",
              "      --hover-fill-color: #FFFFFF;\n",
              "      --disabled-bg-color: #3B4455;\n",
              "      --disabled-fill-color: #666;\n",
              "  }\n",
              "\n",
              "  .colab-df-quickchart {\n",
              "    background-color: var(--bg-color);\n",
              "    border: none;\n",
              "    border-radius: 50%;\n",
              "    cursor: pointer;\n",
              "    display: none;\n",
              "    fill: var(--fill-color);\n",
              "    height: 32px;\n",
              "    padding: 0;\n",
              "    width: 32px;\n",
              "  }\n",
              "\n",
              "  .colab-df-quickchart:hover {\n",
              "    background-color: var(--hover-bg-color);\n",
              "    box-shadow: 0 1px 2px rgba(60, 64, 67, 0.3), 0 1px 3px 1px rgba(60, 64, 67, 0.15);\n",
              "    fill: var(--button-hover-fill-color);\n",
              "  }\n",
              "\n",
              "  .colab-df-quickchart-complete:disabled,\n",
              "  .colab-df-quickchart-complete:disabled:hover {\n",
              "    background-color: var(--disabled-bg-color);\n",
              "    fill: var(--disabled-fill-color);\n",
              "    box-shadow: none;\n",
              "  }\n",
              "\n",
              "  .colab-df-spinner {\n",
              "    border: 2px solid var(--fill-color);\n",
              "    border-color: transparent;\n",
              "    border-bottom-color: var(--fill-color);\n",
              "    animation:\n",
              "      spin 1s steps(1) infinite;\n",
              "  }\n",
              "\n",
              "  @keyframes spin {\n",
              "    0% {\n",
              "      border-color: transparent;\n",
              "      border-bottom-color: var(--fill-color);\n",
              "      border-left-color: var(--fill-color);\n",
              "    }\n",
              "    20% {\n",
              "      border-color: transparent;\n",
              "      border-left-color: var(--fill-color);\n",
              "      border-top-color: var(--fill-color);\n",
              "    }\n",
              "    30% {\n",
              "      border-color: transparent;\n",
              "      border-left-color: var(--fill-color);\n",
              "      border-top-color: var(--fill-color);\n",
              "      border-right-color: var(--fill-color);\n",
              "    }\n",
              "    40% {\n",
              "      border-color: transparent;\n",
              "      border-right-color: var(--fill-color);\n",
              "      border-top-color: var(--fill-color);\n",
              "    }\n",
              "    60% {\n",
              "      border-color: transparent;\n",
              "      border-right-color: var(--fill-color);\n",
              "    }\n",
              "    80% {\n",
              "      border-color: transparent;\n",
              "      border-right-color: var(--fill-color);\n",
              "      border-bottom-color: var(--fill-color);\n",
              "    }\n",
              "    90% {\n",
              "      border-color: transparent;\n",
              "      border-bottom-color: var(--fill-color);\n",
              "    }\n",
              "  }\n",
              "</style>\n",
              "\n",
              "      <script>\n",
              "        async function quickchart(key) {\n",
              "          const quickchartButtonEl =\n",
              "            document.querySelector('#' + key + ' button');\n",
              "          quickchartButtonEl.disabled = true;  // To prevent multiple clicks.\n",
              "          quickchartButtonEl.classList.add('colab-df-spinner');\n",
              "          try {\n",
              "            const charts = await google.colab.kernel.invokeFunction(\n",
              "                'suggestCharts', [key], {});\n",
              "          } catch (error) {\n",
              "            console.error('Error during call to suggestCharts:', error);\n",
              "          }\n",
              "          quickchartButtonEl.classList.remove('colab-df-spinner');\n",
              "          quickchartButtonEl.classList.add('colab-df-quickchart-complete');\n",
              "        }\n",
              "        (() => {\n",
              "          let quickchartButtonEl =\n",
              "            document.querySelector('#df-ec4edb48-9e06-4bc6-b2a8-d26a8e2513f2 button');\n",
              "          quickchartButtonEl.style.display =\n",
              "            google.colab.kernel.accessAllowed ? 'block' : 'none';\n",
              "        })();\n",
              "      </script>\n",
              "    </div>\n",
              "\n",
              "    </div>\n",
              "  </div>\n"
            ],
            "application/vnd.google.colaboratory.intrinsic+json": {
              "type": "dataframe",
              "variable_name": "tweets_df",
              "summary": "{\n  \"name\": \"tweets_df\",\n  \"rows\": 50,\n  \"fields\": [\n    {\n      \"column\": \"Tweet\",\n      \"properties\": {\n        \"dtype\": \"category\",\n        \"num_unique_values\": 14,\n        \"samples\": [\n          \"Netflix adoption is growing worldwide!\",\n          \"Netflix price remains stable today.\",\n          \"Netflix's future is uncertain.\"\n        ],\n        \"semantic_type\": \"\",\n        \"description\": \"\"\n      }\n    }\n  ]\n}"
            }
          },
          "metadata": {},
          "execution_count": 42
        }
      ]
    },
    {
      "cell_type": "markdown",
      "source": [
        "## Step 7: Preprocess Tweets & Perform Sentiment Analysis\n",
        "We analyze the **polarity** of each tweet using `TextBlob` and classify them into Positive, Negative, or Neutral.\n"
      ],
      "metadata": {
        "id": "qmcKWgdn2dBe"
      }
    },
    {
      "cell_type": "code",
      "source": [
        "# Sentiment polarity\n",
        "tweets_df[\"Polarity\"] = tweets_df[\"Tweet\"].apply(lambda x: TextBlob(x).sentiment.polarity)\n",
        "# Sentiment category\n",
        "tweets_df[\"Sentiment\"] = tweets_df[\"Polarity\"].apply(\n",
        "    lambda x: \"Positive\" if x > 0 else (\"Negative\" if x < 0 else \"Neutral\")\n",
        ")\n",
        "tweets_df.head()"
      ],
      "metadata": {
        "colab": {
          "base_uri": "https://localhost:8080/",
          "height": 206
        },
        "id": "EFjnkBRV2g3y",
        "outputId": "89322c0b-36f1-4404-8a5c-0fe86d64f79a"
      },
      "execution_count": 43,
      "outputs": [
        {
          "output_type": "execute_result",
          "data": {
            "text/plain": [
              "                                       Tweet  Polarity Sentiment\n",
              "0             Netflix's future is uncertain.      0.00   Neutral\n",
              "1             Netflix performance unchanged.      0.00   Neutral\n",
              "2  Netflix energy consumption is concerning.      0.00   Neutral\n",
              "3                        Netflix is surging!      0.00   Neutral\n",
              "4         High risks in Netflix investments.      0.16  Positive"
            ],
            "text/html": [
              "\n",
              "  <div id=\"df-b9694def-4266-43dc-ace5-a6d0e6a00888\" class=\"colab-df-container\">\n",
              "    <div>\n",
              "<style scoped>\n",
              "    .dataframe tbody tr th:only-of-type {\n",
              "        vertical-align: middle;\n",
              "    }\n",
              "\n",
              "    .dataframe tbody tr th {\n",
              "        vertical-align: top;\n",
              "    }\n",
              "\n",
              "    .dataframe thead th {\n",
              "        text-align: right;\n",
              "    }\n",
              "</style>\n",
              "<table border=\"1\" class=\"dataframe\">\n",
              "  <thead>\n",
              "    <tr style=\"text-align: right;\">\n",
              "      <th></th>\n",
              "      <th>Tweet</th>\n",
              "      <th>Polarity</th>\n",
              "      <th>Sentiment</th>\n",
              "    </tr>\n",
              "  </thead>\n",
              "  <tbody>\n",
              "    <tr>\n",
              "      <th>0</th>\n",
              "      <td>Netflix's future is uncertain.</td>\n",
              "      <td>0.00</td>\n",
              "      <td>Neutral</td>\n",
              "    </tr>\n",
              "    <tr>\n",
              "      <th>1</th>\n",
              "      <td>Netflix performance unchanged.</td>\n",
              "      <td>0.00</td>\n",
              "      <td>Neutral</td>\n",
              "    </tr>\n",
              "    <tr>\n",
              "      <th>2</th>\n",
              "      <td>Netflix energy consumption is concerning.</td>\n",
              "      <td>0.00</td>\n",
              "      <td>Neutral</td>\n",
              "    </tr>\n",
              "    <tr>\n",
              "      <th>3</th>\n",
              "      <td>Netflix is surging!</td>\n",
              "      <td>0.00</td>\n",
              "      <td>Neutral</td>\n",
              "    </tr>\n",
              "    <tr>\n",
              "      <th>4</th>\n",
              "      <td>High risks in Netflix investments.</td>\n",
              "      <td>0.16</td>\n",
              "      <td>Positive</td>\n",
              "    </tr>\n",
              "  </tbody>\n",
              "</table>\n",
              "</div>\n",
              "    <div class=\"colab-df-buttons\">\n",
              "\n",
              "  <div class=\"colab-df-container\">\n",
              "    <button class=\"colab-df-convert\" onclick=\"convertToInteractive('df-b9694def-4266-43dc-ace5-a6d0e6a00888')\"\n",
              "            title=\"Convert this dataframe to an interactive table.\"\n",
              "            style=\"display:none;\">\n",
              "\n",
              "  <svg xmlns=\"http://www.w3.org/2000/svg\" height=\"24px\" viewBox=\"0 -960 960 960\">\n",
              "    <path d=\"M120-120v-720h720v720H120Zm60-500h600v-160H180v160Zm220 220h160v-160H400v160Zm0 220h160v-160H400v160ZM180-400h160v-160H180v160Zm440 0h160v-160H620v160ZM180-180h160v-160H180v160Zm440 0h160v-160H620v160Z\"/>\n",
              "  </svg>\n",
              "    </button>\n",
              "\n",
              "  <style>\n",
              "    .colab-df-container {\n",
              "      display:flex;\n",
              "      gap: 12px;\n",
              "    }\n",
              "\n",
              "    .colab-df-convert {\n",
              "      background-color: #E8F0FE;\n",
              "      border: none;\n",
              "      border-radius: 50%;\n",
              "      cursor: pointer;\n",
              "      display: none;\n",
              "      fill: #1967D2;\n",
              "      height: 32px;\n",
              "      padding: 0 0 0 0;\n",
              "      width: 32px;\n",
              "    }\n",
              "\n",
              "    .colab-df-convert:hover {\n",
              "      background-color: #E2EBFA;\n",
              "      box-shadow: 0px 1px 2px rgba(60, 64, 67, 0.3), 0px 1px 3px 1px rgba(60, 64, 67, 0.15);\n",
              "      fill: #174EA6;\n",
              "    }\n",
              "\n",
              "    .colab-df-buttons div {\n",
              "      margin-bottom: 4px;\n",
              "    }\n",
              "\n",
              "    [theme=dark] .colab-df-convert {\n",
              "      background-color: #3B4455;\n",
              "      fill: #D2E3FC;\n",
              "    }\n",
              "\n",
              "    [theme=dark] .colab-df-convert:hover {\n",
              "      background-color: #434B5C;\n",
              "      box-shadow: 0px 1px 3px 1px rgba(0, 0, 0, 0.15);\n",
              "      filter: drop-shadow(0px 1px 2px rgba(0, 0, 0, 0.3));\n",
              "      fill: #FFFFFF;\n",
              "    }\n",
              "  </style>\n",
              "\n",
              "    <script>\n",
              "      const buttonEl =\n",
              "        document.querySelector('#df-b9694def-4266-43dc-ace5-a6d0e6a00888 button.colab-df-convert');\n",
              "      buttonEl.style.display =\n",
              "        google.colab.kernel.accessAllowed ? 'block' : 'none';\n",
              "\n",
              "      async function convertToInteractive(key) {\n",
              "        const element = document.querySelector('#df-b9694def-4266-43dc-ace5-a6d0e6a00888');\n",
              "        const dataTable =\n",
              "          await google.colab.kernel.invokeFunction('convertToInteractive',\n",
              "                                                    [key], {});\n",
              "        if (!dataTable) return;\n",
              "\n",
              "        const docLinkHtml = 'Like what you see? Visit the ' +\n",
              "          '<a target=\"_blank\" href=https://colab.research.google.com/notebooks/data_table.ipynb>data table notebook</a>'\n",
              "          + ' to learn more about interactive tables.';\n",
              "        element.innerHTML = '';\n",
              "        dataTable['output_type'] = 'display_data';\n",
              "        await google.colab.output.renderOutput(dataTable, element);\n",
              "        const docLink = document.createElement('div');\n",
              "        docLink.innerHTML = docLinkHtml;\n",
              "        element.appendChild(docLink);\n",
              "      }\n",
              "    </script>\n",
              "  </div>\n",
              "\n",
              "\n",
              "    <div id=\"df-316e13bc-c198-408d-8742-9bd754b1e72c\">\n",
              "      <button class=\"colab-df-quickchart\" onclick=\"quickchart('df-316e13bc-c198-408d-8742-9bd754b1e72c')\"\n",
              "                title=\"Suggest charts\"\n",
              "                style=\"display:none;\">\n",
              "\n",
              "<svg xmlns=\"http://www.w3.org/2000/svg\" height=\"24px\"viewBox=\"0 0 24 24\"\n",
              "     width=\"24px\">\n",
              "    <g>\n",
              "        <path d=\"M19 3H5c-1.1 0-2 .9-2 2v14c0 1.1.9 2 2 2h14c1.1 0 2-.9 2-2V5c0-1.1-.9-2-2-2zM9 17H7v-7h2v7zm4 0h-2V7h2v10zm4 0h-2v-4h2v4z\"/>\n",
              "    </g>\n",
              "</svg>\n",
              "      </button>\n",
              "\n",
              "<style>\n",
              "  .colab-df-quickchart {\n",
              "      --bg-color: #E8F0FE;\n",
              "      --fill-color: #1967D2;\n",
              "      --hover-bg-color: #E2EBFA;\n",
              "      --hover-fill-color: #174EA6;\n",
              "      --disabled-fill-color: #AAA;\n",
              "      --disabled-bg-color: #DDD;\n",
              "  }\n",
              "\n",
              "  [theme=dark] .colab-df-quickchart {\n",
              "      --bg-color: #3B4455;\n",
              "      --fill-color: #D2E3FC;\n",
              "      --hover-bg-color: #434B5C;\n",
              "      --hover-fill-color: #FFFFFF;\n",
              "      --disabled-bg-color: #3B4455;\n",
              "      --disabled-fill-color: #666;\n",
              "  }\n",
              "\n",
              "  .colab-df-quickchart {\n",
              "    background-color: var(--bg-color);\n",
              "    border: none;\n",
              "    border-radius: 50%;\n",
              "    cursor: pointer;\n",
              "    display: none;\n",
              "    fill: var(--fill-color);\n",
              "    height: 32px;\n",
              "    padding: 0;\n",
              "    width: 32px;\n",
              "  }\n",
              "\n",
              "  .colab-df-quickchart:hover {\n",
              "    background-color: var(--hover-bg-color);\n",
              "    box-shadow: 0 1px 2px rgba(60, 64, 67, 0.3), 0 1px 3px 1px rgba(60, 64, 67, 0.15);\n",
              "    fill: var(--button-hover-fill-color);\n",
              "  }\n",
              "\n",
              "  .colab-df-quickchart-complete:disabled,\n",
              "  .colab-df-quickchart-complete:disabled:hover {\n",
              "    background-color: var(--disabled-bg-color);\n",
              "    fill: var(--disabled-fill-color);\n",
              "    box-shadow: none;\n",
              "  }\n",
              "\n",
              "  .colab-df-spinner {\n",
              "    border: 2px solid var(--fill-color);\n",
              "    border-color: transparent;\n",
              "    border-bottom-color: var(--fill-color);\n",
              "    animation:\n",
              "      spin 1s steps(1) infinite;\n",
              "  }\n",
              "\n",
              "  @keyframes spin {\n",
              "    0% {\n",
              "      border-color: transparent;\n",
              "      border-bottom-color: var(--fill-color);\n",
              "      border-left-color: var(--fill-color);\n",
              "    }\n",
              "    20% {\n",
              "      border-color: transparent;\n",
              "      border-left-color: var(--fill-color);\n",
              "      border-top-color: var(--fill-color);\n",
              "    }\n",
              "    30% {\n",
              "      border-color: transparent;\n",
              "      border-left-color: var(--fill-color);\n",
              "      border-top-color: var(--fill-color);\n",
              "      border-right-color: var(--fill-color);\n",
              "    }\n",
              "    40% {\n",
              "      border-color: transparent;\n",
              "      border-right-color: var(--fill-color);\n",
              "      border-top-color: var(--fill-color);\n",
              "    }\n",
              "    60% {\n",
              "      border-color: transparent;\n",
              "      border-right-color: var(--fill-color);\n",
              "    }\n",
              "    80% {\n",
              "      border-color: transparent;\n",
              "      border-right-color: var(--fill-color);\n",
              "      border-bottom-color: var(--fill-color);\n",
              "    }\n",
              "    90% {\n",
              "      border-color: transparent;\n",
              "      border-bottom-color: var(--fill-color);\n",
              "    }\n",
              "  }\n",
              "</style>\n",
              "\n",
              "      <script>\n",
              "        async function quickchart(key) {\n",
              "          const quickchartButtonEl =\n",
              "            document.querySelector('#' + key + ' button');\n",
              "          quickchartButtonEl.disabled = true;  // To prevent multiple clicks.\n",
              "          quickchartButtonEl.classList.add('colab-df-spinner');\n",
              "          try {\n",
              "            const charts = await google.colab.kernel.invokeFunction(\n",
              "                'suggestCharts', [key], {});\n",
              "          } catch (error) {\n",
              "            console.error('Error during call to suggestCharts:', error);\n",
              "          }\n",
              "          quickchartButtonEl.classList.remove('colab-df-spinner');\n",
              "          quickchartButtonEl.classList.add('colab-df-quickchart-complete');\n",
              "        }\n",
              "        (() => {\n",
              "          let quickchartButtonEl =\n",
              "            document.querySelector('#df-316e13bc-c198-408d-8742-9bd754b1e72c button');\n",
              "          quickchartButtonEl.style.display =\n",
              "            google.colab.kernel.accessAllowed ? 'block' : 'none';\n",
              "        })();\n",
              "      </script>\n",
              "    </div>\n",
              "\n",
              "    </div>\n",
              "  </div>\n"
            ],
            "application/vnd.google.colaboratory.intrinsic+json": {
              "type": "dataframe",
              "variable_name": "tweets_df",
              "summary": "{\n  \"name\": \"tweets_df\",\n  \"rows\": 50,\n  \"fields\": [\n    {\n      \"column\": \"Tweet\",\n      \"properties\": {\n        \"dtype\": \"category\",\n        \"num_unique_values\": 14,\n        \"samples\": [\n          \"Netflix adoption is growing worldwide!\",\n          \"Netflix price remains stable today.\",\n          \"Netflix's future is uncertain.\"\n        ],\n        \"semantic_type\": \"\",\n        \"description\": \"\"\n      }\n    },\n    {\n      \"column\": \"Polarity\",\n      \"properties\": {\n        \"dtype\": \"number\",\n        \"std\": 0.2773581637890043,\n        \"min\": 0.0,\n        \"max\": 0.7500000000000001,\n        \"num_unique_values\": 4,\n        \"samples\": [\n          0.16,\n          0.7500000000000001,\n          0.0\n        ],\n        \"semantic_type\": \"\",\n        \"description\": \"\"\n      }\n    },\n    {\n      \"column\": \"Sentiment\",\n      \"properties\": {\n        \"dtype\": \"category\",\n        \"num_unique_values\": 2,\n        \"samples\": [\n          \"Positive\",\n          \"Neutral\"\n        ],\n        \"semantic_type\": \"\",\n        \"description\": \"\"\n      }\n    }\n  ]\n}"
            }
          },
          "metadata": {},
          "execution_count": 43
        }
      ]
    },
    {
      "cell_type": "markdown",
      "source": [
        "## Step 8: Visualize Sentiment Distribution\n",
        "We create a **bar chart** showing how many tweets fall into each sentiment category."
      ],
      "metadata": {
        "id": "yHLM8Jz_2wZJ"
      }
    },
    {
      "cell_type": "code",
      "source": [
        "plt.figure(figsize=(6,4))\n",
        "sns.countplot(data=tweets_df, x=\"Sentiment\", hue=\"Sentiment\", palette=\"viridis\", legend=False)\n",
        "plt.title(f\"Sentiment Distribution for {company_name} Tweets\")\n",
        "plt.xlabel(\"Sentiment\")\n",
        "plt.ylabel(\"Tweet Count\")\n",
        "plt.show()"
      ],
      "metadata": {
        "colab": {
          "base_uri": "https://localhost:8080/",
          "height": 419
        },
        "id": "e-xz0Nxz2zcD",
        "outputId": "84b1349e-f7ad-44b8-f361-abc7b2d854d9"
      },
      "execution_count": 44,
      "outputs": [
        {
          "output_type": "display_data",
          "data": {
            "text/plain": [
              "<Figure size 600x400 with 1 Axes>"
            ],
            "image/png": "[encoded data removed]"
          },
          "metadata": {}
        }
      ]
    },
    {
      "cell_type": "markdown",
      "source": [
        "## Step 9: Visualize Sentiment Trend Across Tweets\n",
        "We create a **line chart** showing polarity trend across the 50 tweets.\n"
      ],
      "metadata": {
        "id": "CoTEUMQp27vH"
      }
    },
    {
      "cell_type": "code",
      "source": [
        "plt.figure(figsize=(8,4))\n",
        "plt.plot(tweets_df.index, tweets_df[\"Polarity\"], marker='o', linestyle='-', color='teal')\n",
        "plt.title(f\"Sentiment Polarity Trend Across Tweets for {company_name}\")\n",
        "plt.xlabel(\"Tweet Index\")\n",
        "plt.ylabel(\"Polarity Score\")\n",
        "plt.grid(True)\n",
        "plt.show()"
      ],
      "metadata": {
        "colab": {
          "base_uri": "https://localhost:8080/",
          "height": 419
        },
        "id": "2uDypF8V2_bG",
        "outputId": "4e9d881b-9a4a-4f24-8967-8a9bb5c7592e"
      },
      "execution_count": 45,
      "outputs": [
        {
          "output_type": "display_data",
          "data": {
            "text/plain": [
              "<Figure size 800x400 with 1 Axes>"
            ],
            "image/png": "[encoded data removed]"
          },
          "metadata": {}
        }
      ]
    },
    {
      "cell_type": "markdown",
      "source": [
        "## Step 10: Visualize Market Price Trend\n",
        "For context, we visualize the closing price of the asset over the last 30 days.\n"
      ],
      "metadata": {
        "id": "a7RnKIBD3Lgm"
      }
    },
    {
      "cell_type": "code",
      "source": [
        "plt.figure(figsize=(10,4))\n",
        "plt.plot(market_data[\"Date\"], market_data[\"Close\"], marker='o', color='orange')\n",
        "plt.title(f\"{company_name} Closing Price Trend (Last 30 Days)\")\n",
        "plt.xlabel(\"Date\")\n",
        "plt.ylabel(\"Price (INR)\")\n",
        "plt.xticks(rotation=45)\n",
        "plt.grid(True)\n",
        "plt.show()"
      ],
      "metadata": {
        "colab": {
          "base_uri": "https://localhost:8080/",
          "height": 477
        },
        "id": "vCUhkzXE3QOq",
        "outputId": "4654b340-30a8-433f-b92d-818d44259b43"
      },
      "execution_count": 46,
      "outputs": [
        {
          "output_type": "display_data",
          "data": {
            "text/plain": [
              "<Figure size 1000x400 with 1 Axes>"
            ],
            "image/png": "[encoded data removed]"
          },
          "metadata": {}
        }
      ]
    },
    {
      "cell_type": "markdown",
      "metadata": {
        "id": "e9af4ed0"
      },
      "source": [
        "## Using Alpha Vantage for Stock Data\n",
        "\n",
        "\n",
        "First, install the library:"
      ]
    },
    {
      "cell_type": "code",
      "metadata": {
        "colab": {
          "base_uri": "https://localhost:8080/"
        },
        "id": "d72eb496",
        "outputId": "64b0e821-6c75-4a86-d4e0-fe32098904b2"
      },
      "source": [
        "!pip install alpha_vantage"
      ],
      "execution_count": 47,
      "outputs": [
        {
          "output_type": "stream",
          "name": "stdout",
          "text": [
            "Requirement already satisfied: alpha_vantage in /usr/local/lib/python3.12/dist-packages (3.0.0)\n",
            "Requirement already satisfied: aiohttp in /usr/local/lib/python3.12/dist-packages (from alpha_vantage) (3.13.1)\n",
            "Requirement already satisfied: requests in /usr/local/lib/python3.12/dist-packages (from alpha_vantage) (2.32.4)\n",
            "Requirement already satisfied: aiohappyeyeballs>=2.5.0 in /usr/local/lib/python3.12/dist-packages (from aiohttp->alpha_vantage) (2.6.1)\n",
            "Requirement already satisfied: aiosignal>=1.4.0 in /usr/local/lib/python3.12/dist-packages (from aiohttp->alpha_vantage) (1.4.0)\n",
            "Requirement already satisfied: attrs>=17.3.0 in /usr/local/lib/python3.12/dist-packages (from aiohttp->alpha_vantage) (25.4.0)\n",
            "Requirement already satisfied: frozenlist>=1.1.1 in /usr/local/lib/python3.12/dist-packages (from aiohttp->alpha_vantage) (1.8.0)\n",
            "Requirement already satisfied: multidict<7.0,>=4.5 in /usr/local/lib/python3.12/dist-packages (from aiohttp->alpha_vantage) (6.7.0)\n",
            "Requirement already satisfied: propcache>=0.2.0 in /usr/local/lib/python3.12/dist-packages (from aiohttp->alpha_vantage) (0.4.1)\n",
            "Requirement already satisfied: yarl<2.0,>=1.17.0 in /usr/local/lib/python3.12/dist-packages (from aiohttp->alpha_vantage) (1.22.0)\n",
            "Requirement already satisfied: charset_normalizer<4,>=2 in /usr/local/lib/python3.12/dist-packages (from requests->alpha_vantage) (3.4.4)\n",
            "Requirement already satisfied: idna<4,>=2.5 in /usr/local/lib/python3.12/dist-packages (from requests->alpha_vantage) (3.11)\n",
            "Requirement already satisfied: urllib3<3,>=1.21.1 in /usr/local/lib/python3.12/dist-packages (from requests->alpha_vantage) (2.5.0)\n",
            "Requirement already satisfied: certifi>=2017.4.17 in /usr/local/lib/python3.12/dist-packages (from requests->alpha_vantage) (2025.10.5)\n",
            "Requirement already satisfied: typing-extensions>=4.2 in /usr/local/lib/python3.12/dist-packages (from aiosignal>=1.4.0->aiohttp->alpha_vantage) (4.15.0)\n"
          ]
        }
      ]
    },
    {
      "cell_type": "markdown",
      "metadata": {
        "id": "79c9f423"
      },
      "source": [
        "### Analyze Alpha Vantage Data\n",
        "Here are some descriptive statistics for the Alpha Vantage data:"
      ]
    },
    {
      "cell_type": "markdown",
      "metadata": {
        "id": "77a796fa"
      },
      "source": [
        "Now, let's visualize the trading volume over time:"
      ]
    },
    {
      "cell_type": "code",
      "source": [
        "from alpha_vantage.timeseries import TimeSeries\n",
        "import pandas as pd\n",
        "\n",
        "# Alpha Vantage Key\n",
        "API_KEY = \"BS1CQYGKGV02PINU\"\n",
        "\n",
        "# -------- ASK USER --------\n",
        "company_name = input(\"Enter the company name (e.g., Infosys, Rakuten, Netflix, TCS, Tesla, Bitcoin): \")\n",
        "print(f\"\\nData analysis will be performed for: {company_name}\")\n",
        "\n",
        "# -------- SYMBOL DETECTION --------\n",
        "def detect_symbol(asset_name):\n",
        "    mapping = {\n",
        "        \"BITCOIN\": \"BTCUSD\",\n",
        "        \"TESLA\": \"TSLA\",\n",
        "        \"INFOSYS\": \"INFY\",\n",
        "        \"RAKUTEN\": \"RKUNY\",\n",
        "        \"NETFLIX\": \"NFLX\",\n",
        "        \"TCS\": \"TCS.NS\",    # Try NSE if needed\n",
        "    }\n",
        "    return mapping.get(asset_name.upper(), asset_name)\n",
        "\n",
        "symbol = detect_symbol(company_name)\n",
        "\n",
        "# -------- TREND ANALYSIS --------\n",
        "def get_trend(df):\n",
        "    df = df.copy()\n",
        "    df['SMA20'] = df['4. close'].rolling(20).mean()\n",
        "    df['SMA50'] = df['4. close'].rolling(50).mean()\n",
        "    latest = df.iloc[-1]\n",
        "\n",
        "    if latest['SMA20'] > latest['SMA50']:\n",
        "        return \"✅ Bullish Trend\", \"Consider Investing (Uptrend)\"\n",
        "    elif latest['SMA20'] < latest['SMA50']:\n",
        "        return \"❌ Bearish Trend\", \"Avoid / Wait for Reversal\"\n",
        "    else:\n",
        "        return \"⚠️ Sideways Market\", \"Neutral — Wait for breakout\"\n",
        "\n",
        "# -------- FETCH & PROCESS --------\n",
        "ts = TimeSeries(key=API_KEY, output_format='pandas')\n",
        "\n",
        "try:\n",
        "    data, meta = ts.get_daily(symbol=symbol, outputsize='full')\n",
        "    data = data.sort_index()\n",
        "\n",
        "    print(f\"\\n📊 Latest Market Data for {company_name} ({symbol}):\")\n",
        "    print(data.tail(3))\n",
        "\n",
        "    trend, decision = get_trend(data)\n",
        "    print(f\"\\n📌 Trend Status: {trend}\")\n",
        "    print(f\"🧾 Decision: {decision}\")\n",
        "\n",
        "except Exception as e:\n",
        "    print(f\"\\n❌ Error fetching data for {company_name} ({symbol}): {e}\")\n",
        "    print(\"Make sure symbol is correct or try a different company name.\")"
      ],
      "metadata": {
        "colab": {
          "base_uri": "https://localhost:8080/"
        },
        "id": "Rf6RmyKRjghi",
        "outputId": "7afe626e-4769-45b1-a348-7c3b0b24f982"
      },
      "execution_count": 49,
      "outputs": [
        {
          "output_type": "stream",
          "name": "stdout",
          "text": [
            "Enter the company name (e.g., Infosys, Rakuten, Netflix, TCS, Tesla, Bitcoin): Infosys\n",
            "\n",
            "Data analysis will be performed for: Infosys\n",
            "\n",
            "📊 Latest Market Data for Infosys (INFY):\n",
            "            1. open  2. high   3. low  4. close   5. volume\n",
            "date                                                       \n",
            "2025-10-23    17.50   17.645  17.3500     17.53  14138830.0\n",
            "2025-10-24    17.53   17.585  17.4100     17.48   8492498.0\n",
            "2025-10-27    17.20   17.270  16.8907     17.04  11499739.0\n",
            "\n",
            "📌 Trend Status: ❌ Bearish Trend\n",
            "🧾 Decision: Avoid / Wait for Reversal\n"
          ]
        }
      ]
    },
    {
      "cell_type": "code",
      "metadata": {
        "colab": {
          "base_uri": "https://localhost:8080/",
          "height": 481
        },
        "id": "c67fe40a",
        "outputId": "6b4ae70d-4365-484e-819b-6c1b29a86d09"
      },
      "source": [
        "plt.figure(figsize=(12, 5))\n",
        "plt.plot(data.index, data['5. volume'], linewidth=2, color='purple')\n",
        "plt.title(f\"{company_name} - Trading Volume (Alpha Vantage)\")\n",
        "plt.xlabel(\"Date\")\n",
        "plt.ylabel(\"Volume\")\n",
        "plt.tight_layout()\n",
        "plt.show()"
      ],
      "execution_count": 50,
      "outputs": [
        {
          "output_type": "display_data",
          "data": {
            "text/plain": [
              "<Figure size 1200x500 with 1 Axes>"
            ],
            "image/png": "[encoded data removed]"
          },
          "metadata": {}
        }
      ]
    },
    {
      "cell_type": "code",
      "source": [
        "plt.figure(figsize=(12,5))\n",
        "plt.plot(data.index, data['4. close'], linewidth=2)\n",
        "plt.title(f\"{symbol} - Closing Price (Alpha Vantage)\")\n",
        "plt.xlabel(\"Date\")\n",
        "plt.ylabel(\"Price (USD)\")\n",
        "plt.tight_layout()\n",
        "plt.show()"
      ],
      "metadata": {
        "colab": {
          "base_uri": "https://localhost:8080/",
          "height": 481
        },
        "id": "4zwrl-7F5i11",
        "outputId": "63618c4d-b799-436b-ab63-48f017a5e200"
      },
      "execution_count": 51,
      "outputs": [
        {
          "output_type": "display_data",
          "data": {
            "text/plain": [
              "<Figure size 1200x500 with 1 Axes>"
            ],
            "image/png": "[encoded data removed]"
          },
          "metadata": {}
        }
      ]
    },
    {
      "cell_type": "markdown",
      "source": [
        "## Sprint 1 Conclusion\n",
        "**What we achieved in Sprint 1:**\n",
        "\n",
        "1. Collected real-time open-source data from:\n",
        "   - Wikipedia (summary)\n",
        "   - Yahoo Finance (market prices)\n",
        "   - Google News RSS (recent headlines)\n",
        "   - Generated synthetic tweets (50) for sentiment analysis\n",
        "2. Cleaned and structured data using **pandas DataFrames**\n",
        "3. Performed sentiment analysis using **TextBlob**\n",
        "4. Visualized key insights:\n",
        "   - Sentiment distribution (bar chart)\n",
        "   - Sentiment trend across tweets (line chart)\n",
        "   - Market price trend (line chart)\n",
        "5. Built a flexible, interactive notebook for any asset/company input\n",
        "\n",
        "This notebook sets the foundation for **Sprint 2**, where we will integrate **real-time dashboards and AI-driven analytics**.\n"
      ],
      "metadata": {
        "id": "PnhipdJV3cxC"
      }
    }
  ]
}
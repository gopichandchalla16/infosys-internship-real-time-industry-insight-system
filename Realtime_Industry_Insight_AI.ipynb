{
  "nbformat": 4,
  "nbformat_minor": 0,
  "metadata": {
    "colab": {
      "provenance": [],
      "authorship_tag": "ABX9TyM/vKHKnDEpzWnvvhxThKEL",
      "include_colab_link": true
    },
    "kernelspec": {
      "name": "python3",
      "display_name": "Python 3"
    },
    "language_info": {
      "name": "python"
    }
  },
  "cells": [
    {
      "cell_type": "markdown",
      "metadata": {
        "id": "view-in-github",
        "colab_type": "text"
      },
      "source": [
        "<a href=\"https://colab.research.google.com/github/gopichandchalla16/infosys-internship-real-time-industry-insight-system/blob/janmejay-dev/Realtime_Industry_Insight_AI.ipynb\" target=\"_parent\"><img src=\"https://colab.research.google.com/assets/colab-badge.svg\" alt=\"Open In Colab\"/></a>"
      ]
    },
    {
      "cell_type": "code",
      "source": [
        "!pip install wikipedia --quiet"
      ],
      "metadata": {
        "id": "9ApOFlrwZ4pv"
      },
      "execution_count": 19,
      "outputs": []
    },
    {
      "cell_type": "code",
      "source": [
        "import openai, tweepy, pandas as pd, matplotlib.pyplot as plt"
      ],
      "metadata": {
        "id": "kgQ5PAZGeRR2"
      },
      "execution_count": null,
      "outputs": []
    },
    {
      "cell_type": "code",
      "source": [
        "print(\"✅ Environment ready!\")"
      ],
      "metadata": {
        "colab": {
          "base_uri": "https://localhost:8080/"
        },
        "id": "7LRT_3b2eav2",
        "outputId": "bbf170f9-b462-4bc5-f66a-525725a312ae"
      },
      "execution_count": null,
      "outputs": [
        {
          "output_type": "stream",
          "name": "stdout",
          "text": [
            "✅ Environment ready!\n"
          ]
        }
      ]
    },
    {
      "cell_type": "code",
      "source": [
        "# Testing completed"
      ],
      "metadata": {
        "id": "0sNQ0t0QMaZk"
      },
      "execution_count": 1,
      "outputs": []
    },
    {
      "cell_type": "markdown",
      "source": [
        "Testing completed on colab\n"
      ],
      "metadata": {
        "id": "r1HkyPk1NDAm"
      }
    },
    {
      "cell_type": "markdown",
      "source": [
        "Infosys Project : Real-Time Industry Insight & Strategic Intelligence System\n",
        "\n",
        "Sprint 1 – Data Sourcing & Handling\n",
        "\n",
        "\n",
        "Objective :: To collect real-time data from external APIs, preprocess it, perform sentiment analysis using a pre-trained Hugging Face model, and visualize the results through a simple interactive dashboard."
      ],
      "metadata": {
        "id": "6-MA-Y-gNruZ"
      }
    },
    {
      "cell_type": "markdown",
      "source": [
        " Step 1 :: Install Dependencies"
      ],
      "metadata": {
        "id": "JpJ9hX_AUy4X"
      }
    },
    {
      "cell_type": "code",
      "source": [
        "!pip install wikipedia yfinance feedparser textblob transformers matplotlib --quiet\n"
      ],
      "metadata": {
        "colab": {
          "base_uri": "https://localhost:8080/"
        },
        "id": "51nsqaMlUyYq",
        "outputId": "d5358eca-c5f5-4572-b124-d1ec2638a1f7"
      },
      "execution_count": 2,
      "outputs": [
        {
          "output_type": "stream",
          "name": "stdout",
          "text": [
            "  Preparing metadata (setup.py) ... \u001b[?25l\u001b[?25hdone\n",
            "  Preparing metadata (setup.py) ... \u001b[?25l\u001b[?25hdone\n",
            "\u001b[2K   \u001b[90m━━━━━━━━━━━━━━━━━━━━━━━━━━━━━━━━━━━━━━━━\u001b[0m \u001b[32m81.5/81.5 kB\u001b[0m \u001b[31m4.1 MB/s\u001b[0m eta \u001b[36m0:00:00\u001b[0m\n",
            "\u001b[?25h  Building wheel for wikipedia (setup.py) ... \u001b[?25l\u001b[?25hdone\n",
            "  Building wheel for sgmllib3k (setup.py) ... \u001b[?25l\u001b[?25hdone\n"
          ]
        }
      ]
    },
    {
      "cell_type": "markdown",
      "source": [
        "⚙️ Step 1 – Imports"
      ],
      "metadata": {
        "id": "87bgdFBUVijd"
      }
    },
    {
      "cell_type": "code",
      "source": [
        "import pandas as pd\n",
        "import wikipedia\n",
        "import yfinance as yf\n",
        "import feedparser\n",
        "import re\n",
        "from textblob import TextBlob\n",
        "import matplotlib.pyplot as plt\n",
        "from transformers import pipeline\n",
        "from newsapi import NewsApiClient"
      ],
      "metadata": {
        "id": "2Ar0tMXZVjZN"
      },
      "execution_count": 49,
      "outputs": []
    },
    {
      "cell_type": "code",
      "metadata": {
        "id": "e3918506"
      },
      "source": [
        "!pip install newsapi-python --quiet"
      ],
      "execution_count": 48,
      "outputs": []
    },
    {
      "cell_type": "code",
      "source": [
        "import plotly.express as px\n",
        "import plotly.graph_objects as go"
      ],
      "metadata": {
        "id": "NGp_Fk-COXzh"
      },
      "execution_count": 4,
      "outputs": []
    },
    {
      "cell_type": "markdown",
      "source": [
        "💬 Step 2 – Get User Input"
      ],
      "metadata": {
        "id": "noubEPDpXNcU"
      }
    },
    {
      "cell_type": "code",
      "source": [
        "company = input(\"Enter the company name: \").strip()\n",
        "print(f\"\\n📊 Analyzing data for: {company}\\n\")"
      ],
      "metadata": {
        "colab": {
          "base_uri": "https://localhost:8080/"
        },
        "id": "j4wE655cNHDz",
        "outputId": "bedfeebe-f9f6-4afe-dec4-27b06e8d77ac"
      },
      "execution_count": 50,
      "outputs": [
        {
          "output_type": "stream",
          "name": "stdout",
          "text": [
            "Enter the company name: netflix\n",
            "\n",
            "📊 Analyzing data for: netflix\n",
            "\n"
          ]
        }
      ]
    },
    {
      "cell_type": "markdown",
      "source": [
        "Fetch Summary from Wikipedia"
      ],
      "metadata": {
        "id": "vImGYmBHbUE5"
      }
    },
    {
      "cell_type": "code",
      "source": [
        "try:\n",
        "    # fetch the first 3 sentences of the summary\n",
        "    summary = wikipedia.summary(company, sentences=3)\n",
        "    print(f\"\\n📘 Wikipedia Summary for {company}:\\n\")\n",
        "    print(summary)\n",
        "except wikipedia.DisambiguationError as e:\n",
        "    print(\"⚠️ The name is ambiguous. Try one of these options:\")\n",
        "    print(e.options[:10])\n",
        "except wikipedia.PageError:\n",
        "    print(\"❌ No page found for that company name.\")\n",
        "except Exception as err:\n",
        "    print(\"⚠️ Unexpected error:\", err)\n",
        "\n",
        "\n",
        "# extra feature\n",
        "\n",
        "try:\n",
        "    page = wikipedia.page(company)\n",
        "    print(\"\\n🔗 URL:\", page.url)\n",
        "    print(\"\\n📑 Title:\", page.title)\n",
        "    print(\"\\n📝 First 500 characters:\\n\")\n",
        "    print(page.content[:500])\n",
        "except Exception as err:\n",
        "    print(\"⚠️ Could not fetch full page:\", err)\n",
        "\n"
      ],
      "metadata": {
        "colab": {
          "base_uri": "https://localhost:8080/"
        },
        "id": "cM2M5QM5bU_T",
        "outputId": "a16581a5-0ed8-4797-90e8-80689bdeac7b"
      },
      "execution_count": 51,
      "outputs": [
        {
          "output_type": "stream",
          "name": "stdout",
          "text": [
            "\n",
            "📘 Wikipedia Summary for netflix:\n",
            "\n",
            "Netflix is an American subscription video on-demand over-the-top streaming service. The service primarily distributes original and acquired films and television shows from various genres, and it is available internationally in multiple languages.\n",
            "Launched in 2007, nearly a decade after Netflix, Inc.\n",
            "\n",
            "🔗 URL: https://en.wikipedia.org/wiki/Netflix\n",
            "\n",
            "📑 Title: Netflix\n",
            "\n",
            "📝 First 500 characters:\n",
            "\n",
            "Netflix is an American subscription video on-demand over-the-top streaming service. The service primarily distributes original and acquired films and television shows from various genres, and it is available internationally in multiple languages.\n",
            "Launched in 2007, nearly a decade after Netflix, Inc. began its pioneering DVD-by-mail movie rental service, Netflix is the most-subscribed video on demand streaming media service, with 301.6 million paid memberships in more than 190 countries as of 202\n"
          ]
        }
      ]
    },
    {
      "cell_type": "code",
      "source": [
        "API_KEY = \"1e2314f549e24f26a8335db1186ce244\"\n",
        "newsapi = NewsApiClient(api_key=API_KEY)\n",
        "\n",
        "# --- Step 2: Ask for Company Name ---\n",
        "company = input(\"Enter company/topic name (e.g., Tesla, Infosys, Apple): \").strip()\n",
        "\n",
        "# --- Step 3: Fetch News Articles ---\n",
        "try:\n",
        "    articles = newsapi.get_everything(\n",
        "        q=company,\n",
        "        language='en',\n",
        "        sort_by='publishedAt',\n",
        "        page_size=25\n",
        "    )\n",
        "\n",
        "    # Check if any results returned\n",
        "    if not articles[\"articles\"]:\n",
        "        print(f\"⚠️ No news found for {company}. Try another keyword.\")\n",
        "    else:\n",
        "        # Create DataFrame\n",
        "        news_list = [\n",
        "            [a[\"title\"] + \" \" + (a[\"description\"] or \"\"), \"Google News\"]\n",
        "            for a in articles[\"articles\"]\n",
        "        ]\n",
        "        df_news = pd.DataFrame(news_list, columns=[\"text\", \"source\"])\n",
        "        print(f\"✅ News data fetched successfully for {company}! ({len(df_news)} articles)\\n\")\n",
        "\n",
        "        # --- Step 4: Display News ---\n",
        "        pd.set_option('display.max_colwidth', None)\n",
        "        display(df_news.head(10))\n",
        "\n",
        "except Exception as e:\n",
        "    print(f\"❌ Error fetching news: {e}\")"
      ],
      "metadata": {
        "colab": {
          "base_uri": "https://localhost:8080/",
          "height": 1021
        },
        "id": "UNpXDwHajngT",
        "outputId": "cf9f7658-dec5-4aa9-ef40-abdbbb3932e5"
      },
      "execution_count": 53,
      "outputs": [
        {
          "output_type": "stream",
          "name": "stdout",
          "text": [
            "Enter company/topic name (e.g., Tesla, Infosys, Apple): tesla\n",
            "✅ News data fetched successfully for tesla! (25 articles)\n",
            "\n"
          ]
        },
        {
          "output_type": "display_data",
          "data": {
            "text/plain": [
              "                                                                                                                                                                                                                                                                                                                                                                                          text  \\\n",
              "0                                            Altman touts trillion-dollar AI vision as OpenAI restructures to chase scale SAN FRANCISCO -Soon after ChatGPT was released to the public in late 2022, OpenAI CEO Sam Altman told employees they were on the cusp of a new technological revolution.    OpenAI could soon become \"the most important company in the history of Silicon Valley,\"…   \n",
              "1                                                                                                                      [Remanufactured]Ottocast Carplay Adapter $32.64 (a $49.50) Delivered @ Krse_19 eBay Remanufactured ✅ KEY FEATURES 2-in-1 Wireless CarPlay + HDMI Screen Mirroring Universal Compatibility Easy Plug & Play Includes HDMI to Type-C Cable  Excludes: Tesla, BMW, Honda …   \n",
              "2                                                   DeepSeek may have found a new way to improve AI’s ability to remember An AI model released by Chinese AI company DeepSeek uses new techniques that could significantly improve AI’s ability to “remember.” Released last week, the optical character recognition (OCR) model works by extracting text from an image and turning it into m…   \n",
              "3                                                                                                                                                                                                                                   Saudi Arabia is now a nation of city-dwellers, and ‘cities don’t lie,’ says urban development leader Also: All the news and watercooler chat from Fortune.   \n",
              "4  Preeti Jhangiani on 25 years of Mohabbatein: To be remembered as the ‘Mohabbatein girl’ is an honour I carry with love Preeti Jhangiani looks back on 25 years of Mohabbatein with nostalgia, calling it a film that defined youthful love and continues to live in people’s hearts. The actress says being remembered as the ‘Mohabbatein girl’ is an honour she carries with pride and g…   \n",
              "5                                                                                  Zodiac Signs that Never Show Gratitude Expressing gratitude is a vital personality trait, yet some individuals struggle to convey their appreciation. This article highlights two zodiac signs, Capricorn and Scorpio, who find it particularly difficult to say 'thank you' or offer words of appreciatio…   \n",
              "6                                                                                                                                                              Nato airspace: Can Baltic startups counter Russian drones? Europe News: What would happen if Russia sent hundreds of drones at once into Nato airspace?This nightly reality in Russia's war in Ukraine is a scenario the EU an.   \n",
              "7                                                                                                                                                                         The many mysterious meanings of black cats Environment News: It's the darkest time of the year. You're out walking, the sun has already gone down. Suddenly, out of the shadows, a black cat darts across your path.   \n",
              "8                           Little boy stuck in elevator prays to God and what happens next seems straight out of a dream A heartwarming viral video shows a young boy, trapped alone in an elevator, reciting a prayer for help. His innocent faith was met with a miraculous opening of the doors, inspiring viewers worldwide. The clip serves as a powerful reminder of the resilience of…   \n",
              "9                                                                                           Text messages told employees they had been laid off: How Amazon's job cuts unfolded According to people familiar with the matter, this rather unorthodox strategy of laying off employees was to ensure that people did not show up to work to find that their access badges no longer functioned.   \n",
              "\n",
              "        source  \n",
              "0  Google News  \n",
              "1  Google News  \n",
              "2  Google News  \n",
              "3  Google News  \n",
              "4  Google News  \n",
              "5  Google News  \n",
              "6  Google News  \n",
              "7  Google News  \n",
              "8  Google News  \n",
              "9  Google News  "
            ],
            "text/html": [
              "\n",
              "  <div id=\"df-b13df527-d081-4e65-b413-2bbe3b69ee9b\" class=\"colab-df-container\">\n",
              "    <div>\n",
              "<style scoped>\n",
              "    .dataframe tbody tr th:only-of-type {\n",
              "        vertical-align: middle;\n",
              "    }\n",
              "\n",
              "    .dataframe tbody tr th {\n",
              "        vertical-align: top;\n",
              "    }\n",
              "\n",
              "    .dataframe thead th {\n",
              "        text-align: right;\n",
              "    }\n",
              "</style>\n",
              "<table border=\"1\" class=\"dataframe\">\n",
              "  <thead>\n",
              "    <tr style=\"text-align: right;\">\n",
              "      <th></th>\n",
              "      <th>text</th>\n",
              "      <th>source</th>\n",
              "    </tr>\n",
              "  </thead>\n",
              "  <tbody>\n",
              "    <tr>\n",
              "      <th>0</th>\n",
              "      <td>Altman touts trillion-dollar AI vision as OpenAI restructures to chase scale SAN FRANCISCO -Soon after ChatGPT was released to the public in late 2022, OpenAI CEO Sam Altman told employees they were on the cusp of a new technological revolution.    OpenAI could soon become \"the most important company in the history of Silicon Valley,\"…</td>\n",
              "      <td>Google News</td>\n",
              "    </tr>\n",
              "    <tr>\n",
              "      <th>1</th>\n",
              "      <td>[Remanufactured]Ottocast Carplay Adapter $32.64 (a $49.50) Delivered @ Krse_19 eBay Remanufactured ✅ KEY FEATURES 2-in-1 Wireless CarPlay + HDMI Screen Mirroring Universal Compatibility Easy Plug &amp; Play Includes HDMI to Type-C Cable  Excludes: Tesla, BMW, Honda …</td>\n",
              "      <td>Google News</td>\n",
              "    </tr>\n",
              "    <tr>\n",
              "      <th>2</th>\n",
              "      <td>DeepSeek may have found a new way to improve AI’s ability to remember An AI model released by Chinese AI company DeepSeek uses new techniques that could significantly improve AI’s ability to “remember.” Released last week, the optical character recognition (OCR) model works by extracting text from an image and turning it into m…</td>\n",
              "      <td>Google News</td>\n",
              "    </tr>\n",
              "    <tr>\n",
              "      <th>3</th>\n",
              "      <td>Saudi Arabia is now a nation of city-dwellers, and ‘cities don’t lie,’ says urban development leader Also: All the news and watercooler chat from Fortune.</td>\n",
              "      <td>Google News</td>\n",
              "    </tr>\n",
              "    <tr>\n",
              "      <th>4</th>\n",
              "      <td>Preeti Jhangiani on 25 years of Mohabbatein: To be remembered as the ‘Mohabbatein girl’ is an honour I carry with love Preeti Jhangiani looks back on 25 years of Mohabbatein with nostalgia, calling it a film that defined youthful love and continues to live in people’s hearts. The actress says being remembered as the ‘Mohabbatein girl’ is an honour she carries with pride and g…</td>\n",
              "      <td>Google News</td>\n",
              "    </tr>\n",
              "    <tr>\n",
              "      <th>5</th>\n",
              "      <td>Zodiac Signs that Never Show Gratitude Expressing gratitude is a vital personality trait, yet some individuals struggle to convey their appreciation. This article highlights two zodiac signs, Capricorn and Scorpio, who find it particularly difficult to say 'thank you' or offer words of appreciatio…</td>\n",
              "      <td>Google News</td>\n",
              "    </tr>\n",
              "    <tr>\n",
              "      <th>6</th>\n",
              "      <td>Nato airspace: Can Baltic startups counter Russian drones? Europe News: What would happen if Russia sent hundreds of drones at once into Nato airspace?This nightly reality in Russia's war in Ukraine is a scenario the EU an.</td>\n",
              "      <td>Google News</td>\n",
              "    </tr>\n",
              "    <tr>\n",
              "      <th>7</th>\n",
              "      <td>The many mysterious meanings of black cats Environment News: It's the darkest time of the year. You're out walking, the sun has already gone down. Suddenly, out of the shadows, a black cat darts across your path.</td>\n",
              "      <td>Google News</td>\n",
              "    </tr>\n",
              "    <tr>\n",
              "      <th>8</th>\n",
              "      <td>Little boy stuck in elevator prays to God and what happens next seems straight out of a dream A heartwarming viral video shows a young boy, trapped alone in an elevator, reciting a prayer for help. His innocent faith was met with a miraculous opening of the doors, inspiring viewers worldwide. The clip serves as a powerful reminder of the resilience of…</td>\n",
              "      <td>Google News</td>\n",
              "    </tr>\n",
              "    <tr>\n",
              "      <th>9</th>\n",
              "      <td>Text messages told employees they had been laid off: How Amazon's job cuts unfolded According to people familiar with the matter, this rather unorthodox strategy of laying off employees was to ensure that people did not show up to work to find that their access badges no longer functioned.</td>\n",
              "      <td>Google News</td>\n",
              "    </tr>\n",
              "  </tbody>\n",
              "</table>\n",
              "</div>\n",
              "    <div class=\"colab-df-buttons\">\n",
              "\n",
              "  <div class=\"colab-df-container\">\n",
              "    <button class=\"colab-df-convert\" onclick=\"convertToInteractive('df-b13df527-d081-4e65-b413-2bbe3b69ee9b')\"\n",
              "            title=\"Convert this dataframe to an interactive table.\"\n",
              "            style=\"display:none;\">\n",
              "\n",
              "  <svg xmlns=\"http://www.w3.org/2000/svg\" height=\"24px\" viewBox=\"0 -960 960 960\">\n",
              "    <path d=\"M120-120v-720h720v720H120Zm60-500h600v-160H180v160Zm220 220h160v-160H400v160Zm0 220h160v-160H400v160ZM180-400h160v-160H180v160Zm440 0h160v-160H620v160ZM180-180h160v-160H180v160Zm440 0h160v-160H620v160Z\"/>\n",
              "  </svg>\n",
              "    </button>\n",
              "\n",
              "  <style>\n",
              "    .colab-df-container {\n",
              "      display:flex;\n",
              "      gap: 12px;\n",
              "    }\n",
              "\n",
              "    .colab-df-convert {\n",
              "      background-color: #E8F0FE;\n",
              "      border: none;\n",
              "      border-radius: 50%;\n",
              "      cursor: pointer;\n",
              "      display: none;\n",
              "      fill: #1967D2;\n",
              "      height: 32px;\n",
              "      padding: 0 0 0 0;\n",
              "      width: 32px;\n",
              "    }\n",
              "\n",
              "    .colab-df-convert:hover {\n",
              "      background-color: #E2EBFA;\n",
              "      box-shadow: 0px 1px 2px rgba(60, 64, 67, 0.3), 0px 1px 3px 1px rgba(60, 64, 67, 0.15);\n",
              "      fill: #174EA6;\n",
              "    }\n",
              "\n",
              "    .colab-df-buttons div {\n",
              "      margin-bottom: 4px;\n",
              "    }\n",
              "\n",
              "    [theme=dark] .colab-df-convert {\n",
              "      background-color: #3B4455;\n",
              "      fill: #D2E3FC;\n",
              "    }\n",
              "\n",
              "    [theme=dark] .colab-df-convert:hover {\n",
              "      background-color: #434B5C;\n",
              "      box-shadow: 0px 1px 3px 1px rgba(0, 0, 0, 0.15);\n",
              "      filter: drop-shadow(0px 1px 2px rgba(0, 0, 0, 0.3));\n",
              "      fill: #FFFFFF;\n",
              "    }\n",
              "  </style>\n",
              "\n",
              "    <script>\n",
              "      const buttonEl =\n",
              "        document.querySelector('#df-b13df527-d081-4e65-b413-2bbe3b69ee9b button.colab-df-convert');\n",
              "      buttonEl.style.display =\n",
              "        google.colab.kernel.accessAllowed ? 'block' : 'none';\n",
              "\n",
              "      async function convertToInteractive(key) {\n",
              "        const element = document.querySelector('#df-b13df527-d081-4e65-b413-2bbe3b69ee9b');\n",
              "        const dataTable =\n",
              "          await google.colab.kernel.invokeFunction('convertToInteractive',\n",
              "                                                    [key], {});\n",
              "        if (!dataTable) return;\n",
              "\n",
              "        const docLinkHtml = 'Like what you see? Visit the ' +\n",
              "          '<a target=\"_blank\" href=https://colab.research.google.com/notebooks/data_table.ipynb>data table notebook</a>'\n",
              "          + ' to learn more about interactive tables.';\n",
              "        element.innerHTML = '';\n",
              "        dataTable['output_type'] = 'display_data';\n",
              "        await google.colab.output.renderOutput(dataTable, element);\n",
              "        const docLink = document.createElement('div');\n",
              "        docLink.innerHTML = docLinkHtml;\n",
              "        element.appendChild(docLink);\n",
              "      }\n",
              "    </script>\n",
              "  </div>\n",
              "\n",
              "\n",
              "    <div id=\"df-a4f94fc4-02e3-4704-9857-d9a561dbe611\">\n",
              "      <button class=\"colab-df-quickchart\" onclick=\"quickchart('df-a4f94fc4-02e3-4704-9857-d9a561dbe611')\"\n",
              "                title=\"Suggest charts\"\n",
              "                style=\"display:none;\">\n",
              "\n",
              "<svg xmlns=\"http://www.w3.org/2000/svg\" height=\"24px\"viewBox=\"0 0 24 24\"\n",
              "     width=\"24px\">\n",
              "    <g>\n",
              "        <path d=\"M19 3H5c-1.1 0-2 .9-2 2v14c0 1.1.9 2 2 2h14c1.1 0 2-.9 2-2V5c0-1.1-.9-2-2-2zM9 17H7v-7h2v7zm4 0h-2V7h2v10zm4 0h-2v-4h2v4z\"/>\n",
              "    </g>\n",
              "</svg>\n",
              "      </button>\n",
              "\n",
              "<style>\n",
              "  .colab-df-quickchart {\n",
              "      --bg-color: #E8F0FE;\n",
              "      --fill-color: #1967D2;\n",
              "      --hover-bg-color: #E2EBFA;\n",
              "      --hover-fill-color: #174EA6;\n",
              "      --disabled-fill-color: #AAA;\n",
              "      --disabled-bg-color: #DDD;\n",
              "  }\n",
              "\n",
              "  [theme=dark] .colab-df-quickchart {\n",
              "      --bg-color: #3B4455;\n",
              "      --fill-color: #D2E3FC;\n",
              "      --hover-bg-color: #434B5C;\n",
              "      --hover-fill-color: #FFFFFF;\n",
              "      --disabled-bg-color: #3B4455;\n",
              "      --disabled-fill-color: #666;\n",
              "  }\n",
              "\n",
              "  .colab-df-quickchart {\n",
              "    background-color: var(--bg-color);\n",
              "    border: none;\n",
              "    border-radius: 50%;\n",
              "    cursor: pointer;\n",
              "    display: none;\n",
              "    fill: var(--fill-color);\n",
              "    height: 32px;\n",
              "    padding: 0;\n",
              "    width: 32px;\n",
              "  }\n",
              "\n",
              "  .colab-df-quickchart:hover {\n",
              "    background-color: var(--hover-bg-color);\n",
              "    box-shadow: 0 1px 2px rgba(60, 64, 67, 0.3), 0 1px 3px 1px rgba(60, 64, 67, 0.15);\n",
              "    fill: var(--button-hover-fill-color);\n",
              "  }\n",
              "\n",
              "  .colab-df-quickchart-complete:disabled,\n",
              "  .colab-df-quickchart-complete:disabled:hover {\n",
              "    background-color: var(--disabled-bg-color);\n",
              "    fill: var(--disabled-fill-color);\n",
              "    box-shadow: none;\n",
              "  }\n",
              "\n",
              "  .colab-df-spinner {\n",
              "    border: 2px solid var(--fill-color);\n",
              "    border-color: transparent;\n",
              "    border-bottom-color: var(--fill-color);\n",
              "    animation:\n",
              "      spin 1s steps(1) infinite;\n",
              "  }\n",
              "\n",
              "  @keyframes spin {\n",
              "    0% {\n",
              "      border-color: transparent;\n",
              "      border-bottom-color: var(--fill-color);\n",
              "      border-left-color: var(--fill-color);\n",
              "    }\n",
              "    20% {\n",
              "      border-color: transparent;\n",
              "      border-left-color: var(--fill-color);\n",
              "      border-top-color: var(--fill-color);\n",
              "    }\n",
              "    30% {\n",
              "      border-color: transparent;\n",
              "      border-left-color: var(--fill-color);\n",
              "      border-top-color: var(--fill-color);\n",
              "      border-right-color: var(--fill-color);\n",
              "    }\n",
              "    40% {\n",
              "      border-color: transparent;\n",
              "      border-right-color: var(--fill-color);\n",
              "      border-top-color: var(--fill-color);\n",
              "    }\n",
              "    60% {\n",
              "      border-color: transparent;\n",
              "      border-right-color: var(--fill-color);\n",
              "    }\n",
              "    80% {\n",
              "      border-color: transparent;\n",
              "      border-right-color: var(--fill-color);\n",
              "      border-bottom-color: var(--fill-color);\n",
              "    }\n",
              "    90% {\n",
              "      border-color: transparent;\n",
              "      border-bottom-color: var(--fill-color);\n",
              "    }\n",
              "  }\n",
              "</style>\n",
              "\n",
              "      <script>\n",
              "        async function quickchart(key) {\n",
              "          const quickchartButtonEl =\n",
              "            document.querySelector('#' + key + ' button');\n",
              "          quickchartButtonEl.disabled = true;  // To prevent multiple clicks.\n",
              "          quickchartButtonEl.classList.add('colab-df-spinner');\n",
              "          try {\n",
              "            const charts = await google.colab.kernel.invokeFunction(\n",
              "                'suggestCharts', [key], {});\n",
              "          } catch (error) {\n",
              "            console.error('Error during call to suggestCharts:', error);\n",
              "          }\n",
              "          quickchartButtonEl.classList.remove('colab-df-spinner');\n",
              "          quickchartButtonEl.classList.add('colab-df-quickchart-complete');\n",
              "        }\n",
              "        (() => {\n",
              "          let quickchartButtonEl =\n",
              "            document.querySelector('#df-a4f94fc4-02e3-4704-9857-d9a561dbe611 button');\n",
              "          quickchartButtonEl.style.display =\n",
              "            google.colab.kernel.accessAllowed ? 'block' : 'none';\n",
              "        })();\n",
              "      </script>\n",
              "    </div>\n",
              "\n",
              "    </div>\n",
              "  </div>\n"
            ],
            "application/vnd.google.colaboratory.intrinsic+json": {
              "type": "dataframe",
              "summary": "{\n  \"name\": \"    print(f\\\"\\u274c Error fetching news: {e}\\\")\",\n  \"rows\": 10,\n  \"fields\": [\n    {\n      \"column\": \"text\",\n      \"properties\": {\n        \"dtype\": \"string\",\n        \"num_unique_values\": 10,\n        \"samples\": [\n          \"Little boy stuck in elevator prays to God and what happens next seems straight out of a dream A heartwarming viral video shows a young boy, trapped alone in an elevator, reciting a prayer for help. His innocent faith was met with a miraculous opening of the doors, inspiring viewers worldwide. The clip serves as a powerful reminder of the resilience of\\u2026\",\n          \"[Remanufactured]Ottocast Carplay Adapter $32.64 (a $49.50) Delivered @ Krse_19 eBay Remanufactured \\u2705 KEY FEATURES 2-in-1 Wireless CarPlay + HDMI Screen Mirroring Universal Compatibility Easy Plug & Play Includes HDMI to Type-C Cable  Excludes: Tesla, BMW, Honda \\u2026\",\n          \"Zodiac Signs that Never Show Gratitude Expressing gratitude is a vital personality trait, yet some individuals struggle to convey their appreciation. This article highlights two zodiac signs, Capricorn and Scorpio, who find it particularly difficult to say 'thank you' or offer words of appreciatio\\u2026\"\n        ],\n        \"semantic_type\": \"\",\n        \"description\": \"\"\n      }\n    },\n    {\n      \"column\": \"source\",\n      \"properties\": {\n        \"dtype\": \"category\",\n        \"num_unique_values\": 1,\n        \"samples\": [\n          \"Google News\"\n        ],\n        \"semantic_type\": \"\",\n        \"description\": \"\"\n      }\n    }\n  ]\n}"
            }
          },
          "metadata": {}
        },
        {
          "output_type": "stream",
          "name": "stdout",
          "text": [
            "No charts were generated by quickchart\n"
          ]
        },
        {
          "output_type": "display_data",
          "data": {
            "text/plain": [
              "<google.colab._quickchart_helpers.SectionTitle at 0x7994a551fa40>"
            ],
            "text/html": [
              "<h4 class=\"colab-quickchart-section-title\">Distributions</h4>\n",
              "<style>\n",
              "  .colab-quickchart-section-title {\n",
              "      clear: both;\n",
              "  }\n",
              "</style>"
            ]
          },
          "metadata": {}
        },
        {
          "output_type": "display_data",
          "data": {
            "text/plain": [
              "from matplotlib import pyplot as plt\n",
              "_df_0['index'].plot(kind='hist', bins=20, title='index')\n",
              "plt.gca().spines[['top', 'right',]].set_visible(False)"
            ],
            "text/html": [
              "      <div class=\"colab-quickchart-chart-with-code\" id=\"chart-8a3967f9-8fe3-4eb6-accc-73adcec9140b\">\n",
              "        <img style=\"width: 180px;\" src=\"data:image/png;base64,iVBORw0KGgoAAAANSUhEUgAAAioAAAGrCAYAAADuNLxTAAAAOnRFWHRTb2Z0d2FyZQBNYXRwbG90\n",
              "bGliIHZlcnNpb24zLjEwLjAsIGh0dHBzOi8vbWF0cGxvdGxpYi5vcmcvlHJYcgAAAAlwSFlzAAAP\n",
              "YQAAD2EBqD+naQAAHeFJREFUeJzt3X+QVfV9//HXhU02iYr4AwK6rEZhURMVMVAGrDUyTjWNaMHp\n",
              "REMCrfzQprUZnGqIsUVNhKRtGmsmdRWHapgaHaAp1RinRk00QQFjDGIUUNddDYrVkbWNru6y3z+c\n",
              "7Df7Rfp1yV7uZ+XxmDkze89+9vC+c7POM+eevafS3d3dHQCAAg2q9QAAALsiVACAYgkVAKBYQgUA\n",
              "KJZQAQCKJVQAgGIJFQCgWEIFACiWUAEAiiVUgKo544wzctVVV+32z5900klZtGhR/w0EDDh1tR4A\n",
              "eO+68847az0CMMA5owIAFEuoAFVzyimn5Mtf/nKSpFKp5Nprr82UKVOy77775thjj80DDzzQs7az\n",
              "szOXXHJJRowYkWHDhmXhwoU7He/555/Peeedl0MPPTTDhw/Pueeem5deeilJct9992WfffbJunXr\n",
              "kiTd3d35oz/6o5x55plx71UYuIQKsMcsXbo0N910U1599dVMnTo1n/nMZ3q+9/Wvfz233XZb7rnn\n",
              "njz33HOpq6vLQw891PP9jo6OTJ06NYccckg2bdqUp59+OnV1dTnvvPOSvB1FixYtyjnnnJOXX345\n",
              "V111VZ544ol85zvfSaVS2ePPFegfQgXYYy6++OKMHj06dXV1mTt3blpbW/Piiy8mSZYtW5aLL744\n",
              "xxxzTOrr67No0aIccMABPT97xx135LXXXsvf/d3fZZ999sm+++6bJUuW5O67785zzz2XJPnrv/7r\n",
              "TJgwIVOnTs3Xv/71rFy5MkOHDq3FUwX6iYtpgT3mkEMO6fl6n332SZK89tpr+fCHP5znnnsuH/nI\n",
              "R3q+P3jw4DQ2NvY83rx5c1588cVe8ZIk9fX1aW1tTUNDQ5JkwYIFmTJlSs4999yMGzeuis8G2BOE\n",
              "ClCEhoaGtLS09Dzu6upKW1tbz+MRI0bksMMOy1NPPbXLY2zfvj2zZs3K+eefn9tuuy3/8R//kTPP\n",
              "PLOaYwNV5q0foAizZs3KP/zDP+SJJ55IR0dHrrzyyrzyyis9358+fXreeuutXH755dm+fXuSZNu2\n",
              "bbn11luTvH3x7KxZszJ27NjccMMNaW5uzuc+97k8/fTTNXk+QP8QKkARLr300kyfPj1/8Ad/kIaG\n",
              "hrz55pv5vd/7vZ7v77ffflmzZk1aW1tz7LHHZsiQIZk8eXJ+/OMfJ0m+9rWv5Re/+EXPxbPnnntu\n",
              "Zs6cmRkzZuT111+v1dMCfkeVbn+3BwAUyhkVAKBYQgUAKJZQAQCKJVQAgGIJFQCgWEIFACiWUAEA\n",
              "ivWeCJVrrrmm1iMAAFXwngiVZ599ttYjAABV8J4IFQDgvUmoAADFEioAQLGECgBQLKECABRLqAAA\n",
              "xRIqAECxhAoAUCyhAgAUS6gAAMUSKgBAsYQKAFCsqobKRRddlMMPPzyVSiU///nPd7nuxhtvzJgx\n",
              "Y3LkkUdm7ty5eeutt6o5FgAwQFQ1VM4555w88MADOeyww3a55plnnsnll1+e+++/P1u2bMmLL76Y\n",
              "66+/vppjAQADRFVD5eSTT05DQ8P/umbFihWZNm1aRowYkUqlkgsuuCC33HLLLtd3dHSkvb2919bV\n",
              "1dXfowMABair9QCtra29zrgcfvjhaW1t3eX6xYsX54orrui1b9KkSVWZ7fAv3lGV4yZJy5I/qspx\n",
              "B+LMSfXmNnNvA3HmahmIvysDceZkYP7vzsz/V61/vwfcxbQLFy7M9u3be20TJ06s9VgAQBXU/IxK\n",
              "Y2NjnnrqqZ7HLS0taWxs3OX6+vr61NfX99o3ePDgqs0HANROzc+ozJgxI6tXr84LL7yQ7u7uXHfd\n",
              "dfn0pz9d67EAgAJUNVTmz5+fhoaGPPfcc/nDP/zDjB49OkkyZ86crF69OklyxBFH5IorrsiUKVMy\n",
              "evToDBs2LPPnz6/mWADAAFHVt36am5vfcf/SpUt7PZ47d27mzp1bzVEAgAGo5m/9AADsilABAIol\n",
              "VACAYgkVAKBYQgUAKJZQAQCKJVQAgGIJFQCgWEIFACiWUAEAiiVUAIBiCRUAoFhCBQAollABAIol\n",
              "VACAYgkVAKBYQgUAKJZQAQCKJVQAgGIJFQCgWEIFACiWUAEAiiVUAIBiCRUAoFhCBQAollABAIol\n",
              "VACAYgkVAKBYQgUAKJZQAQCKJVQAgGIJFQCgWEIFACiWUAEAiiVUAIBiCRUAoFhCBQAollABAIol\n",
              "VACAYgkVAKBYQgUAKJZQAQCKJVQAgGIJFQCgWEIFACiWUAEAiiVUAIBiCRUAoFhCBQAollABAIol\n",
              "VACAYgkVAKBYQgUAKJZQAQCKJVQAgGIJFQCgWEIFACiWUAEAiiVUAIBiCRUAoFhCBQAoVlVDZfPm\n",
              "zZk8eXKampoyYcKEbNy4cac1O3bsyIIFC3LMMcfkuOOOyyc+8Yls2bKlmmMBAANEVUNl/vz5mTdv\n",
              "XjZt2pRLL700s2fP3mnN6tWr85Of/CSPPvpofvGLX2Tq1Kn50pe+VM2xAIABomqhsm3btqxfvz4z\n",
              "Z85MksyYMSNtbW07nS2pVCrp6OjIG2+8ke7u7rS3t6ehoaFaYwEAA0hdtQ7c1taWkSNHpq7u7X+i\n",
              "UqmksbExra2tGT16dM+6M888M/fee29GjBiR/fbbL4ceemh+9KMf7fK4HR0d6ejo6LWvq6urOk8C\n",
              "AKipml9Mu379+jz22GN5/vnn86tf/SpTp07NBRdcsMv1ixcvzv77799rW7t27R6cGADYU6oWKqNG\n",
              "jcrWrVvT2dmZJOnu7k5ra2saGxt7rbv55ptz6qmnZujQoRk0aFBmzZqVe++9d5fHXbhwYbZv395r\n",
              "mzhxYrWeBgBQQ1ULleHDh2f8+PFZvnx5kmTlypVpaGjo9bZPkhxxxBG555578uabbyZJbr/99nzs\n",
              "Yx/b5XHr6+szZMiQXtvgwYOr9TQAgBqq2jUqSdLc3JzZs2fn6quvzpAhQ7Js2bIkyZw5czJt2rRM\n",
              "mzYtn//85/PLX/4yxx9/fN73vvdlxIgRue6666o5FgAwQFQ1VMaOHZs1a9bstH/p0qU9X9fX1+eG\n",
              "G26o5hgAwABV84tpAQB2RagAAMUSKgBAsYQKAFAsoQIAFEuoAADFEioAQLGECgBQLKECABRLqAAA\n",
              "xRIqAECxhAoAUCyhAgAUS6gAAMUSKgBAsYQKAFAsoQIAFEuoAADFEioAQLGECgBQLKECABRLqAAA\n",
              "xRIqAECxhAoAUCyhAgAUS6gAAMUSKgBAsYQKAFAsoQIAFEuoAADFEioAQLGECgBQLKECABRLqAAA\n",
              "xRIqAECxhAoAUCyhAgAUS6gAAMUSKgBAsYQKAFAsoQIAFEuoAADFEioAQLGECgBQLKECABRLqAAA\n",
              "xRIqAECxhAoAUCyhAgAUS6gAAMUSKgBAsYQKAFAsoQIAFEuoAADFEioAQLGECgBQLKECABRLqAAA\n",
              "xRIqAECxhAoAUCyhAgAUS6gAAMWqaqhs3rw5kydPTlNTUyZMmJCNGze+47oNGzbklFNOydFHH52j\n",
              "jz46q1atquZYAMAAUVfNg8+fPz/z5s3L7Nmzs2LFisyePTvr1q3rtebXv/51zjrrrNx888056aST\n",
              "0tXVlVdeeaWaYwEAA0TVzqhs27Yt69evz8yZM5MkM2bMSFtbW7Zs2dJr3b/+679m0qRJOemkk5Ik\n",
              "gwcPzrBhw3Z53I6OjrS3t/faurq6qvU0AIAaqlqotLW1ZeTIkamre/ukTaVSSWNjY1pbW3ute/zx\n",
              "x1NfX59PfepTGTduXD73uc/lpZde2uVxFy9enP3337/Xtnbt2mo9DQCghvocKnfddVe/DtDZ2Zm7\n",
              "7747zc3NeeSRR3LooYfmwgsv3OX6hQsXZvv27b22iRMn9utMAEAZ+hwqV155ZcaOHZtrrrkm7e3t\n",
              "u1w3atSobN26NZ2dnUmS7u7utLa2prGxsde6xsbGfOITn8ihhx6aSqWSmTNn5sEHH9zlcevr6zNk\n",
              "yJBe2+DBg/v6NACAAaDPofKTn/wk3/3ud/PYY4+lqakpf/7nf57HH398p3XDhw/P+PHjs3z58iTJ\n",
              "ypUr09DQkNGjR/da9yd/8idZt25dT/R8//vfz/HHH787zwUAeI/ZrWtUTjjhhNxwww35wQ9+kNtv\n",
              "vz3HHXdcTjvttGzYsKHXuubm5jQ3N6epqSlLlizJsmXLkiRz5szJ6tWrk7x9RuVLX/pSJk+enOOO\n",
              "Oy733HNPrrvuut/xaQEA7wW79efJd999d6699tps2LAhn//853P++efnvvvuyx//8R/3+quesWPH\n",
              "Zs2aNTv9/NKlS3s9/uxnP5vPfvazuzMKAPAe1udQOfroo3PwwQfnoosuyvTp03uuDznnnHNy4403\n",
              "9vuAAMDeq8+hsnz58px44onv+L0777zzdx4IAOA3+nyNysMPP9zrk2Nffvnl3HDDDf06FABAshuh\n",
              "8u1vfzsHHnhgz+ODDjoo3/72t/t1KACAZDdCpbu7e6d9PsIeAKiGPofKyJEjc9ttt/U8vvXWWzNy\n",
              "5Mh+HQoAINmNi2m/+c1v5qyzzsoll1ySJPnQhz6Uf//3f+/3wQAA+hwqRx11VB5//PE8+eSTSd7+\n",
              "rBQfYQ8AVMNufeBbpVLJ0KFD09nZmeeffz5JdrqHDwDA76rPofIv//Ivueiii/K+970vgwa9fYlL\n",
              "pVLJtm3b+n04AGDv1udQueqqq7Ju3bqMHTu2GvMAAPTo81/9HHzwwSIFANgj+hwqZ599dr75zW9m\n",
              "27ZtaW9v79kAAPpbn9/6ueyyy5IkCxYsSKVSSXd3dyqVig99AwD6XZ9DZceOHdWYAwBgJ31+6yd5\n",
              "+8aE3/nOd5Ikr776arZu3dqvQwEAJLt5U8I/+7M/y6JFi5K8fffk8847r7/nAgDoe6hcf/31efDB\n",
              "BzNkyJAkyZFHHpmXXnqp3wcDAOhzqNTX1+eDH/xgr311dbv1AbcAAP+rPofKsGHDsmnTplQqlSRv\n",
              "f1Ktj88HAKpht+6efO655+aJJ57IqFGjMmTIkNx+++3VmA0A2Mv1OVRGjx6dhx56KE8++WS6u7vd\n",
              "PRkAqJo+h0pra2uSZJ999kkSd08GAKqmz6Fy4okn9nwi7RtvvJFf//rXOeigg9w9GQDod30Olf/3\n",
              "T5FXrVqVRx99tN8GAgD4jd36ZNrfNn369Nxxxx39MQsAQC99PqPy23dK7urqykMPPeTuyQBAVfQ5\n",
              "VIYOHdpzjcrgwYMzZsyY/NM//VM1ZgMA9nLungwAFOt3vkYFAKBa+nxGZdCgQT0fn//buru7U6lU\n",
              "0tXV1S+DAQD0OVSuvPLKvP7667nwwguTJNddd10++MEP5gtf+EJ/zwYA7OX6HCr/9m//locffrjn\n",
              "8Ve+8pWceOKJueyyy/p1MACAPl+j8tprr/X6FNpt27bltdde69ehAACS3TijcvHFF+f444/PJz/5\n",
              "ySTJD37wgyxatKi/5wIA6HuozJ8/P1OmTMm9996bJFmwYEE++tGP9vtgAAB9DpUkOeigg3Lsscfm\n",
              "lFNOSWdnZ9588828//3v7+/ZAIC9XJ+vUVmxYkUmTZqUP/3TP02SbNy4MWeffXZ/zwUA0PdQWbx4\n",
              "cX72s59l6NChSZLjjz8+zz77bH/PBQDQ91AZPHhwDjrooF77vO0DAFRDn0Nlv/32y4svvtjz6bQ/\n",
              "/OEPc+CBB/b7YAAAfb6Y9mtf+1rOOOOMPP300znppJPyzDPP5I477qjGbADAXq5PobJjx450dXXl\n",
              "3nvvzU9/+tN0d3dn8uTJPderAAD0pz6FyqBBgzJv3rw8+uijOeOMM6o1EwBAkt24RmXMmDHZsmVL\n",
              "NWYBAOilz9eovPLKKxk3blwmT56cfffdt2f/qlWr+nUwAIB3HSrz5s3L9ddfn1mzZmXatGk54IAD\n",
              "qjkXAMC7D5X169cnSWbNmpXx48fnZz/7WdWGAgBIduMalSTp7u7u7zkAAHbyrs+ovP7669mwYUO6\n",
              "u7vzxhtv9Hz9G8cdd1xVBgQA9l59CpVp06b1PP7tryuVSp5++un+nQwA2Ou961BpaWmp4hgAADvb\n",
              "rWtUAAD2BKECABRLqAAAxRIqAECxhAoAUCyhAgAUS6gAAMUSKgBAsYQKAFCsqobK5s2bM3ny5DQ1\n",
              "NWXChAnZuHHjLtd2d3fn1FNPzdChQ6s5EgAwgFQ1VObPn5958+Zl06ZNufTSSzN79uxdrv3Hf/zH\n",
              "HHnkkdUcBwAYYKoWKtu2bcv69eszc+bMJMmMGTPS1taWLVu27LR248aN+d73vpcvfvGL/9/jdnR0\n",
              "pL29vdfW1dXV7/MDALVXtVBpa2vLyJEjU1f39n0PK5VKGhsb09ra2mvdW2+9lblz56a5uTmDBw/+\n",
              "/x538eLF2X///Xtta9eurcpzAABqq+YX015xxRWZPn16jj766He1fuHChdm+fXuvbeLEiVWeEgCo\n",
              "hbpqHXjUqFHZunVrOjs7U1dXl+7u7rS2tqaxsbHXuh/96EdpbW3Nt771rXR2dqa9vT2HH3541q1b\n",
              "l2HDhu103Pr6+tTX1/fa927OxAAAA0/VzqgMHz4848ePz/Lly5MkK1euTENDQ0aPHt1r3f33359n\n",
              "n302LS0teeCBBzJkyJC0tLS8Y6QAAHuXqr7109zcnObm5jQ1NWXJkiVZtmxZkmTOnDlZvXp1Nf9p\n",
              "AOA9oGpv/STJ2LFjs2bNmp32L1269B3XH3744Xn11VerORIAMIDU/GJaAIBdESoAQLGECgBQLKEC\n",
              "ABRLqAAAxRIqAECxhAoAUCyhAgAUS6gAAMUSKgBAsYQKAFAsoQIAFEuoAADFEioAQLGECgBQLKEC\n",
              "ABRLqAAAxRIqAECxhAoAUCyhAgAUS6gAAMUSKgBAsYQKAFAsoQIAFEuoAADFEioAQLGECgBQLKEC\n",
              "ABRLqAAAxRIqAECxhAoAUCyhAgAUS6gAAMUSKgBAsYQKAFAsoQIAFEuoAADFEioAQLGECgBQLKEC\n",
              "ABRLqAAAxRIqAECxhAoAUCyhAgAUS6gAAMUSKgBAsYQKAFAsoQIAFEuoAADFEioAQLGECgBQLKEC\n",
              "ABRLqAAAxRIqAECxhAoAUCyhAgAUS6gAAMUSKgBAsYQKAFAsoQIAFEuoAADFEioAQLGqGiqbN2/O\n",
              "5MmT09TUlAkTJmTjxo07rbnnnnsyceLEHHPMMfnoRz+aSy65JDt27KjmWADAAFHVUJk/f37mzZuX\n",
              "TZs25dJLL83s2bN3WnPAAQfku9/9bh5//PE8/PDD+elPf5qbb765mmMBAANE1UJl27ZtWb9+fWbO\n",
              "nJkkmTFjRtra2rJly5Ze60444YQcccQRSZIPfOADGTduXFpaWnZ53I6OjrS3t/faurq6qvU0AIAa\n",
              "qlqotLW1ZeTIkamrq0uSVCqVNDY2prW1dZc/88ILL2TFihX51Kc+tcs1ixcvzv77799rW7t2bb/P\n",
              "DwDUXjEX07a3t+fMM8/MJZdcko9//OO7XLdw4cJs37691zZx4sQ9OCkAsKfUVevAo0aNytatW9PZ\n",
              "2Zm6urp0d3entbU1jY2NO6197bXXcvrpp+ess87KggUL/tfj1tfXp76+vte+wYMH9+vsAEAZqnZG\n",
              "Zfjw4Rk/fnyWL1+eJFm5cmUaGhoyevToXuv++7//O6effnpOP/30fPnLX67WOADAAFTVt36am5vT\n",
              "3NycpqamLFmyJMuWLUuSzJkzJ6tXr06SXHPNNVm7dm1WrVqVcePGZdy4cfnqV79azbEAgAGiam/9\n",
              "JMnYsWOzZs2anfYvXbq05+vLLrssl112WTXHAAAGqGIupgUA+H8JFQCgWEIFACiWUAEAiiVUAIBi\n",
              "CRUAoFhCBQAollABAIolVACAYgkVAKBYQgUAKJZQAQCKJVQAgGIJFQCgWEIFACiWUAEAiiVUAIBi\n",
              "CRUAoFhCBQAollABAIolVACAYgkVAKBYQgUAKJZQAQCKJVQAgGIJFQCgWEIFACiWUAEAiiVUAIBi\n",
              "CRUAoFhCBQAollABAIolVACAYgkVAKBYQgUAKJZQAQCKJVQAgGIJFQCgWEIFACiWUAEAiiVUAIBi\n",
              "CRUAoFhCBQAollABAIolVACAYgkVAKBYQgUAKJZQAQCKJVQAgGIJFQCgWEIFACiWUAEAiiVUAIBi\n",
              "CRUAoFhCBQAollABAIolVACAYgkVAKBYQgUAKJZQAQCKJVQAgGJVNVQ2b96cyZMnp6mpKRMmTMjG\n",
              "jRvfcd2NN96YMWPG5Mgjj8zcuXPz1ltvVXMsAGCAqGqozJ8/P/PmzcumTZty6aWXZvbs2TuteeaZ\n",
              "Z3L55Zfn/vvvz5YtW/Liiy/m+uuvr+ZYAMAAUbVQ2bZtW9avX5+ZM2cmSWbMmJG2trZs2bKl17oV\n",
              "K1Zk2rRpGTFiRCqVSi644ILccsstuzxuR0dH2tvbe21dXV3VehoAQA1Vuru7u6tx4IcffjjnnXde\n",
              "nnzyyZ59EydOzJIlS3Lqqaf27PvLv/zLHHLIIVm4cGGS5PHHH8/pp5+e1tbWdzzuokWLcsUVV/Ta\n",
              "d9RRR+WMM87o1/m7urqydu3aTJw4MYMHD+7XY7N7vCZl8XqUxetRFq/Hu3PYYYflr/7qr/7XNXV7\n",
              "aJZ+s3DhwixYsKDXvvr6+tTX1/frv9Pe3p79998/d911V4YMGdKvx2b3eE3K4vUoi9ejLF6P/lO1\n",
              "UBk1alS2bt2azs7O1NXVpbu7O62trWlsbOy1rrGxMU899VTP45aWlp3W/LZqRAkAUKaqXaMyfPjw\n",
              "jB8/PsuXL0+SrFy5Mg0NDRk9enSvdTNmzMjq1avzwgsvpLu7O9ddd10+/elPV2ssAGAAqepf/TQ3\n",
              "N6e5uTlNTU1ZsmRJli1bliSZM2dOVq9enSQ54ogjcsUVV2TKlCkZPXp0hg0blvnz51dzLABggKjq\n",
              "NSpjx47NmjVrdtq/dOnSXo/nzp2buXPnVnOUPquvr8/f/u3fepupIF6Tsng9yuL1KIvXo/9U7a9+\n",
              "AAB+Vz5CHwAollABAIolVACAYgkVAKBYQmUX3u2dn6m+N954I2effXaamppy/PHH57TTTtvpnlHU\n",
              "xrJly1KpVPK9732v1qPs1To6OvIXf/EXGTNmTI499tiee6xRG9///vczfvz4jBs3Lh/72Mdy0003\n",
              "1XqkAW3AfYT+nvKbOz/Pnj07K1asyOzZs7Nu3bpaj7XXmjdvXs4444xUKpV861vfypw5c3LffffV\n",
              "eqy9WktLS2644YZMmjSp1qPs9b74xS+mUqlk06ZNqVQqeeGFF2o90l6ru7s7M2fOzH333Zfjjjsu\n",
              "LS0tOeqoozJ9+vTst99+tR5vQHJG5R282zs/s2d84AMfyCc/+clUKpUkyaRJk9LS0lLbofZyO3bs\n",
              "yJw5c3Lttdf6nIga+5//+Z/ceOON+epXv9rzOzJixIgaT7V3q1QqefXVV5O8fc+fgw46yO/J70Co\n",
              "vIO2traMHDkydXVvn3CqVCppbGzc5R2d2bOuueaanHXWWbUeY6/2jW98I1OmTMmJJ55Y61H2ek89\n",
              "9VQOPPDAXH311fn4xz+e3//9388Pf/jDWo+116pUKrn11lszffr0HHbYYTnppJNy00035f3vf3+t\n",
              "RxuwvPXDgHL11Vdny5Yt/kNcQ4899lhWrlyZH//4x7UehSSdnZ159tlnc8wxx2TJkiV55JFHctpp\n",
              "p2Xjxo358Ic/XOvx9jqdnZ35yle+klWrVuXkk0/OunXrMm3atGzYsCEHH3xwrccbkJxReQe/fefn\n",
              "JLu88zN71t///d9n1apVufPOO/OhD32o1uPste6///60tLRkzJgxOfzww/Pggw9m3rx5+ed//uda\n",
              "j7ZXamxszKBBg/KZz3wmSXLCCSfkIx/5SDZs2FDjyfZOP//5z/OrX/0qJ598cpJkwoQJaWhoyCOP\n",
              "PFLjyQYuofIO3u2dn9lzvvGNb+SWW27Jf/7nf2bo0KG1HmevduGFF2br1q1paWlJS0tLJk2alOuv\n",
              "vz4XXnhhrUfbKx188MGZOnVq7rrrriTJM888k2eeeSZHH310jSfbO/3m/+j+8pe/TJJs2bIlTz31\n",
              "VMaOHVvjyQYu9/rZhSeffDKzZ8/Oyy+/nCFDhmTZsmU59thjaz3WXum5557LqFGjcsQRR/RcNV9f\n",
              "X5+HHnqoxpORJKecckq+8IUv5Oyzz671KHutp59+Oueff37+67/+K4MGDcrf/M3fZMaMGbUea691\n",
              "yy235Oqrr86gQYOyY8eOLFy4MOedd16txxqwhAoAUCxv/QAAxRIqAECxhAoAUCyhAgAUS6gAAMUS\n",
              "KgBAsYQKAFAsoQIAFEuoAADFEioAQLH+D5l5lqn4vZQ9AAAAAElFTkSuQmCC\n",
              "\">\n",
              "      </div>\n",
              "      <script type=\"text/javascript\">\n",
              "        (() => {\n",
              "          const chartElement = document.getElementById(\"chart-8a3967f9-8fe3-4eb6-accc-73adcec9140b\");\n",
              "          async function getCodeForChartHandler(event) {\n",
              "            const chartCodeResponse =  await google.colab.kernel.invokeFunction(\n",
              "                'getCodeForChart', [\"chart-8a3967f9-8fe3-4eb6-accc-73adcec9140b\"], {});\n",
              "            const responseJson = chartCodeResponse.data['application/json'];\n",
              "            await google.colab.notebook.addCell(responseJson.code, 'code');\n",
              "          }\n",
              "          chartElement.onclick = getCodeForChartHandler;\n",
              "        })();\n",
              "      </script>\n",
              "      <style>\n",
              "        .colab-quickchart-chart-with-code  {\n",
              "            display: block;\n",
              "            float: left;\n",
              "            border: 1px solid transparent;\n",
              "        }\n",
              "\n",
              "        .colab-quickchart-chart-with-code:hover {\n",
              "            cursor: pointer;\n",
              "            border: 1px solid #aaa;\n",
              "        }\n",
              "      </style>"
            ]
          },
          "metadata": {}
        },
        {
          "output_type": "display_data",
          "data": {
            "text/plain": [
              "<google.colab._quickchart_helpers.SectionTitle at 0x799438bdb470>"
            ],
            "text/html": [
              "<h4 class=\"colab-quickchart-section-title\">Time series</h4>\n",
              "<style>\n",
              "  .colab-quickchart-section-title {\n",
              "      clear: both;\n",
              "  }\n",
              "</style>"
            ]
          },
          "metadata": {}
        },
        {
          "output_type": "display_data",
          "data": {
            "text/plain": [
              "from matplotlib import pyplot as plt\n",
              "import seaborn as sns\n",
              "def _plot_series(series, series_name, series_index=0):\n",
              "  palette = list(sns.palettes.mpl_palette('Dark2'))\n",
              "  counted = (series['index']\n",
              "                .value_counts()\n",
              "              .reset_index(name='counts')\n",
              "              .rename({'index': 'index'}, axis=1)\n",
              "              .sort_values('index', ascending=True))\n",
              "  xs = counted['index']\n",
              "  ys = counted['counts']\n",
              "  plt.plot(xs, ys, label=series_name, color=palette[series_index % len(palette)])\n",
              "\n",
              "fig, ax = plt.subplots(figsize=(10, 5.2), layout='constrained')\n",
              "df_sorted = _df_1.sort_values('index', ascending=True)\n",
              "_plot_series(df_sorted, '')\n",
              "sns.despine(fig=fig, ax=ax)\n",
              "plt.xlabel('index')\n",
              "_ = plt.ylabel('count()')"
            ],
            "text/html": [
              "      <div class=\"colab-quickchart-chart-with-code\" id=\"chart-b101ada1-c034-40a2-9609-88f6ac6b9e8d\">\n",
              "        <img style=\"width: 180px;\" src=\"data:image/png;base64,iVBORw0KGgoAAAANSUhEUgAAA/MAAAITCAYAAABLz0yVAAAAOnRFWHRTb2Z0d2FyZQBNYXRwbG90\n",
              "bGliIHZlcnNpb24zLjEwLjAsIGh0dHBzOi8vbWF0cGxvdGxpYi5vcmcvlHJYcgAAAAlwSFlzAAAP\n",
              "YQAAD2EBqD+naQAAImJJREFUeJzt3XuQ1fV9//HXAeJ6qVxSEOysCyKgIhC8Md4CtiYjppEoWGsN\n",
              "yWwrgpk4WqlVmYZUc0HTWAw1aZUMY71MTTNAHSZN22lNtSimYAFr8LrIuqCiMaOssYIse35/ON3f\n",
              "b3+CsskeDh95PGa+M3u+3885+z4zZxie+/3udyvVarUaAAAAoBh96j0AAAAA0DNiHgAAAAoj5gEA\n",
              "AKAwYh4AAAAKI+YBAACgMGIeAAAACiPmAQAAoDBiHgAAAArzkY/5RYsW1XsEAAAA6FUf+Zh/8cUX\n",
              "6z0CAAAA9KqPfMwDAADAR42YBwAAgMKIeQAAACiMmAcAAIDCiHkAAAAojJgHAACAwoh5AAAAKIyY\n",
              "BwAAgMKIeQAAACiMmAcAAIDCiHkAAAAojJgHAACAwoh5AAAAKIyYBwAAgMKIeQAAACiMmAcAAIDC\n",
              "iHkAAAAojJgHAACAwoh5AAAAKIyYBwAAgMKIeQAAACiMmAcAAIDCiHkAAAAojJgHAACAwoh5AAAA\n",
              "KIyYBwAAgMKIeQAAACiMmAcAAIDCiHkAAAAojJgHAACAwoh5AAAAKIyYBwAAgMKIeQAAACiMmAcA\n",
              "AIDCiHkAAAAojJgHAACAwoh5AAAAKIyYBwAAgMKIeQAAACiMmAcAAIDCiHkAAAAojJgHAACAwoh5\n",
              "AAAAKIyYBwAAgMKIeQAAACiMmAcAAIDCiHkAAAAojJgHAACAwoh5AAAAKIyYBwAAgMKIeQAAACiM\n",
              "mAcAAIDCiHkAAAAojJgHAACAwoh5AAAAKIyYBwAAgMKIeQAAACiMmAcAAIDCiHkAAAAojJgHAACA\n",
              "woh5AAAAKExNY/6qq67KiBEjUqlUsn79+j2uW7JkSUaPHp1jjjkml19+eXbu3NnteLVaze/8zu9k\n",
              "4MCBtRwXAAAAilDTmL/ooovyyCOPZPjw4Xtcs2nTpsyfPz8rV65MS0tLXn311SxevLjbmttuuy3H\n",
              "HHNMLUcFAACAYtQ05idPnpzGxsYPXLN06dJMmzYtw4YNS6VSyRVXXJH777+/6/iGDRvywAMP5IYb\n",
              "bvjQ77djx460t7d323bt2vVrvw8AAADYn9T9d+bb2tq6nbkfMWJE2trakiQ7d+7M5ZdfnjvvvDN9\n",
              "+/b90Ne6+eabM2DAgG7b6tWrazY7AAAA1EPdY/6D3HTTTZk+fXqOP/74vVo/b968bNu2rds2adKk\n",
              "Gk8JAAAA+1a/eg/Q1NSUjRs3dj1ubW1NU1NTkuThhx9OW1tbvvvd76ajoyPt7e0ZMWJE1qxZkyFD\n",
              "hrzvtRoaGtLQ0NBt396c0QcAAICS1P3M/IwZM7JixYps3bo11Wo1d9xxRy655JIkycqVK/Piiy+m\n",
              "tbU1jzzySPr375/W1tbdhjwAAAAcKGoa83PmzEljY2O2bNmSc889N6NGjUqSzJo1KytWrEiSjBw5\n",
              "MjfddFPOPPPMjBo1KkOGDMmcOXNqORYAAAAUrVKtVqv1HqKW5s6dm4ULF9Z7DAAAAOg1db/MHgAA\n",
              "AOgZMQ8AAACFEfMAAABQGDEPAAAAhRHzAAAAUBgxDwAAAIUR8wAAAFAYMQ8AAACFEfMAAABQGDEP\n",
              "AAAAhRHzAAAAUBgxDwAAAIUR8wAAAFAYMQ8AAACFEfMAAABQGDEPAAAAhRHzAAAAUBgxDwAAAIUR\n",
              "8wAAAFAYMQ8AAACFEfMAAABQGDEPAAAAhRHzAAAAUBgxDwAAAIUR8wAAAFAYMQ8AAACFEfMAAABQ\n",
              "GDEPAAAAhRHzAAAAUBgxDwAAAIUR8wAAAFAYMQ8AAACFEfMAAABQGDEPAAAAhRHzAAAAUBgxDwAA\n",
              "AIUR8wAAAFAYMQ8AAACFEfMAAABQGDEPAAAAhRHzAAAAUBgxDwAAAIUR8wAAAFAYMQ8AAACFEfMA\n",
              "AABQGDEPAAAAhRHzAAAAUBgxDwAAAIUR8wAAAFAYMQ8AAACFEfMAAABQGDEPAAAAhRHzAAAAUBgx\n",
              "DwAAAIUR8wAAAFAYMQ8AAACFEfMAAABQGDEPAAAAhRHzAAAAUBgxDwAAAIUR8wAAAFAYMQ8AAACF\n",
              "EfMAAABQGDEPAAAAhRHzAAAAUBgxDwAAAIUR8wAAAFAYMQ8AAACFEfMAAABQGDEPAAAAhRHzAAAA\n",
              "UBgxDwAAAIUR8wAAAFAYMQ8AAACFEfMAAABQGDEPAAAAhRHzAAAAUBgxDwAAAIWpacxfddVVGTFi\n",
              "RCqVStavX7/HdUuWLMno0aNzzDHH5PLLL8/OnTuTJD/5yU8yadKkjB07NieccEKuu+66dHZ21nJk\n",
              "AAAA2O/VNOYvuuiiPPLIIxk+fPge12zatCnz58/PypUr09LSkldffTWLFy9OkgwaNCg/+MEP8tRT\n",
              "T+W//uu/smrVqtxzzz21HBkAAAD2ezWN+cmTJ6exsfED1yxdujTTpk3LsGHDUqlUcsUVV+T+++9P\n",
              "kpx44okZOXJkkuTggw/OxIkT09rausfX2rFjR9rb27ttu3bt6rX3AwAAAPuDuv/OfFtbW7cz9yNG\n",
              "jEhbW9v71m3dujVLly7NZz/72T2+1s0335wBAwZ021avXl2TuQEAAKBe6h7ze6O9vT3nn39+rrvu\n",
              "upxyyil7XDdv3rxs27at2zZp0qR9OCkAAADUXr96D9DU1JSNGzd2PW5tbU1TU1PX47feeitTp07N\n",
              "5z73ucydO/cDX6uhoSENDQ3d9vXt27d3BwYAAIA6q/uZ+RkzZmTFihXZunVrqtVq7rjjjlxyySVJ\n",
              "kl/+8peZOnVqpk6dmq985St1nhQAAAD2DzWN+Tlz5qSxsTFbtmzJueeem1GjRiVJZs2alRUrViRJ\n",
              "Ro4cmZtuuilnnnlmRo0alSFDhmTOnDlJkkWLFmX16tVZvnx5Jk6cmIkTJ+ab3/xmLUcGAACA/V6l\n",
              "Wq1W6z1ELc2dOzcLFy6s9xgAAADQa+p+mT0AAADQM2IeAAAACiPmAQAAoDBiHgAAAAoj5gEAAKAw\n",
              "Yh4AAAAKI+YBAACgMGIeAAAACiPmAQAAoDBiHgAAAAoj5gEAAKAwYh4AAAAKI+YBAACgMGIeAAAA\n",
              "CiPmAQAAoDBiHgAAAAoj5gEAAKAwYh4AAAAKI+YBAACgMGIeAAAACiPmAQAAoDBiHgAAAAoj5gEA\n",
              "AKAwYh4AAAAKI+YBAACgMGIeAAAACiPmAQAAoDBiHgAAAAoj5gEAAKAwYh4AAAAKI+YBAACgMGIe\n",
              "AAAACiPmAQAAoDBiHgAAAAoj5gEAAKAwYh4AAAAKI+YBAACgMGIeAAAACiPmAQAAoDBiHgAAAAoj\n",
              "5gEAAKAwYh4AAAAKI+YBAACgMGIeAAAACiPmAQAAoDBiHgAAAAoj5gEAAKAwYh4AAAAKI+YBAACg\n",
              "MGIeAAAACiPmAQAAoDBiHgAAAAoj5gEAAKAwYh4AAAAKI+YBAACgMGIeAAAACiPmAQAAoDBiHgAA\n",
              "AAoj5gEAAKAwYh4AAAAKI+YBAACgMGIeAAAACiPmAQAAoDBiHgAAAArT71d50lNPPZUtW7bkkEMO\n",
              "yfjx4zNw4MBeHgsAAADYk72O+bfeeiu33nprvv/97+fQQw/N0KFDs3379mzcuDGTJk3K9ddfn3PO\n",
              "OaeWswIAAADpQcz/9m//dr74xS9m3bp1GTp0aNf+zs7OrFy5MnfccUdaWloyZ86cmgwKAAAAvGev\n",
              "Y/7RRx9NQ0PD+/b36dMnU6ZMyZQpU7Jjx45eHQ4AAAB4v72+Ad7uQv5XWQMAAAD8evY65j/72c9m\n",
              "1apVuz325ptv5i//8i9z55139tpgAAAAwO7t9WX2CxYsyLx58/LUU0/l1FNP7boB3jPPPJOXXnop\n",
              "X/7yl/NHf/RHtZwVAAAASA9ifsKECfnHf/zHbN68OQ8//HC2bNmSQw89NJ///Odz1llnpV+/X+mv\n",
              "3AEAAAA91OMCf+ONNzJz5sxu+/77v/87EyZM6LWhAAAAgD3b69+Z/1/Nzc17tQ8AAACojb0+M//a\n",
              "a69l69ateeedd/Lkk0+mWq0mSbZt25a33367ZgMCAAAA3e11zN9///35zne+k5dffjnTpk3r2j9g\n",
              "wIBcd911NRkOAAAAeL+9jvmrr746V199db7+9a9n/vz5tZwJAAAA+AA9vgHe/Pnz09nZma1bt6aj\n",
              "o6Nrf1NTU68OBgAAAOxej2+Ad/fdd2fgwIEZP358Tj755Jx88sk55ZRTdrv2qquuyogRI1KpVLJ+\n",
              "/fo9vuaSJUsyevToHHPMMbn88suzc+fOvToGAAAAB6Iex/zXvva1rFmzJr/4xS/y85//PD//+c/z\n",
              "2muv7XbtRRddlEceeSTDhw/f4+tt2rQp8+fPz8qVK9PS0pJXX301ixcv/tBjAAAAcKDq8WX2gwcP\n",
              "zrHHHrtXaydPnvyha5YuXZpp06Zl2LBhSZIrrrgiCxYsyJe//OUPPPZRUq1W806HKw4AAABq6ZB+\n",
              "H0ulUqn3GL2ixzF/wQUX5Dvf+U4uvfTSHHzwwV37+/fv/ysN0NbW1u3M/YgRI9LW1vahx3Znx44d\n",
              "2bFjR7d9u3bt+pXm2pfe6diZMfd9td5jAAAAfKQ9N/NrOfRjB9V7jF7R48vs/+zP/ixz587NsGHD\n",
              "MmjQoAwcODCDBg2qxWw9dvPNN2fAgAHdttWrV9d7LAAAAOhVPT4z39nZ2asDNDU1ZePGjV2PW1tb\n",
              "u+6M/0HHdmfevHmZO3dut30l/Bm9Q/p9LM/N/Fq9xwAAAPhIO6Tfx+o9Qq/pccz3thkzZuSss87K\n",
              "jTfemKFDh+aOO+7IJZdc8qHHdqehoSENDQ3d9vXt27em8/eGSqXykbnUAwAAgNrr8WX2ffr0Sd++\n",
              "fd+37c6cOXPS2NiYLVu25Nxzz82oUaOSJLNmzcqKFSuSJCNHjsxNN92UM888M6NGjcqQIUMyZ86c\n",
              "Dz0GAAAAB6pKtVqt9uQJb7/9dtfX77zzTu65557s2rUrf/qnf9rrw/WGuXPnZuHChfUeAwAAAHpN\n",
              "j8/MH3bYYV3b4MGDM3fu3CxdurQWswEAAAC70eOY//8988wzef3113tjFgAAAGAv9PgGeIMGDUql\n",
              "UkmSdHR0JEluv/323p0KAAAA2KMex/z69ev/75P79cuwYcOKuGM8AAAAfFT0OOaHDx+e//mf/+mK\n",
              "+kGDBuXQQw/t7bkAAACAPehxzK9atSozZszIsGHDkiSvvvpqli1bltNPP73XhwMAAADer8cx/793\n",
              "rz/zzDOTvBf311xzTX7605/2+nAAAADA+/X4bvbvvPNOV8gnyRlnnJHt27f36lAAAADAnvU45n/j\n",
              "N34j//Zv/9b1+MEHH8xhhx3Wq0MBAAAAe9bjy+z/6q/+KtOnT++6g31nZ2eWL1/e64MBAAAAu9fj\n",
              "mH/55Zfz+OOP59VXX02SDB06NKtXr+71wQAAAIDd6/Fl9vPnz8+QIUMybty4jBs3LoMHD878+fNr\n",
              "MRsAAACwGz2O+f9fpVLJrl27emMWAAAAYC/0OOYPP/zwrFq1quvxo48+msMPP7xXhwIAAAD2rMe/\n",
              "M/8Xf/EXufDCC3PcccclSZ5//vn8wz/8Q68PBgAAAOxej2P+9NNPz9NPP53HHnssyXt/Z37gwIG9\n",
              "PRcAAACwBz2O+SQZNGhQPvOZz/T2LAAAAMBe+LVvgAcAAADsW2IeAAAACiPmAQAAoDBiHgAAAAoj\n",
              "5gEAAKAwYh4AAAAKI+YBAACgMGIeAAAACiPmAQAAoDBiHgAAAAoj5gEAAKAwYh4AAAAKI+YBAACg\n",
              "MGIeAAAACiPmAQAAoDBiHgAAAAoj5gEAAKAwYh4AAAAKI+YBAACgMGIeAAAACiPmAQAAoDBiHgAA\n",
              "AAoj5gEAAKAwYh4AAAAKI+YBAACgMGIeAAAACiPmAQAAoDBiHgAAAAoj5gEAAKAwYh4AAAAKI+YB\n",
              "AACgMGIeAAAACiPmAQAAoDBiHgAAAAoj5gEAAKAwYh4AAAAKI+YBAACgMGIeAAAACiPmAQAAoDBi\n",
              "HgAAAAoj5gEAAKAwYh4AAAAKI+YBAACgMGIeAAAACiPmAQAAoDBiHgAAAAoj5gEAAKAwYh4AAAAK\n",
              "I+YBAACgMGIeAAAACiPmAQAAoDBiHgAAAAoj5gEAAKAwYh4AAAAKI+YBAACgMGIeAAAACiPmAQAA\n",
              "oDBiHgAAAAoj5gEAAKAwYh4AAAAKI+YBAACgMGIeAAAAClPTmH/++edzxhlnZMyYMTn11FOzYcOG\n",
              "963p7OzMtddem3HjxuW4447LZZddlnfffbfr+Le+9a2MHTs2EydOzGmnnZbVq1fXcmQAAADY79U0\n",
              "5ufMmZPZs2fnueeey/XXX5/m5ub3rVmyZEnWrl2btWvX5umnn06fPn2yaNGiJMn69evz13/911m9\n",
              "enXWr1+fK6+8MldeeWUtRwYAAID9Xs1i/rXXXsvjjz+emTNnJklmzJiRzZs3p6Wlpdu6J554Ip/6\n",
              "1Kdy0EEHpVKp5Lzzzsu9996bJKlUKtm5c2fefvvtJMmbb76ZxsbGPX7PHTt2pL29vdu2a9euGr1D\n",
              "AAAAqI+axfzmzZtz5JFHpl+/fkneC/Ompqa0tbV1W3fyySdnxYoVaW9vz86dO/PDH/4wra2tSZJP\n",
              "fOITueaaa3L00UensbExt912W26//fY9fs+bb745AwYM6La5LB8AAICPmrrfAK+5uTlTp07NlClT\n",
              "MmXKlIwZM6brBwCbNm3K8uXL09LSki1btuSaa67J7//+7+/xtebNm5dt27Z12yZNmrSv3goAAADs\n",
              "EzWL+aOOOiqvvPJKOjo6kiTVajVtbW1pamrqtq5SqeTGG2/MunXrsmrVqowdOzYnnHBCkmTZsmUZ\n",
              "P358fuu3fitJ8od/+Id59NFHu90g7//V0NCQ/v37d9v69u1bq7cIAAAAdVGzmD/iiCNy0kkn5b77\n",
              "7kvyXpg3NjZm1KhR3dZt3749b7zxRpLk9ddfzy233JLrrrsuSTJy5Mg8+uij+eUvf5kk+dGPfpQx\n",
              "Y8bkoIMOqtXYAAAAsN/rV8sXv/POO9Pc3JwFCxakf//+ueuuu5Iks2bNyrRp0zJt2rRs27YtZ599\n",
              "dvr06ZPOzs5cffXVOf/885MkF154YdasWZNTTjklDQ0NOeyww/J3f/d3tRwZAAAA9nuVarVarfcQ\n",
              "tTR37twsXLiw3mMAAABAr6n7DfAAAACAnhHzAAAAUBgxDwAAAIUR8wAAAFAYMQ8AAACFEfMAAABQ\n",
              "GDEPAAAAhRHzAAAAUBgxDwAAAIUR8wAAAFAYMQ8AAACFEfMAAABQGDEPAAAAhRHzAAAAUBgxDwAA\n",
              "AIUR8wAAAFAYMQ8AAACFEfMAAABQGDEPAAAAhRHzAAAAUBgxDwAAAIUR8wAAAFAYMQ8AAACFEfMA\n",
              "AABQGDEPAAAAhRHzAAAAUBgxDwAAAIUR8wAAAFAYMQ8AAACFEfMAAABQGDEPAAAAhRHzAAAAUBgx\n",
              "DwAAAIUR8wAAAFAYMQ8AAACFEfMAAABQGDEPAAAAhRHzAAAAUBgxDwAAAIUR8wAAAFAYMQ8AAACF\n",
              "EfMAAABQGDEPAAAAhRHzAAAAUBgxDwAAAIUR8wAAAFAYMQ8AAACFEfMAAABQGDEPAAAAhRHzAAAA\n",
              "UBgxDwAAAIUR8wAAAFAYMQ8AAACFEfMAAABQGDEPAAAAhRHzAAAAUBgxDwAAAIUR8wAAAFAYMQ8A\n",
              "AACFEfMAAABQGDEPAAAAhRHzAAAAUBgxDwAAAIUR8wAAAFAYMQ8AAACFEfMAAABQGDEPAAAAhRHz\n",
              "AAAAUBgxDwAAAIUR8wAAAFAYMQ8AAACFEfMAAABQGDEPAAAAhRHzAAAAUBgxDwAAAIUR8wAAAFAY\n",
              "MQ8AAACFEfMAAABQmJrG/PPPP58zzjgjY8aMyamnnpoNGza8b01nZ2euvfbajBs3Lscdd1wuu+yy\n",
              "vPvuu13H29racv755+fYY4/N2LFjc/vtt9dyZAAAANjv1TTm58yZk9mzZ+e5557L9ddfn+bm5vet\n",
              "WbJkSdauXZu1a9fm6aefTp8+fbJo0aIkSbVazYUXXpgvfvGLefbZZ/PUU0/l4osvruXIAAAAsN+r\n",
              "Wcy/9tprefzxxzNz5swkyYwZM7J58+a0tLR0W/fEE0/kU5/6VA466KBUKpWcd955uffee5MkDz74\n",
              "YBoaGvJ7v/d7XeuHDh26x++5Y8eOtLe3d9t27dpVg3cHAAAA9VOzmN+8eXOOPPLI9OvXL0lSqVTS\n",
              "1NSUtra2butOPvnkrFixIu3t7dm5c2d++MMfprW1NUny1FNPZciQIbnkkkty4okn5sILL8wLL7yw\n",
              "x+958803Z8CAAd221atX1+otAgAAQF3U/QZ4zc3NmTp1aqZMmZIpU6ZkzJgxXT8A6OjoyE9+8pPM\n",
              "nz8/69aty7nnnvuBl9nPmzcv27Zt67ZNmjRpX70VAAAA2CdqFvNHHXVUXnnllXR0dCR57/ff29ra\n",
              "0tTU1G1dpVLJjTfemHXr1mXVqlUZO3ZsTjjhhCRJU1NTTjzxxK7HX/jCF7J27drs3Llzt9+zoaEh\n",
              "/fv377b17du3Vm8RAAAA6qJmMX/EEUfkpJNOyn333ZckWbZsWRobGzNq1Khu67Zv35433ngjSfL6\n",
              "66/nlltuyXXXXZckOe+887Jly5a89NJLSZIf//jHOf744/Oxj32sVmMDAADAfq9fLV/8zjvvTHNz\n",
              "cxYsWJD+/fvnrrvuSpLMmjUr06ZNy7Rp07Jt27acffbZ6dOnTzo7O3P11Vfn/PPPT5IcdthhueOO\n",
              "O/K7v/u7qVarGTBgQH7wgx/UcmQAAADY71Wq1Wq13kPU0ty5c7Nw4cJ6jwEAAAC9pu43wAMAAAB6\n",
              "RswDAABAYcQ8AAAAFEbMAwAAQGHEPAAAABRGzAMAAEBhxDwAAAAURswDAABAYcQ8AAAAFEbMAwAA\n",
              "QGHEPAAAABRGzAMAAEBhxDwAAAAURswDAABAYcQ8AAAAFEbMAwAAQGHEPAAAABRGzAMAAEBhxDwA\n",
              "AAAURswDAABAYcQ8AAAAFEbMAwAAQGHEPAAAABRGzAMAAEBhxDwAAAAURswDAABAYcQ8AAAAFEbM\n",
              "AwAAQGHEPAAAABRGzAMAAEBhxDwAAAAURswDAABAYcQ8AAAAFEbMAwAAQGHEPAAAABRGzAMAAEBh\n",
              "xDwAAAAURswDAABAYcQ8AAAAFEbMAwAAQGHEPAAAABRGzAMAAEBhxDwAAAAURswDAABAYcQ8AAAA\n",
              "FEbMAwAAQGHEPAAAABRGzAMAAEBhxDwAAAAURswDAABAYcQ8AAAAFEbMAwAAQGHEPAAAABRGzAMA\n",
              "AEBhxDwAAAAURswDAABAYcQ8AAAAFEbMAwAAQGHEPAAAABRGzAMAAEBhKtVqtVrvIWpp+vTpGTFi\n",
              "RL3H+FC7du3K6tWrM2nSpPTt27fe48A+47PPgcpnnwOVzz4HKp99emL48OG5+uqrP3DNRz7mS9He\n",
              "3p4BAwZk27Zt6d+/f73HgX3GZ58Dlc8+ByqffQ5UPvv0NpfZAwAAQGHEPAAAABRGzAMAAEBhxPx+\n",
              "oqGhIX/+53+ehoaGeo8C+5TPPgcqn30OVD77HKh89ultboAHAAAAhXFmHgAAAAoj5gEAAKAwYh4A\n",
              "AAAKI+b3A88//3zOOOOMjBkzJqeeemo2bNhQ75Gg5rZv354LLrggY8aMySc+8Yl8+tOfTktLS73H\n",
              "gn3qrrvuSqVSyQMPPFDvUWCf2LFjR6688sqMHj0648ePz8yZM+s9EuwTP/7xj3PSSSdl4sSJGTdu\n",
              "XO6+++56j8RHQL96D0AyZ86czJ49O83NzVm6dGmam5uzZs2aeo8FNTd79uycd955qVQq+e53v5tZ\n",
              "s2bloYceqvdYsE+0trbm+9//fk477bR6jwL7zA033JBKpZLnnnsulUolW7durfdIUHPVajUzZ87M\n",
              "Qw89lAkTJqS1tTXHHXdcpk+fnsMPP7ze41EwZ+br7LXXXsvjjz/e9ZPpGTNmZPPmzc5Q8pF38MEH\n",
              "5zOf+UwqlUqS5LTTTktra2t9h4J9pLOzM7Nmzcrtt9/uTxRxwHj77bezZMmSfPOb3+z6t3/YsGF1\n",
              "ngr2jUqlkjfffDNJ0t7ent/8zd/07z+/NjFfZ5s3b86RRx6Zfv3eu0iiUqmkqakpbW1tdZ4M9q1F\n",
              "ixblc5/7XL3HgH1i4cKFOfPMM3PyySfXexTYZzZu3JiPf/zjWbBgQU455ZR88pOfzIMPPljvsaDm\n",
              "KpVK/v7v/z7Tp0/P8OHDc9ZZZ+Xuu+/OQQcdVO/RKJzL7IG6W7BgQVpaWvynjgPCz372syxbtiz/\n",
              "8R//Ue9RYJ/q6OjIiy++mLFjx+aWW27JunXr8ulPfzobNmzI0KFD6z0e1ExHR0e+8Y1vZPny5Zk8\n",
              "eXLWrFmTadOm5cknn8zgwYPrPR4Fc2a+zo466qi88sor6ejoSPLe79S0tbWlqampzpPBvnHrrbdm\n",
              "+fLl+ad/+qcceuih9R4Ham7lypVpbW3N6NGjM2LEiPz0pz/N7Nmz8zd/8zf1Hg1qqqmpKX369Mnn\n",
              "P//5JMmJJ56Yo48+Ok8++WSdJ4PaWr9+fV5++eVMnjw5SXLqqaemsbEx69atq/NklE7M19kRRxyR\n",
              "k046Kffdd1+SZNmyZWlsbMyoUaPqPBnU3sKFC3P//ffnX//1XzNw4MB6jwP7xJe+9KW88soraW1t\n",
              "TWtra0477bQsXrw4X/rSl+o9GtTU4MGDc8455+Rf/uVfkiSbNm3Kpk2bcvzxx9d5Mqit/z159/TT\n",
              "TydJWlpasnHjxhx77LF1nozSVarVarXeQxzonn322TQ3N+cXv/hF+vfvn7vuuivjx4+v91hQU1u2\n",
              "bMlRRx2VkSNHdt3JtaGhIf/5n/9Z58lg3zr77LPzx3/8x7ngggvqPQrU3AsvvJDLLrssr7/+evr0\n",
              "6ZOvfvWrmTFjRr3Hgpq7//77s2DBgvTp0yednZ2ZN29eLr300nqPReHEPAAAABTGZfYAAABQGDEP\n",
              "AAAAhRHzAAAAUBgxDwAHuIkTJ+att97q8fMuuuii/O3f/m3vDwQAfKh+9R4AAKiv9evX13sEAKCH\n",
              "nJkHgANcpVLJm2++mSQZMWJEvvrVr+b000/P0UcfnW984xtd65555pmcccYZOeGEE3LBBRekvb29\n",
              "69hbb72Vyy+/PJMmTcqECRMye/bsvPvuu3n22WfT2NiYF154IUly6623ZurUqens7Nyn7xEAPmrE\n",
              "PADQzZtvvpnHHnssa9asybe//e289NJLSZIvfOELueyyy7Jhw4Z8/etfz8MPP9z1nD/5kz/JJz/5\n",
              "yaxevTpPPPFEOjs7s2jRohx77LH59re/nYsvvjgPPfRQvve97+Xee+9Nnz7+CwIAvw6X2QMA3Vx6\n",
              "6aVJksGDB2fkyJHZtGlTDj/88Kxfvz7Nzc1JkvHjx+ess87qes4DDzyQxx57LAsXLkySvPPOO+nb\n",
              "t2+S5A/+4A/y7//+7zn33HPz4IMPZsiQIfv2DQHAR5CYBwC6Ofjgg7u+7tu3bzo6Ona7rlKpdH1d\n",
              "rVazbNmyjBkz5n3rOjo68rOf/Swf//jHu87yAwC/Hte4AQAfqn///jnxxBNzzz33JEk2bNiQRx55\n",
              "pOv4BRdckG9961td4f/GG2+kpaUlSXLDDTfk2GOPzcqVK3Pttdd27QcAfnViHgDYK/fcc08WL16c\n",
              "cePG5Stf+UomT57cdey2227LIYcckokTJ2bChAk555xz0tramh/96Ef553/+53zve9/LqFGjsnDh\n",
              "wlx88cXZvn17Hd8JAJSvUq1Wq/UeAgAAANh7zswDAABAYcQ8AAAAFEbMAwAAQGHEPAAAABRGzAMA\n",
              "AEBhxDwAAAAURswDAABAYcQ8AAAAFEbMAwAAQGHEPAAAABTm/wATMSQ69rTITwAAAABJRU5ErkJg\n",
              "gg==\n",
              "\">\n",
              "      </div>\n",
              "      <script type=\"text/javascript\">\n",
              "        (() => {\n",
              "          const chartElement = document.getElementById(\"chart-b101ada1-c034-40a2-9609-88f6ac6b9e8d\");\n",
              "          async function getCodeForChartHandler(event) {\n",
              "            const chartCodeResponse =  await google.colab.kernel.invokeFunction(\n",
              "                'getCodeForChart', [\"chart-b101ada1-c034-40a2-9609-88f6ac6b9e8d\"], {});\n",
              "            const responseJson = chartCodeResponse.data['application/json'];\n",
              "            await google.colab.notebook.addCell(responseJson.code, 'code');\n",
              "          }\n",
              "          chartElement.onclick = getCodeForChartHandler;\n",
              "        })();\n",
              "      </script>\n",
              "      <style>\n",
              "        .colab-quickchart-chart-with-code  {\n",
              "            display: block;\n",
              "            float: left;\n",
              "            border: 1px solid transparent;\n",
              "        }\n",
              "\n",
              "        .colab-quickchart-chart-with-code:hover {\n",
              "            cursor: pointer;\n",
              "            border: 1px solid #aaa;\n",
              "        }\n",
              "      </style>"
            ]
          },
          "metadata": {}
        },
        {
          "output_type": "display_data",
          "data": {
            "text/plain": [
              "<google.colab._quickchart_helpers.SectionTitle at 0x799438519220>"
            ],
            "text/html": [
              "<h4 class=\"colab-quickchart-section-title\">Values</h4>\n",
              "<style>\n",
              "  .colab-quickchart-section-title {\n",
              "      clear: both;\n",
              "  }\n",
              "</style>"
            ]
          },
          "metadata": {}
        },
        {
          "output_type": "display_data",
          "data": {
            "text/plain": [
              "from matplotlib import pyplot as plt\n",
              "_df_2['index'].plot(kind='line', figsize=(8, 4), title='index')\n",
              "plt.gca().spines[['top', 'right']].set_visible(False)"
            ],
            "text/html": [
              "      <div class=\"colab-quickchart-chart-with-code\" id=\"chart-d0b25a16-6443-421c-bbc0-d52465e6c48e\">\n",
              "        <img style=\"width: 180px;\" src=\"data:image/png;base64,iVBORw0KGgoAAAANSUhEUgAAApAAAAFuCAYAAAA2xSikAAAAOnRFWHRTb2Z0d2FyZQBNYXRwbG90\n",
              "bGliIHZlcnNpb24zLjEwLjAsIGh0dHBzOi8vbWF0cGxvdGxpYi5vcmcvlHJYcgAAAAlwSFlzAAAP\n",
              "YQAAD2EBqD+naQAAMw9JREFUeJzt3Xt0lIWB/vFnkpAJhIQAgXDJPTNBUBBBMBgugQn9VVurResW\n",
              "tEoRURQIp55u23Pqrm672O12PQZQFLWUeqsXtF1bXduEhJuIoKiIF2ZyDySEBHIjZJKZeX9/TAxQ\n",
              "URnIZJKZ7+cczzFvXphnzpjk6zuZxGQYhiEAAADgPIUFegAAAAD6FwISAAAAPiEgAQAA4BMCEgAA\n",
              "AD4hIAEAAOATAhIAAAA+ISABAADgEwISAAAAPiEgAQAA4BMCEkDIuuaaa/SrX/3qgv/8zJkz9cAD\n",
              "D/TcIADoJyICPQAAAuXNN98M9AQA6Je4AgkAAACfEJAAQlZOTo5++ctfSpJMJpPWrVun7OxsDR48\n",
              "WBMnTtTOnTu7z3W5XPrXf/1XjRo1SiNGjNAvfvGLL/19hw8f1qJFizR27FiNHDlSCxcu1LFjxyRJ\n",
              "xcXFio6O1t69eyVJhmHoO9/5jq677joZhtEL9xYAeg4BCQBdnnrqKW3evFmNjY2y2Wy65ZZbut/3\n",
              "29/+Vi+99JK2bt2q6upqRUREaM+ePd3vdzqdstlsGjNmjA4dOqTS0lJFRERo0aJFkryx+sADD+im\n",
              "m25SQ0ODfvWrX+mzzz7TM888I5PJ1Ov3FQAuBgEJAF3uu+8+WSwWRURE6M4771RlZaWOHj0qSdq0\n",
              "aZPuu+8+TZgwQWazWQ888ICGDh3a/Wf/9re/qaWlRf/93/+t6OhoDR48WL/5zW9UUFCg6upqSdJP\n",
              "f/pTTZs2TTabTb/97W+1ZcsWxcXFBeKuAsBF4UU0ANBlzJgx3f8eHR0tSWppaVFCQoKqq6uVlpbW\n",
              "/f7w8HAlJyd3v22323X06NGzolKSzGazKisrlZiYKEn6yU9+ouzsbC1cuFCTJ0/2470BAP8hIAHg\n",
              "PCQmJqq8vLz7bbfbraqqqu63R40apZSUFJWUlHzl39HU1KTbb79dd9xxh1566SW9/vrruu666/w5\n",
              "GwD8gqewAeA83H777fqf//kfffbZZ3I6nfqP//gPHT9+vPv9CxYsUGdnp+6//341NTVJkurq6vTi\n",
              "iy9K8r5o5vbbb9e4ceP05JNP6oknntBtt92m0tLSgNwfALgYBCQAnIef/exnWrBggebMmaPExER1\n",
              "dHToqquu6n5/TEyMdu/ercrKSk2cOFGxsbG6+uqrtX37dknSf/3Xf+mjjz7qftHMwoULdeutt+rG\n",
              "G2/UqVOnAnW3AOCCmAx+fgQAAAB8wBVIAAAA+ISABAAAgE8ISAAAAPiEgAQAAIBPCEgAAAD4hIAE\n",
              "AACATwhIAAAA+KRXAzI/P783bw4AAAB+0KsBWVFR0Zs3BwAAAD/gKWwAAAD4hIAEAACATwhIAAAA\n",
              "+ISABAAAgE8ISAAAAPiEgAQAAIBPCEgAAAD4hIAEAACATwhIAAAA+ISABAAAgE8ISAAAgD7KMAy5\n",
              "3J5Az/gSAhIAAKCPMQxDfz9Yq+vW79Qf3i4P9JwviQj0AAAAAHh5PIb+/slRrS2065OaZklSa7tL\n",
              "S7LTFBZmCvC60whIAACAAPOGY60eKbDrs9oWSVJ0ZLgWZ6fqjpnpfSoeJQISAAAgYDweQ/93sFZr\n",
              "C0+H42BzhBZfnao7ZqZpaHRkgBeeGwEJAADQyzweQ298XKN1hQ59ftQbjjHmCP04O1VLZqYpblDf\n",
              "DMcvEJAAAAC9xO0x9MaBGq0ttMte1ypJiomK0JLsNC3JTtOQQQMCvPD8EJAAAAB+5vYY+utHR7Ru\n",
              "q0OOrnCMjYrQkplp+nF2moYM7B/h+AUCEgAAwE/cHkOvf3hE67baVXLspCRvOC6dla7F2amKjepf\n",
              "4fgFAhIAAKCHudwevf7REa0rdKi03huOQwYO0NKZabq9H4fjFwhIAACAHuJye/SXD45ofZFDZV3h\n",
              "GDdogO6cla7bZqQopp+H4xcISAAAgIvkcnv02v7DerTIofKGNknS0EEDdOfsdN02I1WDzcGVXMF1\n",
              "bwAAAHpRZ1c4rt/qUOVxbzgOi47svuIYHWTh+IXgvFcAAAB+1On26NX3q7W+yKGq46ckScOjI7Vs\n",
              "drpuzQrecPxCcN87AACAHtTh8mjL+9V6tMih6hPecIwfHKm7ZmfolqxkDYoMjbQKjXsJAABwETpc\n",
              "Hr3ynjccDzd+EY5m3T0nXbdclaKBkeEBXti7CEgAAICv4HS59fK+am0oLukOxxExZt09J0OLpieH\n",
              "XDh+gYAEAAD4J06XWy/trdJjxSWqaWqXJI2MMWt5ToYWTk9W1IDQDMcvEJAAAABd2jvdemlflR4r\n",
              "KlFtszccE2LNWj4nQz8kHLsRkAAAIOS1d7r1p3crtWFbiY42OyVJo2KjdM/cDN18ZRLh+E8ISAAA\n",
              "ELLaO916fk+lHt9WoroWbziOHhKle+ZadPOViTJHEI7nQkACAICQ097p1nNd4XisKxzHxg3U8pwM\n",
              "/YBw/EYEJAAACBmnOtx6bk+FHt9WqvrW0+F471yLbpqaqMiIsAAv7B8ISAAAEPTaOlx69p0Kbdxe\n",
              "qvrWDklS4tCBWjHXogVTCEdfEZAAACBotXW49Mxubzg2nPSGY9Kw0+E4IJxwvBAEJAAACDonnS79\n",
              "cXeFntxRquNd4ZgyfJDunWvR968YSzheJAISAAAEjVanS5vfLtdTO0p1oq1TkjccV86z6obJYxRB\n",
              "OPYIAhIAAPR7Le2d3nDcWabGrnBMi4/WirkWXU849jgCEgAA9FvN7Z3avMsbjk2nvOGYHh+tlTaL\n",
              "rptEOPqLzwH5xhtv6Je//KU8Ho9cLpd++tOf6vbbb/fHNgAAgHNqbu/Upp3lenpnqZrbXZKk9BHR\n",
              "yrNZ9d1JYxQeZgrwwuDmU0AahqFbb71VxcXFmjRpksrLy3XJJZdowYIFiomJ8ddGAAAASVLTqU79\n",
              "fmeZfr+rTC1d4WgZOVgr51kIx17k8xVIk8mkxsZGSVJzc7OGDx8us9nc07sAAAC6NbV16uldZdp0\n",
              "RjhaRw7WKptV104cTTj2Mp8C0mQy6cUXX9SCBQsUHR2tEydO6NVXX1VkZOSXznU6nXI6nWcdc7vd\n",
              "F7cWAACElMa2Dj29s0x/2FWuFqc3HDMTBivPlqlrLhulMMIxIHwKSJfLpV//+td69dVXNXv2bO3d\n",
              "u1ff+973dODAAcXHx5917kMPPaQHH3zwrGNZWVkXvxgAAAS9Eye7wvHtcrV2heMlo2K0ymbVty8l\n",
              "HAPNZBiGcb4n79u3T4sWLdKhQ4e6j02bNk1r1qzR/Pnzzzr3XFcg77//fuXn51/kZAAAEKyOn+zQ\n",
              "UztKtfntcp3s8D5zOX50rPJsFn1rAuHYV/h0BTIpKUk1NTX69NNPNX78eDkcDpWUlGjcuHFfOtds\n",
              "Nn/peyPDw8Mvbi0AAAhKDa1OPbmjTH/cXa62rnCcMDpWeblWzR+fQDj2MT4FZEJCgjZu3Kibb75Z\n",
              "YWFh8ng8Wr9+vZKTk/21DwAABLGGVqc27ijVM7srusPx0jGxyrNZNX9CgkwmwrEv8vlV2AsXLtTC\n",
              "hQv9sQUAAISI+lanNm73huOpTm84Thw7RHk2q2zjRxKOfRy/iQYAAPSaupZ2bdxWqmf3VKi90yNJ\n",
              "mpQ4RKtzrZo7jnDsLwhIAADgd3Ut7XpiW6meOyMcL0+K02qbVTnjRhCO/QwBCQAA/KauuV0btpXo\n",
              "+T2Vcrq84XhFcpzybFbNySQc+ysCEgAA9LjapnY9vq1Ez79bqY6ucJySHKfVuZmaZY0nHPs5AhIA\n",
              "APSYmqZTery4RC/sreoOxytThiov16qZFsIxWBCQAADgoh1pPKUNxSV6cW+VOtzecJyeOkx5uVZd\n",
              "nTGccAwyBCQAALhghxtPaUOxQy/trT4djmnDtDrXqhnphGOwIiABAIDPqk+06bHiEr28r0qdbu9v\n",
              "Rc5KH6Y8W6ZmZAwP8Dr4GwEJAADOW9XxNj1W7NAr71V3h+OM9OHKy7UqK51wDBUEJAAA+EZVx9v0\n",
              "aJE3HF0ebzhmW4Yrz5ap6WnDArwOvY2ABAAAX6myoU3ri+x69f3D3eE4yxqvPJtVV6YSjqGKgAQA\n",
              "AF9SXn9S64scem3/YbnPCMfVuVZNTSEcQx0BCQAAupXVn9T6rQ79+YPT4Tgnc4RW2ayamjI0wOvQ\n",
              "VxCQAABApcdau8Oxqxs1d5w3HK9IJhxxNgISAIAQ5qhr1fqtdv3vh0e6w3HeJSO1ymbV5KS4gG5D\n",
              "30VAAgAQghx1LVpb6NDrHx2R0RWOueO94TgpMS6g29D3EZAAAIQQ+9EWrd3q0F/PCMf5ExKUZ7Pq\n",
              "srFDAjsO/QYBCQBACPi8tkVrt9r1xoGa7nD81oQErSIccQEISAAAgthntc1aW2jXGwdqu499+9JR\n",
              "Wmmz6NIxhCMuDAEJAEAQ+rTGG45vfnw6HK+dOEor51k1fnRsAJchGBCQAAAEkYNHmrS20K63Dh6V\n",
              "JJlM0rWXjdZKm0WXjCIc0TMISAAAgsDHh5uUX2jXPz45HY7fmThaq2xWZSbEBHgdgg0BCQBAP3ag\n",
              "2huOBZ+eDsfrJo3RynkWWQlH+AkBCQBAP/RRdaPyC+wq/KxOkhRmkq673BuOlpGEI/yLgAQAoB/5\n",
              "oKpR+QWHVPT5MUnecLx+8litmGdRxojBAV6HUEFAAgDQD+yvPKH8QruKzwjHG7rCMZ1wRC8jIAEA\n",
              "6MPeq/CG4/ZD3nAMDzN1h2NafHSA1yFUEZAAAPRB71Uc1yMFdu2w10vyhuP3rxirFXMtSiUcEWAE\n",
              "JAAAfcje8uPKL7Brp8MbjhFhJi2YMlb3zrUoZTjhiL6BgAQAoA/YU9qg/EK73i5pkOQNx5umJure\n",
              "uRYlDRsU4HXA2QhIAAAC6J3SBuUX2LW79HQ4/uDKJN2Tk0E4os8iIAEA6GWGYWh3VzjuKTsuSRoQ\n",
              "fjocE4cSjujbCEgAAHqJYRjaXdKgRwrserfcG46R4WG6eVqiludYNDZuYIAXAueHgAQAwM8Mw9Au\n",
              "R4PyCw9pb/kJSd5w/JdpSVqek6ExhCP6GQISAAA/MQxDOx31eqTArvcqusIxIkwLpyXp7pwMjR5C\n",
              "OKJ/IiABAOhhhmFou71e+QWH9H5loyRvOC6anqzlORlKiI0K7EDgIhGQAAD0EMMwVHzomPIL7Pqg\n",
              "qlGSZI4I06KrknX3HMIRwYOABADgIhmGoeLPj+mRQrs+7ArHqAFhuuWqFN01O10jCUcEGQISAIAL\n",
              "ZBiGtn5Wp/xCuz6qbpLkDccfZaVo2ewMjYgxB3gh4B8EJAAAPjIMQwWf1mltoV0HDnvDceCAcN02\n",
              "I0V3zk5X/GDCEcGNgAQA4DwZhqF/fHJU+YV2HTzSLEkaFBmuH81I0bJZ6RpOOCJEEJAAAHwDj8fQ\n",
              "3z85qrWFdn1S4w3H6Mhw3XZ1qu6cla5h0ZEBXgj0LgISAICv4PEYeutgrfIL7fqstkWSNxwXZ6fq\n",
              "jpmEI0IXAQkAwD/xeAz938FarT0jHAebI7T46lTdMTNNQwlHhDgCEgCALh6PoTc+rtG6Qoc+P+oN\n",
              "xxhzhH6cnaolM9MUN4hwBCQCEgAAuT2G3jhQo7WFdtnrWiVJMVERWpKdpiXZaRoyaECAFwJ9CwEJ\n",
              "AAhZbo+hv350ROu2OuToCsfYqAgtmZmmH2enachAwhE4FwISABBy3B5Dr394ROu22lVy7KQkbzgu\n",
              "nZWuxdmpio0iHIGvQ0ACAEKGy+3R6x8d0bpCh0rrveE4ZOAALZ2ZptsJR+C8EZAAgKDncnv0lw+O\n",
              "aH2RQ2Vd4Rg3aIDunJWu22akKIZwBHxCQAIAgpbL7dFr+w/r0SKHyhvaJElDBw3QnbPTdduMVA02\n",
              "82UQuBB85AAAgk5nVziu3+pQ5XFvOA6Ljuy+4hhNOAIXhY8gAEDQ6HR79Or71Vpf5FDV8VOSpOHR\n",
              "kVo2O123ZhGOQE/hIwkA0O91uDza8n61Hi1yqPqENxzjB0fqrtkZuiUrWYMi+XIH9CSfP6KcTqfu\n",
              "u+8+vfXWW4qKitLll1+uZ5991h/bAAD4Wh0uj155zxuOhxu/CEez7p6TrluuStHAyPAALwSCk88B\n",
              "+fOf/1wmk0mHDh2SyWRSbW2tP3YBAPCVnC63Xt5XrQ3FJd3hOCLGrLvnZGjR9GTCEfAznwLy5MmT\n",
              "evrpp1VdXS2TySRJGjVqlF+GAQDwz5wut17aV60NRQ4daWqXJI2MMWt5ToYWTk9W1ADCEegNPgVk\n",
              "SUmJhg0bpjVr1qigoEADBw7UAw88IJvN9qVznU6nnE7nWcfcbvfFrQUAhKT2Trde2lelx4pKVNvs\n",
              "DceEWLOWz8nQDwlHoNf5FJAul0sVFRWaMGGCfvOb32j//v2aP3++Dh48qISEhLPOfeihh/Tggw+e\n",
              "dSwrK+viFwMAQkZ7p1t/erdSG7aV6Giz96LEqNgo3TM3QzdfmUQ4AgFiMgzDON+T6+vrlZCQoI6O\n",
              "DoWHez9op02bpoceeki5ublnnXuuK5D333+/8vPze2A2ACCYtXe69fyeSj2+rUR1Ld6vJaOHROme\n",
              "uRbdfGWizBGEIxBIPl2BjI+Pl81m01tvvaVrr71WZWVlKisr0/jx4790rtlsltlsPuvYF9EJAMC5\n",
              "tHe69VxXOB7rCsexcQO1PCdDPyAcgT7D51dhP/7447rjjjv0s5/9TGFhYXriiSc0duxYf2wDAISI\n",
              "Ux1uPbenQo9vK1V96+lwvHeuRTdNTVRkRFiAFwI4k88BmZ6erqKiIn9sAQCEmLYOl559p0Ibt5eq\n",
              "vrVDkpQ4dKBWzLVowRTCEeir+NH8AIBe19bh0jO7veHYcNIbjknDTofjgHDCEejLCEgAQK856XTp\n",
              "j7sr9OSOUh3vCseU4YN071yLvn/FWMIR6CcISACA37U6Xdr8drme2lGqE22dkrzhuHKeVTdMHqMI\n",
              "whHoVwhIAIDftLR3dl9xbOwKx7T4aK2Ya9H1hCPQbxGQAIAe19zeqc27yvXUzjI1nfKGY3p8tFba\n",
              "LLpuEuEI9HcEJACgxzS3d2rTznI9vbNUze0uSVL6iGjl2az67qQxCg8zBXghgJ5AQAIALlrTqU5t\n",
              "2lWm3+8s6w5Hy8jBWjnPQjgCQYiABABcsKa2Tj29q0ybdpWppSscrSMHa5XNqmsnjiYcgSBFQAIA\n",
              "fNbY1qGnd5bpD7vK1eL0hmNmQlc4XjZaYYQjENQISADAeTtxsisc3y5Xa1c4XjIqRqtsVn370lGE\n",
              "IxAiCEgAwDc6frJDT+0o1ea3y3Wywy3JG46rc6361gTCEQg1BCQA4Cs1tDr15I4y/XF3udq6wnHC\n",
              "6Fitsln1rQkJhCMQoghIAMCXNLQ6tXFHqZ7ZXdEdjpeOiVWezar5ExJkMhGOQCgjIAEA3epbndq4\n",
              "3RuOpzq94XjZ2FittmXKNn4k4QhAEgEJAJBU19KujdtK9eyeCrV3eiRJkxKHKM9m1bxLCEcAZyMg\n",
              "ASCE1bW064ltpXrujHC8PClOq21W5YwbQTgCOCcCEgBCUF1zuzZsK9HzeyrldHnDcXJSnFbnWjUn\n",
              "k3AE8PUISAAIIbVN7Xp8W4mef7dSHV3hOCU5Tnm5mZptjSccAZwXAhIAQkBN0yltKC7Rn/ZWdYfj\n",
              "1JShWp1r1UwL4QjANwQkAASxI43ecHxxb5U63N5wnJY6VHm2TGVbhhOOAC4IAQkAQehw4yk9VuTQ\n",
              "y/uqu8NxetowrbZZNSODcARwcQhIAAgi1Sfa9FhxiV7eV6VOtyFJuiptmFbnZmpGxvAArwMQLAhI\n",
              "AAgCVcfb9FixQ6+8V90djjPShysv16qsdMIRQM8iIAGgH6tsaNOjRQ5teb9aLo83HLMtw5Vny9T0\n",
              "tGEBXgcgWBGQANAPVTa0aX2RXVvePyx3VzjOtMQrL9eqaamEIwD/IiABoB8prz+p9UUOvbb/dDjO\n",
              "ssZrda5VU1MIRwC9g4AEgH6grP6k1m216y8fHOkOx9mZI5Rns2pqytAArwMQaghIAOjDSo+1av1W\n",
              "h/78wWF1daNyxnnD8YpkwhFAYBCQANAHOepatX6rXf/74ZHucJx3yUitslk1OSkuoNsAgIAEgD7E\n",
              "UdeitYUOvf7RERld4WjrCsfLCUcAfQQBCQB9gP1oi9ZudeivZ4Rj7vgE5dmsmpg4JLDjAOCfEJAA\n",
              "EECf17Zo7Va73jhQ0x2O35qQoFU2qy4bSzgC6JsISAAIgM9qm7Wu0KG/HajpPvbtS0dppc2iS8cQ\n",
              "jgD6NgISAHrRpzXNWlto15sf13Yfu+ayUVpls2r86NgALgOA80dAAkAvOHikSWsL7Xrr4FFJkskk\n",
              "XXvZaK20WXTJKMIRQP9CQAKAH3182BuOf//kdDh+Z+JorbJZlZkQE+B1AHBhCEgA8IMD1U3KL7Sr\n",
              "4NPT4fjdSWO0ap5FVsIRQD9HQAJAD/qoulH5BXYVflYnSQozSdddPkYr51lkGUk4AggOBCQA9IAP\n",
              "qxqVX2jX1jPC8frJY7VinkUZIwYHeB0A9CwCEgAuwv7KE8ovtKv482OSvOF4Q1c4phOOAIIUAQkA\n",
              "F+C9Cm84bj/kDcfwMFN3OKbFRwd4HQD4FwEJAD54r+K4Himwa4e9XpI3HBdcMVb3zrUolXAEECII\n",
              "SAA4D3vLjyu/wK6dDm84RoSZtGCKNxxThhOOAEILAQkAX+PdsuPKLzykXY4GSd5wvGlqou6da1HS\n",
              "sEEBXgcAgUFAAsA5vFPaoPwCu3aXng7HH1yZpHtyMghHACGPgASAM+wuadAjBYe0p+y4JGlA+Olw\n",
              "TBxKOAKAREACgAzD8IZjoV3vdoVjZHiYbp6WqOU5Fo2NGxjghQDQtxCQAEKWYRja5WhQfuEh7S0/\n",
              "Ickbjj+cnqS752RoDOEIAOdEQAIIOYZhaKejXo8U2PVeRVc4RoRp4bQk3Z2TodFDCEcA+DoEJICQ\n",
              "YRiGttvrlV9wSO9XNkryhuOi6clanpOhhNiowA4EgH6CgAQQ9AzD0LZDx/RIgV0fVDVKkswRYbrl\n",
              "qhTdPSddIwlHAPAJAQkgaBmGoeLPj+mRQrs+7ArHqAHecLxrTrpGxhCOAHAhCEgAQccwDG39rE75\n",
              "hXZ9VN0kyRuOP8pK0bLZGRoRYw7wQgDo3y44IDdt2qQlS5botdde0w033NCDkwDgwhiGocJPveF4\n",
              "4LA3HAcOCNdtM1J05+x0xQ8mHAGgJ1xQQJaXl+vJJ59UVlZWT+8BAJ8ZhqF/fHJUa7fa9fHhZknS\n",
              "oMhw/WhGipbNStdwwhEAepTPAenxeLR06VKtW7dO9913nz82AcB58XgM/f2To1pbaNcnNd5wjI4M\n",
              "121Xp+rOWekaFh0Z4IUAEJx8DsiHH35Y2dnZmjp16tee53Q65XQ6zzrmdrt9vTkA+BJvONbqkQK7\n",
              "PqttkeQNx8XZqVo6M11DCUcA8CufAvLjjz/Wli1btH379m8896GHHtKDDz541jGe8gZwMTweQ/93\n",
              "sFZrC0+H42BzhBZfnao7ZqYRjgDQS3wKyB07dqi8vFxWq1WSVFtbq2XLlqmmpkbLly8/69xf/OIX\n",
              "+slPfnLWsfvvv/8i5wIIRR6PoTc+rtG6Qoc+P+oNxxhzhH6cnaolM9MUN4hwBIDe5FNALl++/KxQ\n",
              "zMnJ0erVq8/5Kmyz2Syz+exvXA8PD7+wlQBCkttj6I0DNVpbaJe9rlWSFBMVoSXZaVqSnaYhgwYE\n",
              "eCEAhCZ+DiSAPsftMfTXj45o3VaHHF3hGBsVoSUz0/Tj7DQNGUg4AkAgXVRAFhcX99AMAPCG4+sf\n",
              "HtG6rXaVHDspyRuOS2ela3F2qmKjCEcA6Au4Agkg4Fxuj17/6IjWFTpUWu8NxyEDB2jpzDTdTjgC\n",
              "QJ9DQAIIGJfbo798cETrixwq6wrHuEEDdOesdN02I0UxhCMA9EkEJIBe53J79Nr+w3q0yKHyhjZJ\n",
              "0tBBA3Tn7HTdNiNVg818agKAvozP0gB6TWdXOK7f6lDlcW84DouO7L7iGE04AkC/wGdrAH7X6fbo\n",
              "1fertb7IoarjpyRJw6MjtWx2um7NIhwBoL/hszYAv+lwebTl/Wo9WuRQ9QlvOMYPjtRdszN0S1ay\n",
              "BkXyKQgA+iM+ewPocR0uj155zxuOhxu/CEez7p6TrluuStHASH6pAAD0ZwQkgB7jdLn18r5qbSgu\n",
              "6Q7HETFm3T0nQ4umJxOOABAkCEgAF83pcuulvVV6rLhENU3tkqSRMWYtz8nQwunJihpAOAJAMCEg\n",
              "AVyw9k63XtpXpceKSlTb7A3HhFizls/J0A8JRwAIWgQkAJ+1d7r1p3crtWFbiY42OyVJo2KjdM/c\n",
              "DN18ZRLhCABBjoAEcN7aO916fk+lHt9WoroWbziOHhKle3IydPO0JJkjCEcACAUEJIBv1N7p1nNd\n",
              "4XisKxzHDInSPXMt+sGViYQjAIQYAhLAVzrV4dZzeyr0+LZS1bd6w3Fs3EDdO9eim6YmKjIiLMAL\n",
              "AQCBQEAC+JK2DpeefadCG7eXqr61Q5KUONQbjjdOIRwBINQRkAC6tXW49Mxubzg2nPSGY9KwgVox\n",
              "16IFUxI1IJxwBAAQkAAknXS69MfdFXpyR6mOd4Vj8rBBWjHPou9fMZZwBACchYAEQlir06XNb5fr\n",
              "qR2lOtHWKUlKGT5IK+ZadAPhCAD4CgQkEIJa2ju7rzg2doVjWny0Vsy16PrJYxRBOAIAvgYBCYSQ\n",
              "5vZObd5Vrqd2lqnplDcc0+OjtdJm0XWTCEcAwPkhIIEQ0NzeqU07y/X0zlI1t7skSekjorVqnlXX\n",
              "XT5G4WGmAC8EAPQnBCQQxJpOdWrTrjL9fmdZdzhaRg7WynkWfXcS4QgAuDAEJBCEmto69fSuMm3a\n",
              "VaaWrnC0jhysVTarrp04mnAEAFwUAhIIIo1tHXp6Z5n+sKtcLU5vOGYmdIXjZaMVRjgCAHoAAQkE\n",
              "gRMnu8Lx7XK1doXjuIQY5eVa9e1LRxGOAIAeRUAC/djxkx16akepNr9drpMdbknSJaNilGez6v8R\n",
              "jgAAPyEggX6oodWpJ3eU6Y+7y9XWFY7jR8cqz2bVtyYkEI4AAL8iIIF+pKHVqY07SvXM7orucLx0\n",
              "jDcc509IkMlEOAIA/I+ABPqB+lanNm73huOpTm84XjY2Vnm2TOWOH0k4AgB6FQEJ9GF1Le3auK1U\n",
              "z+6pUHunR5I0KXGI8mxWzbuEcAQABAYBCfRBdS3temJbqZ47IxwvTxyi1bmZyhk3gnAEAAQUAQn0\n",
              "IXXN7dqwrUTP76mU0+UNx8lJccrLtSonk3AEAPQNBCTQB9Q2tevxbSV6/t1KdXSF45TkOOXlZmq2\n",
              "NZ5wBAD0KQQkEEA1Taf0eHGJXthb1R2OU1OGanWuVTMthCMAoG8iIIEAONJ4ShuKS/Ti3ip1uL3h\n",
              "OC11qPJsmcq2DCccAQB9GgEJ9KLDjaf0WJFDL++r7g7H6WnDtNpm1YwMwhEA0D8QkEAvqD7RpseK\n",
              "S/Tyvip1ug1J0lVpw7Q6N1MzMoYHeB0AAL4hIAE/qjrepseKHXrlverucJyRPlx5uVZlpROOAID+\n",
              "iYAE/KCyoU2PFjm05f1quTzecMy2DFeeLVPT04YFeB0AABeHgAR6UGVDm9YX2bXl/cNyd4XjTEu8\n",
              "8nKtmpZKOAIAggMBCfSA8vqTWl/k0Gv7T4fjLGu8VudaNTWFcAQABBcCErgIZfUntW6rXX/54Eh3\n",
              "OM7JHKFVNqumpgwN8DoAAPyDgAQuQOmxVq3f6tCfPzisrm5UzrgRyrNZdUUy4QgACG4EJOADR12r\n",
              "1m+1638/PNIdjvMuGalVNqsmJ8UFdBsAAL2FgATOg6OuRWsLHXr9oyMyusIxd7w3HCclxgV0GwAA\n",
              "vY2ABL6G/WiL1m516K9nhWOC8mxWTUwcEthxAAAECAEJnMPntS1au9WuNw7UdIfjtyYkaJXNqsvG\n",
              "Eo4AgNBGQAJn+Ky2WWsL7XrjQG33sW9fOkorbRZdOoZwBABAIiABSdKnNd5wfPPj0+F4zWWjtMpm\n",
              "1fjRsQFcBgBA30NAIqQdPNKktYV2vXXwqCTJZJKuvWy0VtosumQU4QgAwLkQkAhJHx9uUn6hXf/4\n",
              "5HQ4fmfiaK2yWZWZEBPgdQAA9G0EJELKgeom5RceUsGndZK84fjdSWO0ap5FVsIRAIDzQkAiJHxU\n",
              "3aj8ArsKP/OGY5hJuu7yMVo5zyLLSMIRAABf+BSQ7e3t+uEPf6hPPvlEAwcO1MiRI7VhwwZZLBZ/\n",
              "7QMuygdVjcovOKSiz49J8obj9ZPHasU8izJGDA7wOgAA+iefr0AuW7ZM11xzjUwmk9avX6+lS5eq\n",
              "uLjYD9OAC/d+5QnlF9i17dDpcLyhKxzTCUcAAC6KTwEZFRWla6+9tvvtrKws/e53v+vxUcCFeq/i\n",
              "hPIL7dreFY7hYabucEyLjw7wOgAAgsNFfQ9kfn6+rr/++nO+z+l0yul0nnXM7XZfzM0BX2lf+XHl\n",
              "F9q1w14vyRuOC64Yq3vnWpRKOAIA0KMuOCDXrFkjh8OhwsLCc77/oYce0oMPPnjWsaysrAu9OeCc\n",
              "3i07rvzCQ9rlaJDkDccbp3jDMWU44QgAgD+YDOOL3/R7/n73u9/pT3/6kwoKChQXF3fOc851BfL+\n",
              "++9Xfn7+BQ0FzrSntEH5hXa9XeINx4gwk26amqh751qUNGxQgNcBABDcfL4C+fDDD+uFF1742niU\n",
              "JLPZLLPZfNax8PBwnwcCZ9pd0qD8wkN6p/S4JG84/uDKJN2Tk0E4AgDQS3wKyOrqat13331KT0/X\n",
              "3LlzJXlDcc+ePX4ZB0iSYRjaXdqg/AK79pR5w3FA+OlwTBxKOAIA0Jt8CsjExERdwDPewAUxDENv\n",
              "l3jD8d1ybzhGhofp5mmJWp5j0di4gQFeCABAaOI30aDPMQxDuxwNeqTgkPZVnJDkDcd/mZak5TkZ\n",
              "GkM4AgAQUAQk+gzDMLTDXq/8Qrve+yIcI8K0cFqS7s7J0OghhCMAAH0BAYmAMwxD2w4dU36hXfsr\n",
              "GyV5w3HR9GQtz8lQQmxUYAcCAICzEJAIGMMwVHzomPIL7PqgqlGSZI4I0y1XpejuOekaSTgCANAn\n",
              "EZDodYZhqOjzOuUX2PVhdZMkKWqANxzvmpOukTGEIwAAfRkBiV5jGIa2flan/EK7PjojHH+UlaJl\n",
              "szM0Isb8DX8DAADoCwhI+J1hGCr4tE5rC+06cNgbjgMHhOu2GSm6c3a64gcTjgAA9CcEJPzGMAz9\n",
              "/ZOjWlto18EjzZKkQZHh+tGMFC2bla7hhCMAAP0SAYke5/F4wzG/0K5Pa7zhGB0ZrtuuTtWds9I1\n",
              "LDoywAsBAMDFICDRYzweQ28drFV+oV2f1bZI8obj4uxU3TGTcAQAIFgQkLhoHo+hNz+u1dpCuz4/\n",
              "6g3HweYILb46VXfMTNNQwhEAgKBCQOKCeTyG3vi4RmsL7Tp0tFWSFGOO0I+zU7VkZpriBhGOAAAE\n",
              "IwISPnN7DP3tQI3WFdplr+sKx6gILclO05LsNA0ZNCDACwEAgD8RkDhvbo+hv350ROu2OuToCsfY\n",
              "qAgtmZmmH2enachAwhEAgFBAQOIbuT2GXv/wiNZutav02ElJ0pCBA3THzDQtzk5VbBThCABAKCEg\n",
              "8ZVcbo/+98MjWr/VodJ6bzjGDRqgpTPTdPvVqYohHAEACEkEJL7E5fbozx8c0aNFDpWdEY53zkrX\n",
              "bTNSCEcAAEIcAYluLrdHr+0/rPVFDlU0tEmShg4aoDtnp+u2GakabOY/FwAAQEBCUqfbo9fe94Zj\n",
              "5XFvOA6LjtSy2en6UVaKoglHAABwBsoghHW6PXr1/WqtL3Ko6vgpSdLwrnC8lXAEAABfgUIIQR0u\n",
              "j7a8X61HixyqPuENx/jBkbprdoZuyUrWoEj+swAAAF+NUgghHS6PXn6vSo8Vlehw4xfhaNbdc9J1\n",
              "y1UpGhgZHuCFAACgPyAgQ4DT5dbL+6r1WJFDR5raJUkjYsy6e06GFk1PJhwBAIBPCMgg5nS59dLe\n",
              "Kj1WXKKarnAcGWPW8pwMLZyerKgBhCMAAPAdARmE2jvdenFvlTYUl6i22RuOo2KjtDwnQ/8yLYlw\n",
              "BAAAF4WADCLtnW796d1KbdhWoqPNTknS6CHecLz5SsIRAAD0DAIyCLR3uvX8nko9vq1EdS3ecBwz\n",
              "JErL51p085WJMkcQjgAAoOcQkP3YqQ63nttToSe2l+pYVziOjRuoe+Zm6KaphCMAAPAPArIf+iIc\n",
              "H99WqvrW0+F471yLbpqaqMiIsAAvBAAAwYyA7EfaOlx69p0KbdxeqvrWDklS4tCBWjHXogVTCEcA\n",
              "ANA7CMh+4KTTpWfeqdCT20vVcNIbjknDBmrlXKu+P2WsBoQTjgAAoPcQkH3YSadLf9xdoSd3lOp4\n",
              "VzimDB+ke+da9P0rCEcAABAYBGQf1Op0afPb5XpqR6lOtHVKklKHD9KKeVbdMHmMIghHAAAQQARk\n",
              "H9LS3ukNx51lauwKx7T4aK2cZ9H3LiccAQBA30BA9gHN7Z3avMsbjk2nvOGYHh+tlTaLrptEOAIA\n",
              "gL6FgAyg5vZObdpZrqd3lqq53SVJyhgRrVU2q747aYzCw0wBXggAAPBlBGQANJ3q1O93lun3u8rU\n",
              "0hWOlpGDtcpm1XcmjiYcAQBAn0ZA9qKmtk49vatMm84IR2tXOF5LOAIAgH6CgOwFjW0denpnmf6w\n",
              "q1wtTm84ZiYMVp4tU9dcNkphhCMAAOhHCEg/OnGyKxzfLldrVzheMipGq2xWfftSwhEAAPRPBKQf\n",
              "HD/Zoad2lGrz2+U62eGWJI0fHas8m0XfmkA4AgCA/o2A7EENrU49uaNMf9xdrraucJwwOlZ5uVbN\n",
              "H59AOAIAgKBAQPaAhlanNu4o1TO7K7rD8dIxscqzWTV/QoJMJsIRAAAEDwLyItS3OrVxuzccT3V6\n",
              "w3Hi2CHKs1llGz+ScAQAAEGJgLwAdS3t2ritVM/uqVB7p0eSNClxiFbnWjV3HOEIAACCGwHpg7qW\n",
              "dj2xrVTPnRGOlyfFabXNqpxxIwhHAAAQEgjI81DX3K4N20r0/J5KOV3ecJycFKfVuVbNySQcAQBA\n",
              "aCEgv0ZtU7se31ai59+tVEdXOE5JjlNebqZmW+MJRwAAEJIIyHOoaTqlx4tL9MLequ5wvDJlqPJy\n",
              "rZppIRwBAEBoIyDPcKTxlDYUl+jFvVXqcHvDcVrqUK3OzdTVGcMJRwAAABGQkqTDjae0odihl/ZW\n",
              "d4fj9LRhWm2zagbhCAAAcJaQDsjqE216rLhEL++rUqfbkCRdlTZMq3MzNSNjeIDXAQAA9E0hGZBV\n",
              "x9v0WLFDr7xX3R2OM9KHKy/Xqqx0whEAAODr+ByQdrtdt99+u+rr6zVkyBD94Q9/0KWXXuqPbT2u\n",
              "6nibHi3yhqPL4w3HbMtw5dkyNT1tWIDXAQAA9A8+B+Rdd92lZcuWafHixXrllVe0ePFi7d271x/b\n",
              "ekxlQ5vWF9n16vuHu8NxpiVeeblWTUslHAEAAHzhU0DW1dVp3759+vvf/y5JuvHGG7VixQo5HA5Z\n",
              "LBa/DLwY5fUntb7Iodf2H5a7KxxnWeO1OteqqSmEIwAAwIXwKSCrqqo0evRoRUR4/5jJZFJycrIq\n",
              "Kyu/FJBOp1NOp/OsY263+yLnnp+65nb91/99rj9/cDoc52SO0CqbVVNThvbKBgAAgGDltxfRPPTQ\n",
              "Q3rwwQfPOpaVleWvmztLRHiY3vy4Rm6PoZxxI5Rns+qKZMIRAACgJ5gMwzDO9+S6ujpZLBYdP35c\n",
              "ERERMgxDo0eP1s6dO8/rCuT999+v/Pz8nln+DV59v1rpIwZrclJcr9weAABAqAjz5eSRI0dqypQp\n",
              "evbZZyVJW7ZsUWJi4jm//9FsNis2Nvasf8LDw3tm9XlYMCWReAQAAPADn5/CfuKJJ7R48WKtWbNG\n",
              "sbGx2rRpkz92AQAAoI/yOSDHjRun3bt3+2MLAAAA+gGfnsIGAAAACEgAAAD4hIAEAACATwhIAAAA\n",
              "+ISABAAAgE8ISAAAAPiEgAQAAIBPCEgAAAD4hIAEAACAT0yGYRi9dWMLFixQampqr9yW2+3Wu+++\n",
              "q+nTp/fq7+BG4PCYhyYe99DDYx56eMx7V0pKivLy8r72nF4NyN7U3NysIUOGqKmpSbGxsYGeg17A\n",
              "Yx6aeNxDD4956OEx73t4ChsAAAA+ISABAADgEwISAAAAPgnagDSbzfr3f/93mc3mQE9BL+ExD008\n",
              "7qGHxzz08Jj3PUH7IhoAAAD4R9BegQQAAIB/EJAAAADwCQEJAAAAnwRlQNrtdl199dXKzMzUtGnT\n",
              "dPDgwUBPgp+1t7frhhtuUGZmpi6//HLNnz9fDocj0LPQSzZt2iSTyaQ///nPgZ4CP3M6nVqxYoWs\n",
              "VqsmTpyoW2+9NdCT4GdvvPGGpkyZosmTJ+uyyy7T5s2bAz0JkiICPcAf7rrrLi1btkyLFy/WK6+8\n",
              "osWLF2vv3r2BngU/W7Zsma655hqZTCatX79eS5cuVXFxcaBnwc/Ky8v15JNPKisrK9BT0At+/vOf\n",
              "y2Qy6dChQzKZTKqtrQ30JPiRYRi69dZbVVxcrEmTJqm8vFyXXHKJFixYoJiYmEDPC2lBdwWyrq5O\n",
              "+/bt6/6/0htvvFFVVVVcjQpyUVFRuvbaa2UymSRJWVlZKi8vD+wo+J3H49HSpUu1bt06frxHCDh5\n",
              "8qSefvpp/ed//mf3x/qoUaMCvAr+ZjKZ1NjYKMn7Kw2HDx/Ox3sfEHQBWVVVpdGjRysiwntx1WQy\n",
              "KTk5WZWVlQFeht6Un5+v66+/PtAz4GcPP/ywsrOzNXXq1EBPQS8oKSnRsGHDtGbNGl155ZWaNWuW\n",
              "CgsLAz0LfmQymfTiiy9qwYIFSklJ0cyZM7V582ZFRkYGelrIC8qnsBHa1qxZI4fDwReWIPfxxx9r\n",
              "y5Yt2r59e6CnoJe4XC5VVFRowoQJ+s1vfqP9+/dr/vz5OnjwoBISEgI9D37gcrn061//Wq+++qpm\n",
              "z56tvXv36nvf+54OHDig+Pj4QM8LaUF3BTIpKUk1NTVyuVySvN8/UVlZqeTk5AAvQ2/43e9+p1df\n",
              "fVVvvvmmBg0aFOg58KMdO3aovLxcVqtVqampeuedd7Rs2TJt2LAh0NPgJ8nJyQoLC9Mtt9wiSbri\n",
              "iiuUlpamAwcOBHgZ/OWDDz7QkSNHNHv2bEnStGnTlJiYqP379wd4GYIuIEeOHKkpU6bo2WeflSRt\n",
              "2bJFiYmJslgsAV4Gf3v44Yf1wgsv6B//+Ifi4uICPQd+tnz5ctXU1Ki8vFzl5eXKysrSxo0btXz5\n",
              "8kBPg5/Ex8fLZrPprbfekiSVlZWprKxM48ePD/Ay+MsXF4U+/fRTSZLD4VBJSYnGjRsX4GUIyl9l\n",
              "+Pnnn2vx4sVqaGhQbGysNm3apIkTJwZ6FvyourpaSUlJSk9P735lntls1p49ewK8DL0lJydHq1ev\n",
              "1g033BDoKfCj0tJS3XHHHaqvr1dYWJj+7d/+TTfeeGOgZ8GPXnjhBa1Zs0ZhYWHyeDz6xS9+oUWL\n",
              "FgV6VsgLyoAEAACA/wTdU9gAAADwLwISAAAAPiEgAQAA4BMCEgAAAD4hIAEAAOATAhIAAAA+ISAB\n",
              "AADgEwISAAAAPiEgAQAA4BMCEgAAAD4hIAEAAOCT/w9i/9+t+Wm5RwAAAABJRU5ErkJggg==\n",
              "\">\n",
              "      </div>\n",
              "      <script type=\"text/javascript\">\n",
              "        (() => {\n",
              "          const chartElement = document.getElementById(\"chart-d0b25a16-6443-421c-bbc0-d52465e6c48e\");\n",
              "          async function getCodeForChartHandler(event) {\n",
              "            const chartCodeResponse =  await google.colab.kernel.invokeFunction(\n",
              "                'getCodeForChart', [\"chart-d0b25a16-6443-421c-bbc0-d52465e6c48e\"], {});\n",
              "            const responseJson = chartCodeResponse.data['application/json'];\n",
              "            await google.colab.notebook.addCell(responseJson.code, 'code');\n",
              "          }\n",
              "          chartElement.onclick = getCodeForChartHandler;\n",
              "        })();\n",
              "      </script>\n",
              "      <style>\n",
              "        .colab-quickchart-chart-with-code  {\n",
              "            display: block;\n",
              "            float: left;\n",
              "            border: 1px solid transparent;\n",
              "        }\n",
              "\n",
              "        .colab-quickchart-chart-with-code:hover {\n",
              "            cursor: pointer;\n",
              "            border: 1px solid #aaa;\n",
              "        }\n",
              "      </style>"
            ]
          },
          "metadata": {}
        }
      ]
    },
    {
      "cell_type": "markdown",
      "source": [
        "🌐 Step 3 – Collect Real-Time Data"
      ],
      "metadata": {
        "id": "Vi8vaYerXaLK"
      }
    },
    {
      "cell_type": "code",
      "source": [
        "# Wikipedia\n",
        "try:\n",
        "    summary = wikipedia.summary(company, sentences=3)\n",
        "except:\n",
        "    summary = \"No Wikipedia summary found.\"\n",
        "\n",
        "# Yahoo Finance\n",
        "try:\n",
        "    ticker = yf.Ticker(company)\n",
        "    market_data = ticker.history(period=\"1mo\")[[\"Close\"]]\n",
        "    if market_data.empty:\n",
        "        raise ValueError\n",
        "except:\n",
        "    print(\"⚠️ Could not fetch Yahoo Finance data; using TSLA as fallback.\")\n",
        "    market_data = yf.Ticker(\"TSLA\").history(period=\"1mo\")[[\"Close\"]]\n",
        "\n",
        "# Google News RSS\n",
        "feed = feedparser.parse(f\"https://news.google.com/rss/search?q={company}\")\n",
        "headlines = [entry.title for entry in feed.entries]\n",
        "\n",
        "# Synthetic tweets\n",
        "tweets = [f\"{company} is doing great! Love the innovation #{i}\" for i in range(25)] + \\\n",
        "         [f\"{company} is facing issues lately #{i}\" for i in range(25)]\n",
        "\n",
        "print(\"✅ Data collected successfully.\")\n"
      ],
      "metadata": {
        "colab": {
          "base_uri": "https://localhost:8080/"
        },
        "id": "KWUxoOihXXVH",
        "outputId": "523b2476-d7bb-40bd-e00f-d407e8332413"
      },
      "execution_count": 54,
      "outputs": [
        {
          "output_type": "stream",
          "name": "stderr",
          "text": [
            "ERROR:yfinance:$TESLA: possibly delisted; no price data found  (period=1mo) (Yahoo error = \"No data found, symbol may be delisted\")\n"
          ]
        },
        {
          "output_type": "stream",
          "name": "stdout",
          "text": [
            "⚠️ Could not fetch Yahoo Finance data; using TSLA as fallback.\n",
            "✅ Data collected successfully.\n"
          ]
        }
      ]
    },
    {
      "cell_type": "markdown",
      "source": [
        "🧹 Step 4 – Pre-Process"
      ],
      "metadata": {
        "id": "aR3mwnndX538"
      }
    },
    {
      "cell_type": "code",
      "source": [
        "def clean_text(text):\n",
        "    text = re.sub(r\"http\\S+\", \"\", text)\n",
        "    text = re.sub(r\"[^A-Za-z\\s]\", \"\", text)\n",
        "    return text.lower().strip()\n",
        "\n",
        "data = {\n",
        "    \"Source\": [\"Wikipedia\"] + [\"News\"] * len(headlines) + [\"Tweet\"] * len(tweets),\n",
        "    \"Text\": [summary] + headlines + tweets\n",
        "}\n",
        "df = pd.DataFrame(data)\n",
        "df[\"Cleaned_Text\"] = df[\"Text\"].apply(clean_text)\n"
      ],
      "metadata": {
        "id": "_YVmj7RaX9ni"
      },
      "execution_count": 55,
      "outputs": []
    },
    {
      "cell_type": "markdown",
      "source": [
        "🤖 Step 5 – Sentiment Analysis (TextBlob for speed)"
      ],
      "metadata": {
        "id": "hGPUjkNeYCD-"
      }
    },
    {
      "cell_type": "code",
      "source": [
        "df[\"Polarity\"] = df[\"Cleaned_Text\"].apply(lambda x: TextBlob(x).sentiment.polarity)\n",
        "df[\"Sentiment\"] = df[\"Polarity\"].apply(\n",
        "    lambda p: \"Positive\" if p > 0 else \"Negative\" if p < 0 else \"Neutral\"\n",
        ")\n"
      ],
      "metadata": {
        "id": "YSOT-_AbYC3T"
      },
      "execution_count": 56,
      "outputs": []
    },
    {
      "cell_type": "markdown",
      "source": [
        "📊 Step 6 – Interactive Visualizations (Plotly)"
      ],
      "metadata": {
        "id": "xMmU6R20YG9e"
      }
    },
    {
      "cell_type": "markdown",
      "source": [
        "① Sentiment Distribution"
      ],
      "metadata": {
        "id": "gyJPZCE3YnJt"
      }
    },
    {
      "cell_type": "code",
      "source": [
        "sent_counts = df[\"Sentiment\"].value_counts().reset_index()\n",
        "sent_counts.columns = [\"Sentiment\", \"Count\"]\n",
        "\n",
        "fig1 = px.bar(\n",
        "    sent_counts,\n",
        "    x=\"Sentiment\", y=\"Count\", color=\"Sentiment\",\n",
        "    title=\"Sentiment Distribution\", text=\"Count\",\n",
        "    color_discrete_map={\"Positive\":\"green\",\"Negative\":\"red\",\"Neutral\":\"gray\"}\n",
        ")\n",
        "fig1.update_layout(xaxis_title=\"Sentiment Type\", yaxis_title=\"Number of Mentions\")\n",
        "fig1.show()\n"
      ],
      "metadata": {
        "colab": {
          "base_uri": "https://localhost:8080/",
          "height": 542
        },
        "id": "Qey7I82qYHla",
        "outputId": "35fedcf6-b6de-4d89-c0af-2e77f826fc91"
      },
      "execution_count": 57,
      "outputs": [
        {
          "output_type": "display_data",
          "data": {
            "text/html": [
              "<html>\n",
              "<head><meta charset=\"utf-8\" /></head>\n",
              "<body>\n",
              "    <div>            <script src=\"https://cdnjs.cloudflare.com/ajax/libs/mathjax/2.7.5/MathJax.js?config=TeX-AMS-MML_SVG\"></script><script type=\"text/javascript\">if (window.MathJax && window.MathJax.Hub && window.MathJax.Hub.Config) {window.MathJax.Hub.Config({SVG: {font: \"STIX-Web\"}});}</script>                <script type=\"text/javascript\">window.PlotlyConfig = {MathJaxConfig: 'local'};</script>\n",
              "        <script charset=\"utf-8\" src=\"https://cdn.plot.ly/plotly-2.35.2.min.js\"></script>                <div id=\"65dc825f-9a67-46bb-976a-c3f4cfdd7598\" class=\"plotly-graph-div\" style=\"height:525px; width:100%;\"></div>            <script type=\"text/javascript\">                                    window.PLOTLYENV=window.PLOTLYENV || {};                                    if (document.getElementById(\"65dc825f-9a67-46bb-976a-c3f4cfdd7598\")) {                    Plotly.newPlot(                        \"65dc825f-9a67-46bb-976a-c3f4cfdd7598\",                        [{\"alignmentgroup\":\"True\",\"hovertemplate\":\"Sentiment=%{x}\\u003cbr\\u003eCount=%{text}\\u003cextra\\u003e\\u003c\\u002fextra\\u003e\",\"legendgroup\":\"Positive\",\"marker\":{\"color\":\"green\",\"pattern\":{\"shape\":\"\"}},\"name\":\"Positive\",\"offsetgroup\":\"Positive\",\"orientation\":\"v\",\"showlegend\":true,\"text\":[60.0],\"textposition\":\"auto\",\"x\":[\"Positive\"],\"xaxis\":\"x\",\"y\":[60],\"yaxis\":\"y\",\"type\":\"bar\"},{\"alignmentgroup\":\"True\",\"hovertemplate\":\"Sentiment=%{x}\\u003cbr\\u003eCount=%{text}\\u003cextra\\u003e\\u003c\\u002fextra\\u003e\",\"legendgroup\":\"Neutral\",\"marker\":{\"color\":\"gray\",\"pattern\":{\"shape\":\"\"}},\"name\":\"Neutral\",\"offsetgroup\":\"Neutral\",\"orientation\":\"v\",\"showlegend\":true,\"text\":[52.0],\"textposition\":\"auto\",\"x\":[\"Neutral\"],\"xaxis\":\"x\",\"y\":[52],\"yaxis\":\"y\",\"type\":\"bar\"},{\"alignmentgroup\":\"True\",\"hovertemplate\":\"Sentiment=%{x}\\u003cbr\\u003eCount=%{text}\\u003cextra\\u003e\\u003c\\u002fextra\\u003e\",\"legendgroup\":\"Negative\",\"marker\":{\"color\":\"red\",\"pattern\":{\"shape\":\"\"}},\"name\":\"Negative\",\"offsetgroup\":\"Negative\",\"orientation\":\"v\",\"showlegend\":true,\"text\":[38.0],\"textposition\":\"auto\",\"x\":[\"Negative\"],\"xaxis\":\"x\",\"y\":[38],\"yaxis\":\"y\",\"type\":\"bar\"}],                        {\"template\":{\"data\":{\"histogram2dcontour\":[{\"type\":\"histogram2dcontour\",\"colorbar\":{\"outlinewidth\":0,\"ticks\":\"\"},\"colorscale\":[[0.0,\"#0d0887\"],[0.1111111111111111,\"#46039f\"],[0.2222222222222222,\"#7201a8\"],[0.3333333333333333,\"#9c179e\"],[0.4444444444444444,\"#bd3786\"],[0.5555555555555556,\"#d8576b\"],[0.6666666666666666,\"#ed7953\"],[0.7777777777777778,\"#fb9f3a\"],[0.8888888888888888,\"#fdca26\"],[1.0,\"#f0f921\"]]}],\"choropleth\":[{\"type\":\"choropleth\",\"colorbar\":{\"outlinewidth\":0,\"ticks\":\"\"}}],\"histogram2d\":[{\"type\":\"histogram2d\",\"colorbar\":{\"outlinewidth\":0,\"ticks\":\"\"},\"colorscale\":[[0.0,\"#0d0887\"],[0.1111111111111111,\"#46039f\"],[0.2222222222222222,\"#7201a8\"],[0.3333333333333333,\"#9c179e\"],[0.4444444444444444,\"#bd3786\"],[0.5555555555555556,\"#d8576b\"],[0.6666666666666666,\"#ed7953\"],[0.7777777777777778,\"#fb9f3a\"],[0.8888888888888888,\"#fdca26\"],[1.0,\"#f0f921\"]]}],\"heatmap\":[{\"type\":\"heatmap\",\"colorbar\":{\"outlinewidth\":0,\"ticks\":\"\"},\"colorscale\":[[0.0,\"#0d0887\"],[0.1111111111111111,\"#46039f\"],[0.2222222222222222,\"#7201a8\"],[0.3333333333333333,\"#9c179e\"],[0.4444444444444444,\"#bd3786\"],[0.5555555555555556,\"#d8576b\"],[0.6666666666666666,\"#ed7953\"],[0.7777777777777778,\"#fb9f3a\"],[0.8888888888888888,\"#fdca26\"],[1.0,\"#f0f921\"]]}],\"heatmapgl\":[{\"type\":\"heatmapgl\",\"colorbar\":{\"outlinewidth\":0,\"ticks\":\"\"},\"colorscale\":[[0.0,\"#0d0887\"],[0.1111111111111111,\"#46039f\"],[0.2222222222222222,\"#7201a8\"],[0.3333333333333333,\"#9c179e\"],[0.4444444444444444,\"#bd3786\"],[0.5555555555555556,\"#d8576b\"],[0.6666666666666666,\"#ed7953\"],[0.7777777777777778,\"#fb9f3a\"],[0.8888888888888888,\"#fdca26\"],[1.0,\"#f0f921\"]]}],\"contourcarpet\":[{\"type\":\"contourcarpet\",\"colorbar\":{\"outlinewidth\":0,\"ticks\":\"\"}}],\"contour\":[{\"type\":\"contour\",\"colorbar\":{\"outlinewidth\":0,\"ticks\":\"\"},\"colorscale\":[[0.0,\"#0d0887\"],[0.1111111111111111,\"#46039f\"],[0.2222222222222222,\"#7201a8\"],[0.3333333333333333,\"#9c179e\"],[0.4444444444444444,\"#bd3786\"],[0.5555555555555556,\"#d8576b\"],[0.6666666666666666,\"#ed7953\"],[0.7777777777777778,\"#fb9f3a\"],[0.8888888888888888,\"#fdca26\"],[1.0,\"#f0f921\"]]}],\"surface\":[{\"type\":\"surface\",\"colorbar\":{\"outlinewidth\":0,\"ticks\":\"\"},\"colorscale\":[[0.0,\"#0d0887\"],[0.1111111111111111,\"#46039f\"],[0.2222222222222222,\"#7201a8\"],[0.3333333333333333,\"#9c179e\"],[0.4444444444444444,\"#bd3786\"],[0.5555555555555556,\"#d8576b\"],[0.6666666666666666,\"#ed7953\"],[0.7777777777777778,\"#fb9f3a\"],[0.8888888888888888,\"#fdca26\"],[1.0,\"#f0f921\"]]}],\"mesh3d\":[{\"type\":\"mesh3d\",\"colorbar\":{\"outlinewidth\":0,\"ticks\":\"\"}}],\"scatter\":[{\"fillpattern\":{\"fillmode\":\"overlay\",\"size\":10,\"solidity\":0.2},\"type\":\"scatter\"}],\"parcoords\":[{\"type\":\"parcoords\",\"line\":{\"colorbar\":{\"outlinewidth\":0,\"ticks\":\"\"}}}],\"scatterpolargl\":[{\"type\":\"scatterpolargl\",\"marker\":{\"colorbar\":{\"outlinewidth\":0,\"ticks\":\"\"}}}],\"bar\":[{\"error_x\":{\"color\":\"#2a3f5f\"},\"error_y\":{\"color\":\"#2a3f5f\"},\"marker\":{\"line\":{\"color\":\"#E5ECF6\",\"width\":0.5},\"pattern\":{\"fillmode\":\"overlay\",\"size\":10,\"solidity\":0.2}},\"type\":\"bar\"}],\"scattergeo\":[{\"type\":\"scattergeo\",\"marker\":{\"colorbar\":{\"outlinewidth\":0,\"ticks\":\"\"}}}],\"scatterpolar\":[{\"type\":\"scatterpolar\",\"marker\":{\"colorbar\":{\"outlinewidth\":0,\"ticks\":\"\"}}}],\"histogram\":[{\"marker\":{\"pattern\":{\"fillmode\":\"overlay\",\"size\":10,\"solidity\":0.2}},\"type\":\"histogram\"}],\"scattergl\":[{\"type\":\"scattergl\",\"marker\":{\"colorbar\":{\"outlinewidth\":0,\"ticks\":\"\"}}}],\"scatter3d\":[{\"type\":\"scatter3d\",\"line\":{\"colorbar\":{\"outlinewidth\":0,\"ticks\":\"\"}},\"marker\":{\"colorbar\":{\"outlinewidth\":0,\"ticks\":\"\"}}}],\"scattermapbox\":[{\"type\":\"scattermapbox\",\"marker\":{\"colorbar\":{\"outlinewidth\":0,\"ticks\":\"\"}}}],\"scatterternary\":[{\"type\":\"scatterternary\",\"marker\":{\"colorbar\":{\"outlinewidth\":0,\"ticks\":\"\"}}}],\"scattercarpet\":[{\"type\":\"scattercarpet\",\"marker\":{\"colorbar\":{\"outlinewidth\":0,\"ticks\":\"\"}}}],\"carpet\":[{\"aaxis\":{\"endlinecolor\":\"#2a3f5f\",\"gridcolor\":\"white\",\"linecolor\":\"white\",\"minorgridcolor\":\"white\",\"startlinecolor\":\"#2a3f5f\"},\"baxis\":{\"endlinecolor\":\"#2a3f5f\",\"gridcolor\":\"white\",\"linecolor\":\"white\",\"minorgridcolor\":\"white\",\"startlinecolor\":\"#2a3f5f\"},\"type\":\"carpet\"}],\"table\":[{\"cells\":{\"fill\":{\"color\":\"#EBF0F8\"},\"line\":{\"color\":\"white\"}},\"header\":{\"fill\":{\"color\":\"#C8D4E3\"},\"line\":{\"color\":\"white\"}},\"type\":\"table\"}],\"barpolar\":[{\"marker\":{\"line\":{\"color\":\"#E5ECF6\",\"width\":0.5},\"pattern\":{\"fillmode\":\"overlay\",\"size\":10,\"solidity\":0.2}},\"type\":\"barpolar\"}],\"pie\":[{\"automargin\":true,\"type\":\"pie\"}]},\"layout\":{\"autotypenumbers\":\"strict\",\"colorway\":[\"#636efa\",\"#EF553B\",\"#00cc96\",\"#ab63fa\",\"#FFA15A\",\"#19d3f3\",\"#FF6692\",\"#B6E880\",\"#FF97FF\",\"#FECB52\"],\"font\":{\"color\":\"#2a3f5f\"},\"hovermode\":\"closest\",\"hoverlabel\":{\"align\":\"left\"},\"paper_bgcolor\":\"white\",\"plot_bgcolor\":\"#E5ECF6\",\"polar\":{\"bgcolor\":\"#E5ECF6\",\"angularaxis\":{\"gridcolor\":\"white\",\"linecolor\":\"white\",\"ticks\":\"\"},\"radialaxis\":{\"gridcolor\":\"white\",\"linecolor\":\"white\",\"ticks\":\"\"}},\"ternary\":{\"bgcolor\":\"#E5ECF6\",\"aaxis\":{\"gridcolor\":\"white\",\"linecolor\":\"white\",\"ticks\":\"\"},\"baxis\":{\"gridcolor\":\"white\",\"linecolor\":\"white\",\"ticks\":\"\"},\"caxis\":{\"gridcolor\":\"white\",\"linecolor\":\"white\",\"ticks\":\"\"}},\"coloraxis\":{\"colorbar\":{\"outlinewidth\":0,\"ticks\":\"\"}},\"colorscale\":{\"sequential\":[[0.0,\"#0d0887\"],[0.1111111111111111,\"#46039f\"],[0.2222222222222222,\"#7201a8\"],[0.3333333333333333,\"#9c179e\"],[0.4444444444444444,\"#bd3786\"],[0.5555555555555556,\"#d8576b\"],[0.6666666666666666,\"#ed7953\"],[0.7777777777777778,\"#fb9f3a\"],[0.8888888888888888,\"#fdca26\"],[1.0,\"#f0f921\"]],\"sequentialminus\":[[0.0,\"#0d0887\"],[0.1111111111111111,\"#46039f\"],[0.2222222222222222,\"#7201a8\"],[0.3333333333333333,\"#9c179e\"],[0.4444444444444444,\"#bd3786\"],[0.5555555555555556,\"#d8576b\"],[0.6666666666666666,\"#ed7953\"],[0.7777777777777778,\"#fb9f3a\"],[0.8888888888888888,\"#fdca26\"],[1.0,\"#f0f921\"]],\"diverging\":[[0,\"#8e0152\"],[0.1,\"#c51b7d\"],[0.2,\"#de77ae\"],[0.3,\"#f1b6da\"],[0.4,\"#fde0ef\"],[0.5,\"#f7f7f7\"],[0.6,\"#e6f5d0\"],[0.7,\"#b8e186\"],[0.8,\"#7fbc41\"],[0.9,\"#4d9221\"],[1,\"#276419\"]]},\"xaxis\":{\"gridcolor\":\"white\",\"linecolor\":\"white\",\"ticks\":\"\",\"title\":{\"standoff\":15},\"zerolinecolor\":\"white\",\"automargin\":true,\"zerolinewidth\":2},\"yaxis\":{\"gridcolor\":\"white\",\"linecolor\":\"white\",\"ticks\":\"\",\"title\":{\"standoff\":15},\"zerolinecolor\":\"white\",\"automargin\":true,\"zerolinewidth\":2},\"scene\":{\"xaxis\":{\"backgroundcolor\":\"#E5ECF6\",\"gridcolor\":\"white\",\"linecolor\":\"white\",\"showbackground\":true,\"ticks\":\"\",\"zerolinecolor\":\"white\",\"gridwidth\":2},\"yaxis\":{\"backgroundcolor\":\"#E5ECF6\",\"gridcolor\":\"white\",\"linecolor\":\"white\",\"showbackground\":true,\"ticks\":\"\",\"zerolinecolor\":\"white\",\"gridwidth\":2},\"zaxis\":{\"backgroundcolor\":\"#E5ECF6\",\"gridcolor\":\"white\",\"linecolor\":\"white\",\"showbackground\":true,\"ticks\":\"\",\"zerolinecolor\":\"white\",\"gridwidth\":2}},\"shapedefaults\":{\"line\":{\"color\":\"#2a3f5f\"}},\"annotationdefaults\":{\"arrowcolor\":\"#2a3f5f\",\"arrowhead\":0,\"arrowwidth\":1},\"geo\":{\"bgcolor\":\"white\",\"landcolor\":\"#E5ECF6\",\"subunitcolor\":\"white\",\"showland\":true,\"showlakes\":true,\"lakecolor\":\"white\"},\"title\":{\"x\":0.05},\"mapbox\":{\"style\":\"light\"}}},\"xaxis\":{\"anchor\":\"y\",\"domain\":[0.0,1.0],\"title\":{\"text\":\"Sentiment Type\"},\"categoryorder\":\"array\",\"categoryarray\":[\"Positive\",\"Neutral\",\"Negative\"]},\"yaxis\":{\"anchor\":\"x\",\"domain\":[0.0,1.0],\"title\":{\"text\":\"Number of Mentions\"}},\"legend\":{\"title\":{\"text\":\"Sentiment\"},\"tracegroupgap\":0},\"title\":{\"text\":\"Sentiment Distribution\"},\"barmode\":\"relative\"},                        {\"responsive\": true}                    ).then(function(){\n",
              "                            \n",
              "var gd = document.getElementById('65dc825f-9a67-46bb-976a-c3f4cfdd7598');\n",
              "var x = new MutationObserver(function (mutations, observer) {{\n",
              "        var display = window.getComputedStyle(gd).display;\n",
              "        if (!display || display === 'none') {{\n",
              "            console.log([gd, 'removed!']);\n",
              "            Plotly.purge(gd);\n",
              "            observer.disconnect();\n",
              "        }}\n",
              "}});\n",
              "\n",
              "// Listen for the removal of the full notebook cells\n",
              "var notebookContainer = gd.closest('#notebook-container');\n",
              "if (notebookContainer) {{\n",
              "    x.observe(notebookContainer, {childList: true});\n",
              "}}\n",
              "\n",
              "// Listen for the clearing of the current output cell\n",
              "var outputEl = gd.closest('.output');\n",
              "if (outputEl) {{\n",
              "    x.observe(outputEl, {childList: true});\n",
              "}}\n",
              "\n",
              "                        })                };                            </script>        </div>\n",
              "</body>\n",
              "</html>"
            ]
          },
          "metadata": {}
        }
      ]
    },
    {
      "cell_type": "markdown",
      "source": [
        "② Market Price Trend"
      ],
      "metadata": {
        "id": "2KwxKX8QYcCR"
      }
    },
    {
      "cell_type": "code",
      "source": [
        "fig2 = go.Figure()\n",
        "fig2.add_trace(go.Scatter(\n",
        "    x=market_data.index, y=market_data[\"Close\"],\n",
        "    mode=\"lines+markers\", name=\"Market Price\",\n",
        "    line=dict(width=2)\n",
        "))\n",
        "fig2.update_layout(\n",
        "    title=f\"{company} Market Price Trend (Last 30 Days)\",\n",
        "    xaxis_title=\"Date\", yaxis_title=\"Price (USD)\", hovermode=\"x\"\n",
        ")\n",
        "fig2.show()"
      ],
      "metadata": {
        "colab": {
          "base_uri": "https://localhost:8080/",
          "height": 542
        },
        "id": "5KV1aleJYPIY",
        "outputId": "72f6ccc0-9ed2-4399-fa5d-4944e1b5e98c"
      },
      "execution_count": 58,
      "outputs": [
        {
          "output_type": "display_data",
          "data": {
            "text/html": [
              "<html>\n",
              "<head><meta charset=\"utf-8\" /></head>\n",
              "<body>\n",
              "    <div>            <script src=\"https://cdnjs.cloudflare.com/ajax/libs/mathjax/2.7.5/MathJax.js?config=TeX-AMS-MML_SVG\"></script><script type=\"text/javascript\">if (window.MathJax && window.MathJax.Hub && window.MathJax.Hub.Config) {window.MathJax.Hub.Config({SVG: {font: \"STIX-Web\"}});}</script>                <script type=\"text/javascript\">window.PlotlyConfig = {MathJaxConfig: 'local'};</script>\n",
              "        <script charset=\"utf-8\" src=\"https://cdn.plot.ly/plotly-2.35.2.min.js\"></script>                <div id=\"d4edcde5-cefb-412f-a7fe-b5f3043bdb96\" class=\"plotly-graph-div\" style=\"height:525px; width:100%;\"></div>            <script type=\"text/javascript\">                                    window.PLOTLYENV=window.PLOTLYENV || {};                                    if (document.getElementById(\"d4edcde5-cefb-412f-a7fe-b5f3043bdb96\")) {                    Plotly.newPlot(                        \"d4edcde5-cefb-412f-a7fe-b5f3043bdb96\",                        [{\"line\":{\"width\":2},\"mode\":\"lines+markers\",\"name\":\"Market Price\",\"x\":[\"2025-09-30T00:00:00-04:00\",\"2025-10-01T00:00:00-04:00\",\"2025-10-02T00:00:00-04:00\",\"2025-10-03T00:00:00-04:00\",\"2025-10-06T00:00:00-04:00\",\"2025-10-07T00:00:00-04:00\",\"2025-10-08T00:00:00-04:00\",\"2025-10-09T00:00:00-04:00\",\"2025-10-10T00:00:00-04:00\",\"2025-10-13T00:00:00-04:00\",\"2025-10-14T00:00:00-04:00\",\"2025-10-15T00:00:00-04:00\",\"2025-10-16T00:00:00-04:00\",\"2025-10-17T00:00:00-04:00\",\"2025-10-20T00:00:00-04:00\",\"2025-10-21T00:00:00-04:00\",\"2025-10-22T00:00:00-04:00\",\"2025-10-23T00:00:00-04:00\",\"2025-10-24T00:00:00-04:00\",\"2025-10-27T00:00:00-04:00\",\"2025-10-28T00:00:00-04:00\",\"2025-10-29T00:00:00-04:00\"],\"y\":[444.7200012207031,459.4599914550781,436.0,429.8299865722656,453.25,433.0899963378906,438.69000244140625,435.5400085449219,413.489990234375,435.8999938964844,429.239990234375,435.1499938964844,428.75,439.30999755859375,447.42999267578125,442.6000061035156,438.9700012207031,448.9800109863281,433.7200012207031,452.4200134277344,460.54998779296875,461.510009765625],\"type\":\"scatter\"}],                        {\"template\":{\"data\":{\"histogram2dcontour\":[{\"type\":\"histogram2dcontour\",\"colorbar\":{\"outlinewidth\":0,\"ticks\":\"\"},\"colorscale\":[[0.0,\"#0d0887\"],[0.1111111111111111,\"#46039f\"],[0.2222222222222222,\"#7201a8\"],[0.3333333333333333,\"#9c179e\"],[0.4444444444444444,\"#bd3786\"],[0.5555555555555556,\"#d8576b\"],[0.6666666666666666,\"#ed7953\"],[0.7777777777777778,\"#fb9f3a\"],[0.8888888888888888,\"#fdca26\"],[1.0,\"#f0f921\"]]}],\"choropleth\":[{\"type\":\"choropleth\",\"colorbar\":{\"outlinewidth\":0,\"ticks\":\"\"}}],\"histogram2d\":[{\"type\":\"histogram2d\",\"colorbar\":{\"outlinewidth\":0,\"ticks\":\"\"},\"colorscale\":[[0.0,\"#0d0887\"],[0.1111111111111111,\"#46039f\"],[0.2222222222222222,\"#7201a8\"],[0.3333333333333333,\"#9c179e\"],[0.4444444444444444,\"#bd3786\"],[0.5555555555555556,\"#d8576b\"],[0.6666666666666666,\"#ed7953\"],[0.7777777777777778,\"#fb9f3a\"],[0.8888888888888888,\"#fdca26\"],[1.0,\"#f0f921\"]]}],\"heatmap\":[{\"type\":\"heatmap\",\"colorbar\":{\"outlinewidth\":0,\"ticks\":\"\"},\"colorscale\":[[0.0,\"#0d0887\"],[0.1111111111111111,\"#46039f\"],[0.2222222222222222,\"#7201a8\"],[0.3333333333333333,\"#9c179e\"],[0.4444444444444444,\"#bd3786\"],[0.5555555555555556,\"#d8576b\"],[0.6666666666666666,\"#ed7953\"],[0.7777777777777778,\"#fb9f3a\"],[0.8888888888888888,\"#fdca26\"],[1.0,\"#f0f921\"]]}],\"heatmapgl\":[{\"type\":\"heatmapgl\",\"colorbar\":{\"outlinewidth\":0,\"ticks\":\"\"},\"colorscale\":[[0.0,\"#0d0887\"],[0.1111111111111111,\"#46039f\"],[0.2222222222222222,\"#7201a8\"],[0.3333333333333333,\"#9c179e\"],[0.4444444444444444,\"#bd3786\"],[0.5555555555555556,\"#d8576b\"],[0.6666666666666666,\"#ed7953\"],[0.7777777777777778,\"#fb9f3a\"],[0.8888888888888888,\"#fdca26\"],[1.0,\"#f0f921\"]]}],\"contourcarpet\":[{\"type\":\"contourcarpet\",\"colorbar\":{\"outlinewidth\":0,\"ticks\":\"\"}}],\"contour\":[{\"type\":\"contour\",\"colorbar\":{\"outlinewidth\":0,\"ticks\":\"\"},\"colorscale\":[[0.0,\"#0d0887\"],[0.1111111111111111,\"#46039f\"],[0.2222222222222222,\"#7201a8\"],[0.3333333333333333,\"#9c179e\"],[0.4444444444444444,\"#bd3786\"],[0.5555555555555556,\"#d8576b\"],[0.6666666666666666,\"#ed7953\"],[0.7777777777777778,\"#fb9f3a\"],[0.8888888888888888,\"#fdca26\"],[1.0,\"#f0f921\"]]}],\"surface\":[{\"type\":\"surface\",\"colorbar\":{\"outlinewidth\":0,\"ticks\":\"\"},\"colorscale\":[[0.0,\"#0d0887\"],[0.1111111111111111,\"#46039f\"],[0.2222222222222222,\"#7201a8\"],[0.3333333333333333,\"#9c179e\"],[0.4444444444444444,\"#bd3786\"],[0.5555555555555556,\"#d8576b\"],[0.6666666666666666,\"#ed7953\"],[0.7777777777777778,\"#fb9f3a\"],[0.8888888888888888,\"#fdca26\"],[1.0,\"#f0f921\"]]}],\"mesh3d\":[{\"type\":\"mesh3d\",\"colorbar\":{\"outlinewidth\":0,\"ticks\":\"\"}}],\"scatter\":[{\"fillpattern\":{\"fillmode\":\"overlay\",\"size\":10,\"solidity\":0.2},\"type\":\"scatter\"}],\"parcoords\":[{\"type\":\"parcoords\",\"line\":{\"colorbar\":{\"outlinewidth\":0,\"ticks\":\"\"}}}],\"scatterpolargl\":[{\"type\":\"scatterpolargl\",\"marker\":{\"colorbar\":{\"outlinewidth\":0,\"ticks\":\"\"}}}],\"bar\":[{\"error_x\":{\"color\":\"#2a3f5f\"},\"error_y\":{\"color\":\"#2a3f5f\"},\"marker\":{\"line\":{\"color\":\"#E5ECF6\",\"width\":0.5},\"pattern\":{\"fillmode\":\"overlay\",\"size\":10,\"solidity\":0.2}},\"type\":\"bar\"}],\"scattergeo\":[{\"type\":\"scattergeo\",\"marker\":{\"colorbar\":{\"outlinewidth\":0,\"ticks\":\"\"}}}],\"scatterpolar\":[{\"type\":\"scatterpolar\",\"marker\":{\"colorbar\":{\"outlinewidth\":0,\"ticks\":\"\"}}}],\"histogram\":[{\"marker\":{\"pattern\":{\"fillmode\":\"overlay\",\"size\":10,\"solidity\":0.2}},\"type\":\"histogram\"}],\"scattergl\":[{\"type\":\"scattergl\",\"marker\":{\"colorbar\":{\"outlinewidth\":0,\"ticks\":\"\"}}}],\"scatter3d\":[{\"type\":\"scatter3d\",\"line\":{\"colorbar\":{\"outlinewidth\":0,\"ticks\":\"\"}},\"marker\":{\"colorbar\":{\"outlinewidth\":0,\"ticks\":\"\"}}}],\"scattermapbox\":[{\"type\":\"scattermapbox\",\"marker\":{\"colorbar\":{\"outlinewidth\":0,\"ticks\":\"\"}}}],\"scatterternary\":[{\"type\":\"scatterternary\",\"marker\":{\"colorbar\":{\"outlinewidth\":0,\"ticks\":\"\"}}}],\"scattercarpet\":[{\"type\":\"scattercarpet\",\"marker\":{\"colorbar\":{\"outlinewidth\":0,\"ticks\":\"\"}}}],\"carpet\":[{\"aaxis\":{\"endlinecolor\":\"#2a3f5f\",\"gridcolor\":\"white\",\"linecolor\":\"white\",\"minorgridcolor\":\"white\",\"startlinecolor\":\"#2a3f5f\"},\"baxis\":{\"endlinecolor\":\"#2a3f5f\",\"gridcolor\":\"white\",\"linecolor\":\"white\",\"minorgridcolor\":\"white\",\"startlinecolor\":\"#2a3f5f\"},\"type\":\"carpet\"}],\"table\":[{\"cells\":{\"fill\":{\"color\":\"#EBF0F8\"},\"line\":{\"color\":\"white\"}},\"header\":{\"fill\":{\"color\":\"#C8D4E3\"},\"line\":{\"color\":\"white\"}},\"type\":\"table\"}],\"barpolar\":[{\"marker\":{\"line\":{\"color\":\"#E5ECF6\",\"width\":0.5},\"pattern\":{\"fillmode\":\"overlay\",\"size\":10,\"solidity\":0.2}},\"type\":\"barpolar\"}],\"pie\":[{\"automargin\":true,\"type\":\"pie\"}]},\"layout\":{\"autotypenumbers\":\"strict\",\"colorway\":[\"#636efa\",\"#EF553B\",\"#00cc96\",\"#ab63fa\",\"#FFA15A\",\"#19d3f3\",\"#FF6692\",\"#B6E880\",\"#FF97FF\",\"#FECB52\"],\"font\":{\"color\":\"#2a3f5f\"},\"hovermode\":\"closest\",\"hoverlabel\":{\"align\":\"left\"},\"paper_bgcolor\":\"white\",\"plot_bgcolor\":\"#E5ECF6\",\"polar\":{\"bgcolor\":\"#E5ECF6\",\"angularaxis\":{\"gridcolor\":\"white\",\"linecolor\":\"white\",\"ticks\":\"\"},\"radialaxis\":{\"gridcolor\":\"white\",\"linecolor\":\"white\",\"ticks\":\"\"}},\"ternary\":{\"bgcolor\":\"#E5ECF6\",\"aaxis\":{\"gridcolor\":\"white\",\"linecolor\":\"white\",\"ticks\":\"\"},\"baxis\":{\"gridcolor\":\"white\",\"linecolor\":\"white\",\"ticks\":\"\"},\"caxis\":{\"gridcolor\":\"white\",\"linecolor\":\"white\",\"ticks\":\"\"}},\"coloraxis\":{\"colorbar\":{\"outlinewidth\":0,\"ticks\":\"\"}},\"colorscale\":{\"sequential\":[[0.0,\"#0d0887\"],[0.1111111111111111,\"#46039f\"],[0.2222222222222222,\"#7201a8\"],[0.3333333333333333,\"#9c179e\"],[0.4444444444444444,\"#bd3786\"],[0.5555555555555556,\"#d8576b\"],[0.6666666666666666,\"#ed7953\"],[0.7777777777777778,\"#fb9f3a\"],[0.8888888888888888,\"#fdca26\"],[1.0,\"#f0f921\"]],\"sequentialminus\":[[0.0,\"#0d0887\"],[0.1111111111111111,\"#46039f\"],[0.2222222222222222,\"#7201a8\"],[0.3333333333333333,\"#9c179e\"],[0.4444444444444444,\"#bd3786\"],[0.5555555555555556,\"#d8576b\"],[0.6666666666666666,\"#ed7953\"],[0.7777777777777778,\"#fb9f3a\"],[0.8888888888888888,\"#fdca26\"],[1.0,\"#f0f921\"]],\"diverging\":[[0,\"#8e0152\"],[0.1,\"#c51b7d\"],[0.2,\"#de77ae\"],[0.3,\"#f1b6da\"],[0.4,\"#fde0ef\"],[0.5,\"#f7f7f7\"],[0.6,\"#e6f5d0\"],[0.7,\"#b8e186\"],[0.8,\"#7fbc41\"],[0.9,\"#4d9221\"],[1,\"#276419\"]]},\"xaxis\":{\"gridcolor\":\"white\",\"linecolor\":\"white\",\"ticks\":\"\",\"title\":{\"standoff\":15},\"zerolinecolor\":\"white\",\"automargin\":true,\"zerolinewidth\":2},\"yaxis\":{\"gridcolor\":\"white\",\"linecolor\":\"white\",\"ticks\":\"\",\"title\":{\"standoff\":15},\"zerolinecolor\":\"white\",\"automargin\":true,\"zerolinewidth\":2},\"scene\":{\"xaxis\":{\"backgroundcolor\":\"#E5ECF6\",\"gridcolor\":\"white\",\"linecolor\":\"white\",\"showbackground\":true,\"ticks\":\"\",\"zerolinecolor\":\"white\",\"gridwidth\":2},\"yaxis\":{\"backgroundcolor\":\"#E5ECF6\",\"gridcolor\":\"white\",\"linecolor\":\"white\",\"showbackground\":true,\"ticks\":\"\",\"zerolinecolor\":\"white\",\"gridwidth\":2},\"zaxis\":{\"backgroundcolor\":\"#E5ECF6\",\"gridcolor\":\"white\",\"linecolor\":\"white\",\"showbackground\":true,\"ticks\":\"\",\"zerolinecolor\":\"white\",\"gridwidth\":2}},\"shapedefaults\":{\"line\":{\"color\":\"#2a3f5f\"}},\"annotationdefaults\":{\"arrowcolor\":\"#2a3f5f\",\"arrowhead\":0,\"arrowwidth\":1},\"geo\":{\"bgcolor\":\"white\",\"landcolor\":\"#E5ECF6\",\"subunitcolor\":\"white\",\"showland\":true,\"showlakes\":true,\"lakecolor\":\"white\"},\"title\":{\"x\":0.05},\"mapbox\":{\"style\":\"light\"}}},\"title\":{\"text\":\"tesla Market Price Trend (Last 30 Days)\"},\"xaxis\":{\"title\":{\"text\":\"Date\"}},\"yaxis\":{\"title\":{\"text\":\"Price (USD)\"}},\"hovermode\":\"x\"},                        {\"responsive\": true}                    ).then(function(){\n",
              "                            \n",
              "var gd = document.getElementById('d4edcde5-cefb-412f-a7fe-b5f3043bdb96');\n",
              "var x = new MutationObserver(function (mutations, observer) {{\n",
              "        var display = window.getComputedStyle(gd).display;\n",
              "        if (!display || display === 'none') {{\n",
              "            console.log([gd, 'removed!']);\n",
              "            Plotly.purge(gd);\n",
              "            observer.disconnect();\n",
              "        }}\n",
              "}});\n",
              "\n",
              "// Listen for the removal of the full notebook cells\n",
              "var notebookContainer = gd.closest('#notebook-container');\n",
              "if (notebookContainer) {{\n",
              "    x.observe(notebookContainer, {childList: true});\n",
              "}}\n",
              "\n",
              "// Listen for the clearing of the current output cell\n",
              "var outputEl = gd.closest('.output');\n",
              "if (outputEl) {{\n",
              "    x.observe(outputEl, {childList: true});\n",
              "}}\n",
              "\n",
              "                        })                };                            </script>        </div>\n",
              "</body>\n",
              "</html>"
            ]
          },
          "metadata": {}
        }
      ]
    },
    {
      "cell_type": "markdown",
      "source": [
        "③ Tweet Sentiment Trend"
      ],
      "metadata": {
        "id": "KBCQb8bDYgOp"
      }
    },
    {
      "cell_type": "code",
      "source": [
        "tweets_df = df[df[\"Source\"]==\"Tweet\"].copy()\n",
        "tweets_df[\"Index\"] = range(1, len(tweets_df)+1)\n",
        "\n",
        "fig3 = px.line(\n",
        "    tweets_df, x=\"Index\", y=\"Polarity\",\n",
        "    title=\"Sentiment Trend Across Tweets\",\n",
        "    markers=True, line_shape=\"spline\"\n",
        ")\n",
        "fig3.update_layout(xaxis_title=\"Tweet Index\", yaxis_title=\"Sentiment Polarity (-1 to 1)\")\n",
        "fig3.show()"
      ],
      "metadata": {
        "colab": {
          "base_uri": "https://localhost:8080/",
          "height": 542
        },
        "id": "y1P7ixlKYVZB",
        "outputId": "fab1fdfd-fddd-4f19-b14a-cb99c6c6ac5e"
      },
      "execution_count": 59,
      "outputs": [
        {
          "output_type": "display_data",
          "data": {
            "text/html": [
              "<html>\n",
              "<head><meta charset=\"utf-8\" /></head>\n",
              "<body>\n",
              "    <div>            <script src=\"https://cdnjs.cloudflare.com/ajax/libs/mathjax/2.7.5/MathJax.js?config=TeX-AMS-MML_SVG\"></script><script type=\"text/javascript\">if (window.MathJax && window.MathJax.Hub && window.MathJax.Hub.Config) {window.MathJax.Hub.Config({SVG: {font: \"STIX-Web\"}});}</script>                <script type=\"text/javascript\">window.PlotlyConfig = {MathJaxConfig: 'local'};</script>\n",
              "        <script charset=\"utf-8\" src=\"https://cdn.plot.ly/plotly-2.35.2.min.js\"></script>                <div id=\"bc852ae4-0335-4874-803e-7a7b22f317fc\" class=\"plotly-graph-div\" style=\"height:525px; width:100%;\"></div>            <script type=\"text/javascript\">                                    window.PLOTLYENV=window.PLOTLYENV || {};                                    if (document.getElementById(\"bc852ae4-0335-4874-803e-7a7b22f317fc\")) {                    Plotly.newPlot(                        \"bc852ae4-0335-4874-803e-7a7b22f317fc\",                        [{\"hovertemplate\":\"Index=%{x}\\u003cbr\\u003ePolarity=%{y}\\u003cextra\\u003e\\u003c\\u002fextra\\u003e\",\"legendgroup\":\"\",\"line\":{\"color\":\"#636efa\",\"dash\":\"solid\",\"shape\":\"spline\"},\"marker\":{\"symbol\":\"circle\"},\"mode\":\"lines+markers\",\"name\":\"\",\"orientation\":\"v\",\"showlegend\":false,\"x\":[1,2,3,4,5,6,7,8,9,10,11,12,13,14,15,16,17,18,19,20,21,22,23,24,25,26,27,28,29,30,31,32,33,34,35,36,37,38,39,40,41,42,43,44,45,46,47,48,49,50],\"xaxis\":\"x\",\"y\":[0.65,0.65,0.65,0.65,0.65,0.65,0.65,0.65,0.65,0.65,0.65,0.65,0.65,0.65,0.65,0.65,0.65,0.65,0.65,0.65,0.65,0.65,0.65,0.65,0.65,-0.3,-0.3,-0.3,-0.3,-0.3,-0.3,-0.3,-0.3,-0.3,-0.3,-0.3,-0.3,-0.3,-0.3,-0.3,-0.3,-0.3,-0.3,-0.3,-0.3,-0.3,-0.3,-0.3,-0.3,-0.3],\"yaxis\":\"y\",\"type\":\"scatter\"}],                        {\"template\":{\"data\":{\"histogram2dcontour\":[{\"type\":\"histogram2dcontour\",\"colorbar\":{\"outlinewidth\":0,\"ticks\":\"\"},\"colorscale\":[[0.0,\"#0d0887\"],[0.1111111111111111,\"#46039f\"],[0.2222222222222222,\"#7201a8\"],[0.3333333333333333,\"#9c179e\"],[0.4444444444444444,\"#bd3786\"],[0.5555555555555556,\"#d8576b\"],[0.6666666666666666,\"#ed7953\"],[0.7777777777777778,\"#fb9f3a\"],[0.8888888888888888,\"#fdca26\"],[1.0,\"#f0f921\"]]}],\"choropleth\":[{\"type\":\"choropleth\",\"colorbar\":{\"outlinewidth\":0,\"ticks\":\"\"}}],\"histogram2d\":[{\"type\":\"histogram2d\",\"colorbar\":{\"outlinewidth\":0,\"ticks\":\"\"},\"colorscale\":[[0.0,\"#0d0887\"],[0.1111111111111111,\"#46039f\"],[0.2222222222222222,\"#7201a8\"],[0.3333333333333333,\"#9c179e\"],[0.4444444444444444,\"#bd3786\"],[0.5555555555555556,\"#d8576b\"],[0.6666666666666666,\"#ed7953\"],[0.7777777777777778,\"#fb9f3a\"],[0.8888888888888888,\"#fdca26\"],[1.0,\"#f0f921\"]]}],\"heatmap\":[{\"type\":\"heatmap\",\"colorbar\":{\"outlinewidth\":0,\"ticks\":\"\"},\"colorscale\":[[0.0,\"#0d0887\"],[0.1111111111111111,\"#46039f\"],[0.2222222222222222,\"#7201a8\"],[0.3333333333333333,\"#9c179e\"],[0.4444444444444444,\"#bd3786\"],[0.5555555555555556,\"#d8576b\"],[0.6666666666666666,\"#ed7953\"],[0.7777777777777778,\"#fb9f3a\"],[0.8888888888888888,\"#fdca26\"],[1.0,\"#f0f921\"]]}],\"heatmapgl\":[{\"type\":\"heatmapgl\",\"colorbar\":{\"outlinewidth\":0,\"ticks\":\"\"},\"colorscale\":[[0.0,\"#0d0887\"],[0.1111111111111111,\"#46039f\"],[0.2222222222222222,\"#7201a8\"],[0.3333333333333333,\"#9c179e\"],[0.4444444444444444,\"#bd3786\"],[0.5555555555555556,\"#d8576b\"],[0.6666666666666666,\"#ed7953\"],[0.7777777777777778,\"#fb9f3a\"],[0.8888888888888888,\"#fdca26\"],[1.0,\"#f0f921\"]]}],\"contourcarpet\":[{\"type\":\"contourcarpet\",\"colorbar\":{\"outlinewidth\":0,\"ticks\":\"\"}}],\"contour\":[{\"type\":\"contour\",\"colorbar\":{\"outlinewidth\":0,\"ticks\":\"\"},\"colorscale\":[[0.0,\"#0d0887\"],[0.1111111111111111,\"#46039f\"],[0.2222222222222222,\"#7201a8\"],[0.3333333333333333,\"#9c179e\"],[0.4444444444444444,\"#bd3786\"],[0.5555555555555556,\"#d8576b\"],[0.6666666666666666,\"#ed7953\"],[0.7777777777777778,\"#fb9f3a\"],[0.8888888888888888,\"#fdca26\"],[1.0,\"#f0f921\"]]}],\"surface\":[{\"type\":\"surface\",\"colorbar\":{\"outlinewidth\":0,\"ticks\":\"\"},\"colorscale\":[[0.0,\"#0d0887\"],[0.1111111111111111,\"#46039f\"],[0.2222222222222222,\"#7201a8\"],[0.3333333333333333,\"#9c179e\"],[0.4444444444444444,\"#bd3786\"],[0.5555555555555556,\"#d8576b\"],[0.6666666666666666,\"#ed7953\"],[0.7777777777777778,\"#fb9f3a\"],[0.8888888888888888,\"#fdca26\"],[1.0,\"#f0f921\"]]}],\"mesh3d\":[{\"type\":\"mesh3d\",\"colorbar\":{\"outlinewidth\":0,\"ticks\":\"\"}}],\"scatter\":[{\"fillpattern\":{\"fillmode\":\"overlay\",\"size\":10,\"solidity\":0.2},\"type\":\"scatter\"}],\"parcoords\":[{\"type\":\"parcoords\",\"line\":{\"colorbar\":{\"outlinewidth\":0,\"ticks\":\"\"}}}],\"scatterpolargl\":[{\"type\":\"scatterpolargl\",\"marker\":{\"colorbar\":{\"outlinewidth\":0,\"ticks\":\"\"}}}],\"bar\":[{\"error_x\":{\"color\":\"#2a3f5f\"},\"error_y\":{\"color\":\"#2a3f5f\"},\"marker\":{\"line\":{\"color\":\"#E5ECF6\",\"width\":0.5},\"pattern\":{\"fillmode\":\"overlay\",\"size\":10,\"solidity\":0.2}},\"type\":\"bar\"}],\"scattergeo\":[{\"type\":\"scattergeo\",\"marker\":{\"colorbar\":{\"outlinewidth\":0,\"ticks\":\"\"}}}],\"scatterpolar\":[{\"type\":\"scatterpolar\",\"marker\":{\"colorbar\":{\"outlinewidth\":0,\"ticks\":\"\"}}}],\"histogram\":[{\"marker\":{\"pattern\":{\"fillmode\":\"overlay\",\"size\":10,\"solidity\":0.2}},\"type\":\"histogram\"}],\"scattergl\":[{\"type\":\"scattergl\",\"marker\":{\"colorbar\":{\"outlinewidth\":0,\"ticks\":\"\"}}}],\"scatter3d\":[{\"type\":\"scatter3d\",\"line\":{\"colorbar\":{\"outlinewidth\":0,\"ticks\":\"\"}},\"marker\":{\"colorbar\":{\"outlinewidth\":0,\"ticks\":\"\"}}}],\"scattermapbox\":[{\"type\":\"scattermapbox\",\"marker\":{\"colorbar\":{\"outlinewidth\":0,\"ticks\":\"\"}}}],\"scatterternary\":[{\"type\":\"scatterternary\",\"marker\":{\"colorbar\":{\"outlinewidth\":0,\"ticks\":\"\"}}}],\"scattercarpet\":[{\"type\":\"scattercarpet\",\"marker\":{\"colorbar\":{\"outlinewidth\":0,\"ticks\":\"\"}}}],\"carpet\":[{\"aaxis\":{\"endlinecolor\":\"#2a3f5f\",\"gridcolor\":\"white\",\"linecolor\":\"white\",\"minorgridcolor\":\"white\",\"startlinecolor\":\"#2a3f5f\"},\"baxis\":{\"endlinecolor\":\"#2a3f5f\",\"gridcolor\":\"white\",\"linecolor\":\"white\",\"minorgridcolor\":\"white\",\"startlinecolor\":\"#2a3f5f\"},\"type\":\"carpet\"}],\"table\":[{\"cells\":{\"fill\":{\"color\":\"#EBF0F8\"},\"line\":{\"color\":\"white\"}},\"header\":{\"fill\":{\"color\":\"#C8D4E3\"},\"line\":{\"color\":\"white\"}},\"type\":\"table\"}],\"barpolar\":[{\"marker\":{\"line\":{\"color\":\"#E5ECF6\",\"width\":0.5},\"pattern\":{\"fillmode\":\"overlay\",\"size\":10,\"solidity\":0.2}},\"type\":\"barpolar\"}],\"pie\":[{\"automargin\":true,\"type\":\"pie\"}]},\"layout\":{\"autotypenumbers\":\"strict\",\"colorway\":[\"#636efa\",\"#EF553B\",\"#00cc96\",\"#ab63fa\",\"#FFA15A\",\"#19d3f3\",\"#FF6692\",\"#B6E880\",\"#FF97FF\",\"#FECB52\"],\"font\":{\"color\":\"#2a3f5f\"},\"hovermode\":\"closest\",\"hoverlabel\":{\"align\":\"left\"},\"paper_bgcolor\":\"white\",\"plot_bgcolor\":\"#E5ECF6\",\"polar\":{\"bgcolor\":\"#E5ECF6\",\"angularaxis\":{\"gridcolor\":\"white\",\"linecolor\":\"white\",\"ticks\":\"\"},\"radialaxis\":{\"gridcolor\":\"white\",\"linecolor\":\"white\",\"ticks\":\"\"}},\"ternary\":{\"bgcolor\":\"#E5ECF6\",\"aaxis\":{\"gridcolor\":\"white\",\"linecolor\":\"white\",\"ticks\":\"\"},\"baxis\":{\"gridcolor\":\"white\",\"linecolor\":\"white\",\"ticks\":\"\"},\"caxis\":{\"gridcolor\":\"white\",\"linecolor\":\"white\",\"ticks\":\"\"}},\"coloraxis\":{\"colorbar\":{\"outlinewidth\":0,\"ticks\":\"\"}},\"colorscale\":{\"sequential\":[[0.0,\"#0d0887\"],[0.1111111111111111,\"#46039f\"],[0.2222222222222222,\"#7201a8\"],[0.3333333333333333,\"#9c179e\"],[0.4444444444444444,\"#bd3786\"],[0.5555555555555556,\"#d8576b\"],[0.6666666666666666,\"#ed7953\"],[0.7777777777777778,\"#fb9f3a\"],[0.8888888888888888,\"#fdca26\"],[1.0,\"#f0f921\"]],\"sequentialminus\":[[0.0,\"#0d0887\"],[0.1111111111111111,\"#46039f\"],[0.2222222222222222,\"#7201a8\"],[0.3333333333333333,\"#9c179e\"],[0.4444444444444444,\"#bd3786\"],[0.5555555555555556,\"#d8576b\"],[0.6666666666666666,\"#ed7953\"],[0.7777777777777778,\"#fb9f3a\"],[0.8888888888888888,\"#fdca26\"],[1.0,\"#f0f921\"]],\"diverging\":[[0,\"#8e0152\"],[0.1,\"#c51b7d\"],[0.2,\"#de77ae\"],[0.3,\"#f1b6da\"],[0.4,\"#fde0ef\"],[0.5,\"#f7f7f7\"],[0.6,\"#e6f5d0\"],[0.7,\"#b8e186\"],[0.8,\"#7fbc41\"],[0.9,\"#4d9221\"],[1,\"#276419\"]]},\"xaxis\":{\"gridcolor\":\"white\",\"linecolor\":\"white\",\"ticks\":\"\",\"title\":{\"standoff\":15},\"zerolinecolor\":\"white\",\"automargin\":true,\"zerolinewidth\":2},\"yaxis\":{\"gridcolor\":\"white\",\"linecolor\":\"white\",\"ticks\":\"\",\"title\":{\"standoff\":15},\"zerolinecolor\":\"white\",\"automargin\":true,\"zerolinewidth\":2},\"scene\":{\"xaxis\":{\"backgroundcolor\":\"#E5ECF6\",\"gridcolor\":\"white\",\"linecolor\":\"white\",\"showbackground\":true,\"ticks\":\"\",\"zerolinecolor\":\"white\",\"gridwidth\":2},\"yaxis\":{\"backgroundcolor\":\"#E5ECF6\",\"gridcolor\":\"white\",\"linecolor\":\"white\",\"showbackground\":true,\"ticks\":\"\",\"zerolinecolor\":\"white\",\"gridwidth\":2},\"zaxis\":{\"backgroundcolor\":\"#E5ECF6\",\"gridcolor\":\"white\",\"linecolor\":\"white\",\"showbackground\":true,\"ticks\":\"\",\"zerolinecolor\":\"white\",\"gridwidth\":2}},\"shapedefaults\":{\"line\":{\"color\":\"#2a3f5f\"}},\"annotationdefaults\":{\"arrowcolor\":\"#2a3f5f\",\"arrowhead\":0,\"arrowwidth\":1},\"geo\":{\"bgcolor\":\"white\",\"landcolor\":\"#E5ECF6\",\"subunitcolor\":\"white\",\"showland\":true,\"showlakes\":true,\"lakecolor\":\"white\"},\"title\":{\"x\":0.05},\"mapbox\":{\"style\":\"light\"}}},\"xaxis\":{\"anchor\":\"y\",\"domain\":[0.0,1.0],\"title\":{\"text\":\"Tweet Index\"}},\"yaxis\":{\"anchor\":\"x\",\"domain\":[0.0,1.0],\"title\":{\"text\":\"Sentiment Polarity (-1 to 1)\"}},\"legend\":{\"tracegroupgap\":0},\"title\":{\"text\":\"Sentiment Trend Across Tweets\"}},                        {\"responsive\": true}                    ).then(function(){\n",
              "                            \n",
              "var gd = document.getElementById('bc852ae4-0335-4874-803e-7a7b22f317fc');\n",
              "var x = new MutationObserver(function (mutations, observer) {{\n",
              "        var display = window.getComputedStyle(gd).display;\n",
              "        if (!display || display === 'none') {{\n",
              "            console.log([gd, 'removed!']);\n",
              "            Plotly.purge(gd);\n",
              "            observer.disconnect();\n",
              "        }}\n",
              "}});\n",
              "\n",
              "// Listen for the removal of the full notebook cells\n",
              "var notebookContainer = gd.closest('#notebook-container');\n",
              "if (notebookContainer) {{\n",
              "    x.observe(notebookContainer, {childList: true});\n",
              "}}\n",
              "\n",
              "// Listen for the clearing of the current output cell\n",
              "var outputEl = gd.closest('.output');\n",
              "if (outputEl) {{\n",
              "    x.observe(outputEl, {childList: true});\n",
              "}}\n",
              "\n",
              "                        })                };                            </script>        </div>\n",
              "</body>\n",
              "</html>"
            ]
          },
          "metadata": {}
        }
      ]
    },
    {
      "cell_type": "markdown",
      "source": [
        "④ Sentiment by Source (Extra Insight)"
      ],
      "metadata": {
        "id": "A9Lg_V_3Yjk1"
      }
    },
    {
      "cell_type": "code",
      "source": [
        "fig4 = px.box(\n",
        "    df, x=\"Source\", y=\"Polarity\", color=\"Source\",\n",
        "    title=\"Sentiment Distribution by Data Source\"\n",
        ")\n",
        "fig4.update_traces(boxmean=True)\n",
        "fig4.show()"
      ],
      "metadata": {
        "colab": {
          "base_uri": "https://localhost:8080/",
          "height": 542
        },
        "id": "YNEq5GJOYY_Z",
        "outputId": "3d60d965-2fee-44cf-a91b-01da0704d530"
      },
      "execution_count": 60,
      "outputs": [
        {
          "output_type": "display_data",
          "data": {
            "text/html": [
              "<html>\n",
              "<head><meta charset=\"utf-8\" /></head>\n",
              "<body>\n",
              "    <div>            <script src=\"https://cdnjs.cloudflare.com/ajax/libs/mathjax/2.7.5/MathJax.js?config=TeX-AMS-MML_SVG\"></script><script type=\"text/javascript\">if (window.MathJax && window.MathJax.Hub && window.MathJax.Hub.Config) {window.MathJax.Hub.Config({SVG: {font: \"STIX-Web\"}});}</script>                <script type=\"text/javascript\">window.PlotlyConfig = {MathJaxConfig: 'local'};</script>\n",
              "        <script charset=\"utf-8\" src=\"https://cdn.plot.ly/plotly-2.35.2.min.js\"></script>                <div id=\"2494eec8-5de9-47ad-9c87-93a015e548d6\" class=\"plotly-graph-div\" style=\"height:525px; width:100%;\"></div>            <script type=\"text/javascript\">                                    window.PLOTLYENV=window.PLOTLYENV || {};                                    if (document.getElementById(\"2494eec8-5de9-47ad-9c87-93a015e548d6\")) {                    Plotly.newPlot(                        \"2494eec8-5de9-47ad-9c87-93a015e548d6\",                        [{\"alignmentgroup\":\"True\",\"hovertemplate\":\"Source=%{x}\\u003cbr\\u003ePolarity=%{y}\\u003cextra\\u003e\\u003c\\u002fextra\\u003e\",\"legendgroup\":\"Wikipedia\",\"marker\":{\"color\":\"#636efa\"},\"name\":\"Wikipedia\",\"notched\":false,\"offsetgroup\":\"Wikipedia\",\"orientation\":\"v\",\"showlegend\":true,\"x\":[\"Wikipedia\"],\"x0\":\" \",\"xaxis\":\"x\",\"y\":[0.0],\"y0\":\" \",\"yaxis\":\"y\",\"type\":\"box\",\"boxmean\":true},{\"alignmentgroup\":\"True\",\"hovertemplate\":\"Source=%{x}\\u003cbr\\u003ePolarity=%{y}\\u003cextra\\u003e\\u003c\\u002fextra\\u003e\",\"legendgroup\":\"News\",\"marker\":{\"color\":\"#EF553B\"},\"name\":\"News\",\"notched\":false,\"offsetgroup\":\"News\",\"orientation\":\"v\",\"showlegend\":true,\"x\":[\"News\",\"News\",\"News\",\"News\",\"News\",\"News\",\"News\",\"News\",\"News\",\"News\",\"News\",\"News\",\"News\",\"News\",\"News\",\"News\",\"News\",\"News\",\"News\",\"News\",\"News\",\"News\",\"News\",\"News\",\"News\",\"News\",\"News\",\"News\",\"News\",\"News\",\"News\",\"News\",\"News\",\"News\",\"News\",\"News\",\"News\",\"News\",\"News\",\"News\",\"News\",\"News\",\"News\",\"News\",\"News\",\"News\",\"News\",\"News\",\"News\",\"News\",\"News\",\"News\",\"News\",\"News\",\"News\",\"News\",\"News\",\"News\",\"News\",\"News\",\"News\",\"News\",\"News\",\"News\",\"News\",\"News\",\"News\",\"News\",\"News\",\"News\",\"News\",\"News\",\"News\",\"News\",\"News\",\"News\",\"News\",\"News\",\"News\",\"News\",\"News\",\"News\",\"News\",\"News\",\"News\",\"News\",\"News\",\"News\",\"News\",\"News\",\"News\",\"News\",\"News\",\"News\",\"News\",\"News\",\"News\",\"News\",\"News\"],\"x0\":\" \",\"xaxis\":\"x\",\"y\":[-0.07777777777777778,0.0,0.0,0.0,0.125,0.0,0.16,0.7,0.25,0.0,0.4666666666666667,0.25,0.0,0.37878787878787873,-0.03181818181818183,0.0,-0.2,0.0,0.0,0.39999999999999997,0.35714285714285715,-0.2,-0.125,0.0,0.0,0.0,0.0,0.36818181818181817,0.0,0.06818181818181818,0.0,0.5,0.0,-0.625,-1.0,0.0,0.375,0.1875,0.0,0.03333333333333333,0.125,0.0,0.15,0.0,-0.2,0.16818181818181818,0.3,0.0,0.0,0.0,0.0,0.0,0.0,0.0,0.6,0.0,0.0,0.0,0.4,0.0,0.5,0.125,0.07777777777777779,0.0,0.2,0.0,0.0,0.0,0.0,0.25,0.0,0.0,0.1,0.25,-0.625,0.25,0.0,0.0,0.38409090909090904,0.0,-0.1,0.0,0.0,0.3333333333333333,0.0,0.0,0.39999999999999997,0.1481818181818182,0.0,0.6,0.0,0.0,-0.18181818181818182,0.0,0.0,-0.3125,0.0,-0.05,0.4],\"y0\":\" \",\"yaxis\":\"y\",\"type\":\"box\",\"boxmean\":true},{\"alignmentgroup\":\"True\",\"hovertemplate\":\"Source=%{x}\\u003cbr\\u003ePolarity=%{y}\\u003cextra\\u003e\\u003c\\u002fextra\\u003e\",\"legendgroup\":\"Tweet\",\"marker\":{\"color\":\"#00cc96\"},\"name\":\"Tweet\",\"notched\":false,\"offsetgroup\":\"Tweet\",\"orientation\":\"v\",\"showlegend\":true,\"x\":[\"Tweet\",\"Tweet\",\"Tweet\",\"Tweet\",\"Tweet\",\"Tweet\",\"Tweet\",\"Tweet\",\"Tweet\",\"Tweet\",\"Tweet\",\"Tweet\",\"Tweet\",\"Tweet\",\"Tweet\",\"Tweet\",\"Tweet\",\"Tweet\",\"Tweet\",\"Tweet\",\"Tweet\",\"Tweet\",\"Tweet\",\"Tweet\",\"Tweet\",\"Tweet\",\"Tweet\",\"Tweet\",\"Tweet\",\"Tweet\",\"Tweet\",\"Tweet\",\"Tweet\",\"Tweet\",\"Tweet\",\"Tweet\",\"Tweet\",\"Tweet\",\"Tweet\",\"Tweet\",\"Tweet\",\"Tweet\",\"Tweet\",\"Tweet\",\"Tweet\",\"Tweet\",\"Tweet\",\"Tweet\",\"Tweet\",\"Tweet\"],\"x0\":\" \",\"xaxis\":\"x\",\"y\":[0.65,0.65,0.65,0.65,0.65,0.65,0.65,0.65,0.65,0.65,0.65,0.65,0.65,0.65,0.65,0.65,0.65,0.65,0.65,0.65,0.65,0.65,0.65,0.65,0.65,-0.3,-0.3,-0.3,-0.3,-0.3,-0.3,-0.3,-0.3,-0.3,-0.3,-0.3,-0.3,-0.3,-0.3,-0.3,-0.3,-0.3,-0.3,-0.3,-0.3,-0.3,-0.3,-0.3,-0.3,-0.3],\"y0\":\" \",\"yaxis\":\"y\",\"type\":\"box\",\"boxmean\":true}],                        {\"template\":{\"data\":{\"histogram2dcontour\":[{\"type\":\"histogram2dcontour\",\"colorbar\":{\"outlinewidth\":0,\"ticks\":\"\"},\"colorscale\":[[0.0,\"#0d0887\"],[0.1111111111111111,\"#46039f\"],[0.2222222222222222,\"#7201a8\"],[0.3333333333333333,\"#9c179e\"],[0.4444444444444444,\"#bd3786\"],[0.5555555555555556,\"#d8576b\"],[0.6666666666666666,\"#ed7953\"],[0.7777777777777778,\"#fb9f3a\"],[0.8888888888888888,\"#fdca26\"],[1.0,\"#f0f921\"]]}],\"choropleth\":[{\"type\":\"choropleth\",\"colorbar\":{\"outlinewidth\":0,\"ticks\":\"\"}}],\"histogram2d\":[{\"type\":\"histogram2d\",\"colorbar\":{\"outlinewidth\":0,\"ticks\":\"\"},\"colorscale\":[[0.0,\"#0d0887\"],[0.1111111111111111,\"#46039f\"],[0.2222222222222222,\"#7201a8\"],[0.3333333333333333,\"#9c179e\"],[0.4444444444444444,\"#bd3786\"],[0.5555555555555556,\"#d8576b\"],[0.6666666666666666,\"#ed7953\"],[0.7777777777777778,\"#fb9f3a\"],[0.8888888888888888,\"#fdca26\"],[1.0,\"#f0f921\"]]}],\"heatmap\":[{\"type\":\"heatmap\",\"colorbar\":{\"outlinewidth\":0,\"ticks\":\"\"},\"colorscale\":[[0.0,\"#0d0887\"],[0.1111111111111111,\"#46039f\"],[0.2222222222222222,\"#7201a8\"],[0.3333333333333333,\"#9c179e\"],[0.4444444444444444,\"#bd3786\"],[0.5555555555555556,\"#d8576b\"],[0.6666666666666666,\"#ed7953\"],[0.7777777777777778,\"#fb9f3a\"],[0.8888888888888888,\"#fdca26\"],[1.0,\"#f0f921\"]]}],\"heatmapgl\":[{\"type\":\"heatmapgl\",\"colorbar\":{\"outlinewidth\":0,\"ticks\":\"\"},\"colorscale\":[[0.0,\"#0d0887\"],[0.1111111111111111,\"#46039f\"],[0.2222222222222222,\"#7201a8\"],[0.3333333333333333,\"#9c179e\"],[0.4444444444444444,\"#bd3786\"],[0.5555555555555556,\"#d8576b\"],[0.6666666666666666,\"#ed7953\"],[0.7777777777777778,\"#fb9f3a\"],[0.8888888888888888,\"#fdca26\"],[1.0,\"#f0f921\"]]}],\"contourcarpet\":[{\"type\":\"contourcarpet\",\"colorbar\":{\"outlinewidth\":0,\"ticks\":\"\"}}],\"contour\":[{\"type\":\"contour\",\"colorbar\":{\"outlinewidth\":0,\"ticks\":\"\"},\"colorscale\":[[0.0,\"#0d0887\"],[0.1111111111111111,\"#46039f\"],[0.2222222222222222,\"#7201a8\"],[0.3333333333333333,\"#9c179e\"],[0.4444444444444444,\"#bd3786\"],[0.5555555555555556,\"#d8576b\"],[0.6666666666666666,\"#ed7953\"],[0.7777777777777778,\"#fb9f3a\"],[0.8888888888888888,\"#fdca26\"],[1.0,\"#f0f921\"]]}],\"surface\":[{\"type\":\"surface\",\"colorbar\":{\"outlinewidth\":0,\"ticks\":\"\"},\"colorscale\":[[0.0,\"#0d0887\"],[0.1111111111111111,\"#46039f\"],[0.2222222222222222,\"#7201a8\"],[0.3333333333333333,\"#9c179e\"],[0.4444444444444444,\"#bd3786\"],[0.5555555555555556,\"#d8576b\"],[0.6666666666666666,\"#ed7953\"],[0.7777777777777778,\"#fb9f3a\"],[0.8888888888888888,\"#fdca26\"],[1.0,\"#f0f921\"]]}],\"mesh3d\":[{\"type\":\"mesh3d\",\"colorbar\":{\"outlinewidth\":0,\"ticks\":\"\"}}],\"scatter\":[{\"fillpattern\":{\"fillmode\":\"overlay\",\"size\":10,\"solidity\":0.2},\"type\":\"scatter\"}],\"parcoords\":[{\"type\":\"parcoords\",\"line\":{\"colorbar\":{\"outlinewidth\":0,\"ticks\":\"\"}}}],\"scatterpolargl\":[{\"type\":\"scatterpolargl\",\"marker\":{\"colorbar\":{\"outlinewidth\":0,\"ticks\":\"\"}}}],\"bar\":[{\"error_x\":{\"color\":\"#2a3f5f\"},\"error_y\":{\"color\":\"#2a3f5f\"},\"marker\":{\"line\":{\"color\":\"#E5ECF6\",\"width\":0.5},\"pattern\":{\"fillmode\":\"overlay\",\"size\":10,\"solidity\":0.2}},\"type\":\"bar\"}],\"scattergeo\":[{\"type\":\"scattergeo\",\"marker\":{\"colorbar\":{\"outlinewidth\":0,\"ticks\":\"\"}}}],\"scatterpolar\":[{\"type\":\"scatterpolar\",\"marker\":{\"colorbar\":{\"outlinewidth\":0,\"ticks\":\"\"}}}],\"histogram\":[{\"marker\":{\"pattern\":{\"fillmode\":\"overlay\",\"size\":10,\"solidity\":0.2}},\"type\":\"histogram\"}],\"scattergl\":[{\"type\":\"scattergl\",\"marker\":{\"colorbar\":{\"outlinewidth\":0,\"ticks\":\"\"}}}],\"scatter3d\":[{\"type\":\"scatter3d\",\"line\":{\"colorbar\":{\"outlinewidth\":0,\"ticks\":\"\"}},\"marker\":{\"colorbar\":{\"outlinewidth\":0,\"ticks\":\"\"}}}],\"scattermapbox\":[{\"type\":\"scattermapbox\",\"marker\":{\"colorbar\":{\"outlinewidth\":0,\"ticks\":\"\"}}}],\"scatterternary\":[{\"type\":\"scatterternary\",\"marker\":{\"colorbar\":{\"outlinewidth\":0,\"ticks\":\"\"}}}],\"scattercarpet\":[{\"type\":\"scattercarpet\",\"marker\":{\"colorbar\":{\"outlinewidth\":0,\"ticks\":\"\"}}}],\"carpet\":[{\"aaxis\":{\"endlinecolor\":\"#2a3f5f\",\"gridcolor\":\"white\",\"linecolor\":\"white\",\"minorgridcolor\":\"white\",\"startlinecolor\":\"#2a3f5f\"},\"baxis\":{\"endlinecolor\":\"#2a3f5f\",\"gridcolor\":\"white\",\"linecolor\":\"white\",\"minorgridcolor\":\"white\",\"startlinecolor\":\"#2a3f5f\"},\"type\":\"carpet\"}],\"table\":[{\"cells\":{\"fill\":{\"color\":\"#EBF0F8\"},\"line\":{\"color\":\"white\"}},\"header\":{\"fill\":{\"color\":\"#C8D4E3\"},\"line\":{\"color\":\"white\"}},\"type\":\"table\"}],\"barpolar\":[{\"marker\":{\"line\":{\"color\":\"#E5ECF6\",\"width\":0.5},\"pattern\":{\"fillmode\":\"overlay\",\"size\":10,\"solidity\":0.2}},\"type\":\"barpolar\"}],\"pie\":[{\"automargin\":true,\"type\":\"pie\"}]},\"layout\":{\"autotypenumbers\":\"strict\",\"colorway\":[\"#636efa\",\"#EF553B\",\"#00cc96\",\"#ab63fa\",\"#FFA15A\",\"#19d3f3\",\"#FF6692\",\"#B6E880\",\"#FF97FF\",\"#FECB52\"],\"font\":{\"color\":\"#2a3f5f\"},\"hovermode\":\"closest\",\"hoverlabel\":{\"align\":\"left\"},\"paper_bgcolor\":\"white\",\"plot_bgcolor\":\"#E5ECF6\",\"polar\":{\"bgcolor\":\"#E5ECF6\",\"angularaxis\":{\"gridcolor\":\"white\",\"linecolor\":\"white\",\"ticks\":\"\"},\"radialaxis\":{\"gridcolor\":\"white\",\"linecolor\":\"white\",\"ticks\":\"\"}},\"ternary\":{\"bgcolor\":\"#E5ECF6\",\"aaxis\":{\"gridcolor\":\"white\",\"linecolor\":\"white\",\"ticks\":\"\"},\"baxis\":{\"gridcolor\":\"white\",\"linecolor\":\"white\",\"ticks\":\"\"},\"caxis\":{\"gridcolor\":\"white\",\"linecolor\":\"white\",\"ticks\":\"\"}},\"coloraxis\":{\"colorbar\":{\"outlinewidth\":0,\"ticks\":\"\"}},\"colorscale\":{\"sequential\":[[0.0,\"#0d0887\"],[0.1111111111111111,\"#46039f\"],[0.2222222222222222,\"#7201a8\"],[0.3333333333333333,\"#9c179e\"],[0.4444444444444444,\"#bd3786\"],[0.5555555555555556,\"#d8576b\"],[0.6666666666666666,\"#ed7953\"],[0.7777777777777778,\"#fb9f3a\"],[0.8888888888888888,\"#fdca26\"],[1.0,\"#f0f921\"]],\"sequentialminus\":[[0.0,\"#0d0887\"],[0.1111111111111111,\"#46039f\"],[0.2222222222222222,\"#7201a8\"],[0.3333333333333333,\"#9c179e\"],[0.4444444444444444,\"#bd3786\"],[0.5555555555555556,\"#d8576b\"],[0.6666666666666666,\"#ed7953\"],[0.7777777777777778,\"#fb9f3a\"],[0.8888888888888888,\"#fdca26\"],[1.0,\"#f0f921\"]],\"diverging\":[[0,\"#8e0152\"],[0.1,\"#c51b7d\"],[0.2,\"#de77ae\"],[0.3,\"#f1b6da\"],[0.4,\"#fde0ef\"],[0.5,\"#f7f7f7\"],[0.6,\"#e6f5d0\"],[0.7,\"#b8e186\"],[0.8,\"#7fbc41\"],[0.9,\"#4d9221\"],[1,\"#276419\"]]},\"xaxis\":{\"gridcolor\":\"white\",\"linecolor\":\"white\",\"ticks\":\"\",\"title\":{\"standoff\":15},\"zerolinecolor\":\"white\",\"automargin\":true,\"zerolinewidth\":2},\"yaxis\":{\"gridcolor\":\"white\",\"linecolor\":\"white\",\"ticks\":\"\",\"title\":{\"standoff\":15},\"zerolinecolor\":\"white\",\"automargin\":true,\"zerolinewidth\":2},\"scene\":{\"xaxis\":{\"backgroundcolor\":\"#E5ECF6\",\"gridcolor\":\"white\",\"linecolor\":\"white\",\"showbackground\":true,\"ticks\":\"\",\"zerolinecolor\":\"white\",\"gridwidth\":2},\"yaxis\":{\"backgroundcolor\":\"#E5ECF6\",\"gridcolor\":\"white\",\"linecolor\":\"white\",\"showbackground\":true,\"ticks\":\"\",\"zerolinecolor\":\"white\",\"gridwidth\":2},\"zaxis\":{\"backgroundcolor\":\"#E5ECF6\",\"gridcolor\":\"white\",\"linecolor\":\"white\",\"showbackground\":true,\"ticks\":\"\",\"zerolinecolor\":\"white\",\"gridwidth\":2}},\"shapedefaults\":{\"line\":{\"color\":\"#2a3f5f\"}},\"annotationdefaults\":{\"arrowcolor\":\"#2a3f5f\",\"arrowhead\":0,\"arrowwidth\":1},\"geo\":{\"bgcolor\":\"white\",\"landcolor\":\"#E5ECF6\",\"subunitcolor\":\"white\",\"showland\":true,\"showlakes\":true,\"lakecolor\":\"white\"},\"title\":{\"x\":0.05},\"mapbox\":{\"style\":\"light\"}}},\"xaxis\":{\"anchor\":\"y\",\"domain\":[0.0,1.0],\"title\":{\"text\":\"Source\"},\"categoryorder\":\"array\",\"categoryarray\":[\"Wikipedia\",\"News\",\"Tweet\"]},\"yaxis\":{\"anchor\":\"x\",\"domain\":[0.0,1.0],\"title\":{\"text\":\"Polarity\"}},\"legend\":{\"title\":{\"text\":\"Source\"},\"tracegroupgap\":0},\"title\":{\"text\":\"Sentiment Distribution by Data Source\"},\"boxmode\":\"overlay\"},                        {\"responsive\": true}                    ).then(function(){\n",
              "                            \n",
              "var gd = document.getElementById('2494eec8-5de9-47ad-9c87-93a015e548d6');\n",
              "var x = new MutationObserver(function (mutations, observer) {{\n",
              "        var display = window.getComputedStyle(gd).display;\n",
              "        if (!display || display === 'none') {{\n",
              "            console.log([gd, 'removed!']);\n",
              "            Plotly.purge(gd);\n",
              "            observer.disconnect();\n",
              "        }}\n",
              "}});\n",
              "\n",
              "// Listen for the removal of the full notebook cells\n",
              "var notebookContainer = gd.closest('#notebook-container');\n",
              "if (notebookContainer) {{\n",
              "    x.observe(notebookContainer, {childList: true});\n",
              "}}\n",
              "\n",
              "// Listen for the clearing of the current output cell\n",
              "var outputEl = gd.closest('.output');\n",
              "if (outputEl) {{\n",
              "    x.observe(outputEl, {childList: true});\n",
              "}}\n",
              "\n",
              "                        })                };                            </script>        </div>\n",
              "</body>\n",
              "</html>"
            ]
          },
          "metadata": {}
        }
      ]
    },
    {
      "cell_type": "markdown",
      "source": [
        "📈 Step 7 – Summary Output"
      ],
      "metadata": {
        "id": "fuYZ9DIOYsrJ"
      }
    },
    {
      "cell_type": "code",
      "source": [
        "print(\"📊 Company Analyzed :\", company)\n",
        "print(\"📰 Wikipedia Summary :\", summary)\n",
        "print(f\"😊 Average Sentiment Score : {df['Polarity'].mean():.3f}\")\n",
        "print(f\"✅ Positive Tweets     : {(df['Sentiment']=='Positive').mean()*100:.1f}%\")\n",
        "print(f\"❌ Negative Tweets     : {(df['Sentiment']=='Negative').mean()*100:.1f}%\")\n"
      ],
      "metadata": {
        "colab": {
          "base_uri": "https://localhost:8080/"
        },
        "id": "SMQ_TkaFYthG",
        "outputId": "a0e9964d-55ee-45b0-d332-e4c1bf270fdc"
      },
      "execution_count": 61,
      "outputs": [
        {
          "output_type": "stream",
          "name": "stdout",
          "text": [
            "📊 Company Analyzed : tesla\n",
            "📰 Wikipedia Summary : No Wikipedia summary found.\n",
            "😊 Average Sentiment Score : 0.103\n",
            "✅ Positive Tweets     : 40.0%\n",
            "❌ Negative Tweets     : 25.3%\n"
          ]
        }
      ]
    },
    {
      "cell_type": "markdown",
      "source": [
        "Alpha Vantage testing\n",
        "\n",
        "\n",
        "Alpha Vantage is a robust API for financial data."
      ],
      "metadata": {
        "id": "62c1-32lc4CM"
      }
    },
    {
      "cell_type": "code",
      "source": [
        "!pip install alpha_vantage --quiet\n"
      ],
      "metadata": {
        "id": "v_gy2qbdc9TK"
      },
      "execution_count": 29,
      "outputs": []
    },
    {
      "cell_type": "code",
      "source": [
        "!pip install yfinance --quiet"
      ],
      "metadata": {
        "id": "hvn-EosrgQY1"
      },
      "execution_count": 35,
      "outputs": []
    },
    {
      "cell_type": "markdown",
      "source": [
        "Import neccessary file and input taken"
      ],
      "metadata": {
        "id": "zQz7N7JYdRNr"
      }
    },
    {
      "cell_type": "markdown",
      "source": [
        "USER INPUT\n"
      ],
      "metadata": {
        "id": "NwBvKtX8gYYs"
      }
    },
    {
      "cell_type": "markdown",
      "source": [
        "Fetch time‐series data from the alpha vantage"
      ],
      "metadata": {
        "id": "0C6S-dZ7ddv-"
      }
    },
    {
      "cell_type": "code",
      "source": [],
      "metadata": {
        "id": "CSTWkeZwiMWM"
      },
      "execution_count": null,
      "outputs": []
    }
  ]
}